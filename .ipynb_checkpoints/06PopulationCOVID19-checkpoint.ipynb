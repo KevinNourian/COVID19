{
 "cells": [
  {
   "cell_type": "markdown",
   "id": "corresponding-arrival",
   "metadata": {},
   "source": [
    "# 06PopulationCOVID19"
   ]
  },
  {
   "cell_type": "markdown",
   "id": "every-inspiration",
   "metadata": {},
   "source": [
    "# Libraries"
   ]
  },
  {
   "cell_type": "code",
   "execution_count": 35,
   "id": "developing-fiction",
   "metadata": {},
   "outputs": [],
   "source": [
    "%matplotlib inline\n",
    "\n",
    "import pandas as pd\n",
    "import numpy as np\n",
    "import seaborn as sns\n",
    "import matplotlib.pyplot as plt\n",
    "import warnings\n",
    "from IPython.display import display"
   ]
  },
  {
   "cell_type": "markdown",
   "id": "specified-working",
   "metadata": {},
   "source": [
    "# Loading Data"
   ]
  },
  {
   "cell_type": "code",
   "execution_count": 36,
   "id": "incident-austin",
   "metadata": {},
   "outputs": [],
   "source": [
    "population = pd.read_csv(\n",
    "    \"C:\\py\\Projects\\TuringCollege\\COVID19\\DataSets\\population.csv\",\n",
    "    index_col=False,\n",
    "    skipinitialspace=True,\n",
    ")"
   ]
  },
  {
   "cell_type": "markdown",
   "id": "ceramic-opening",
   "metadata": {},
   "source": [
    "# Display Data"
   ]
  },
  {
   "cell_type": "code",
   "execution_count": 37,
   "id": "loving-athletics",
   "metadata": {},
   "outputs": [],
   "source": [
    "pd.set_option(\"max_rows\", None)"
   ]
  },
  {
   "cell_type": "code",
   "execution_count": 38,
   "id": "temporal-modern",
   "metadata": {},
   "outputs": [],
   "source": [
    "pd.set_option(\"max_columns\", None)"
   ]
  },
  {
   "cell_type": "markdown",
   "id": "bottom-norwegian",
   "metadata": {},
   "source": [
    "# Size"
   ]
  },
  {
   "cell_type": "code",
   "execution_count": 39,
   "id": "little-broadcasting",
   "metadata": {
    "scrolled": true
   },
   "outputs": [
    {
     "data": {
      "text/plain": [
       "(243, 12)"
      ]
     },
     "execution_count": 39,
     "metadata": {},
     "output_type": "execute_result"
    }
   ],
   "source": [
    "population.shape"
   ]
  },
  {
   "cell_type": "markdown",
   "id": "failing-blogger",
   "metadata": {},
   "source": [
    "# Missing Data"
   ]
  },
  {
   "cell_type": "code",
   "execution_count": 40,
   "id": "private-mumbai",
   "metadata": {
    "scrolled": false
   },
   "outputs": [
    {
     "data": {
      "text/plain": [
       "code                        0\n",
       "province                    0\n",
       "city                        0\n",
       "latitude                    0\n",
       "longitude                   0\n",
       "elementary_school_count     0\n",
       "kindergarten_count          0\n",
       "university_count            0\n",
       "academy_ratio               0\n",
       "elderly_population_ratio    0\n",
       "elderly_alone_ratio         0\n",
       "nursing_home_count          0\n",
       "dtype: int64"
      ]
     },
     "execution_count": 40,
     "metadata": {},
     "output_type": "execute_result"
    }
   ],
   "source": [
    "population.isna().sum()"
   ]
  },
  {
   "cell_type": "markdown",
   "id": "other-mitchell",
   "metadata": {},
   "source": [
    "# Data Types"
   ]
  },
  {
   "cell_type": "code",
   "execution_count": 41,
   "id": "described-engine",
   "metadata": {},
   "outputs": [
    {
     "data": {
      "text/plain": [
       "code                          int64\n",
       "province                     object\n",
       "city                         object\n",
       "latitude                    float64\n",
       "longitude                   float64\n",
       "elementary_school_count       int64\n",
       "kindergarten_count            int64\n",
       "university_count              int64\n",
       "academy_ratio               float64\n",
       "elderly_population_ratio    float64\n",
       "elderly_alone_ratio         float64\n",
       "nursing_home_count            int64\n",
       "dtype: object"
      ]
     },
     "execution_count": 41,
     "metadata": {},
     "output_type": "execute_result"
    }
   ],
   "source": [
    "population.dtypes"
   ]
  },
  {
   "cell_type": "code",
   "execution_count": 42,
   "id": "revolutionary-domain",
   "metadata": {
    "scrolled": false
   },
   "outputs": [
    {
     "data": {
      "text/plain": [
       "code                        0\n",
       "province                    0\n",
       "city                        0\n",
       "latitude                    0\n",
       "longitude                   0\n",
       "elementary_school_count     0\n",
       "kindergarten_count          0\n",
       "university_count            0\n",
       "academy_ratio               0\n",
       "elderly_population_ratio    0\n",
       "elderly_alone_ratio         0\n",
       "nursing_home_count          0\n",
       "dtype: int64"
      ]
     },
     "execution_count": 42,
     "metadata": {},
     "output_type": "execute_result"
    }
   ],
   "source": [
    "population.isna().sum()"
   ]
  },
  {
   "cell_type": "markdown",
   "id": "forced-ministry",
   "metadata": {},
   "source": [
    "# Delete Unneeded Columns"
   ]
  },
  {
   "cell_type": "code",
   "execution_count": 43,
   "id": "selective-mirror",
   "metadata": {},
   "outputs": [],
   "source": [
    "population = population.drop(\n",
    "    [\n",
    "        \"code\",\n",
    "        \"city\",\n",
    "        \"latitude\",\n",
    "        \"longitude\",\n",
    "        \"academy_ratio\",\n",
    "        \"elderly_population_ratio\",\n",
    "        \"elderly_alone_ratio\",\n",
    "    ],\n",
    "    axis=1,\n",
    ")"
   ]
  },
  {
   "cell_type": "markdown",
   "id": "green-arrangement",
   "metadata": {},
   "source": [
    "# Rename Columns"
   ]
  },
  {
   "cell_type": "code",
   "execution_count": 44,
   "id": "turkish-rental",
   "metadata": {},
   "outputs": [],
   "source": [
    "population.rename(\n",
    "    columns={\n",
    "        \"province\": \"Province\",\n",
    "        \"elementary_school_count\": \"Elem Schools\",\n",
    "        \"kindergarten_count\": \"Kindergartens\",\n",
    "        \"university_count\": \"Universities\",\n",
    "        \"nursing_home_count\": \"Nursing Homes\"\n",
    "        \n",
    "    },\n",
    "    inplace=True,\n",
    ")"
   ]
  },
  {
   "cell_type": "markdown",
   "id": "adverse-integral",
   "metadata": {},
   "source": [
    "# Reorder Columns"
   ]
  },
  {
   "cell_type": "code",
   "execution_count": 45,
   "id": "stopped-piece",
   "metadata": {},
   "outputs": [],
   "source": [
    "population = population[\n",
    "    [\n",
    "        \"Province\",\n",
    "        \"Kindergartens\",\n",
    "        \"Elem Schools\",\n",
    "        \"Universities\",\n",
    "        \"Nursing Homes\",\n",
    "    ]\n",
    "]"
   ]
  },
  {
   "cell_type": "markdown",
   "id": "efficient-subsection",
   "metadata": {},
   "source": [
    "# Dataset"
   ]
  },
  {
   "cell_type": "code",
   "execution_count": 46,
   "id": "white-details",
   "metadata": {
    "scrolled": true
   },
   "outputs": [
    {
     "data": {
      "text/html": [
       "<div>\n",
       "<style scoped>\n",
       "    .dataframe tbody tr th:only-of-type {\n",
       "        vertical-align: middle;\n",
       "    }\n",
       "\n",
       "    .dataframe tbody tr th {\n",
       "        vertical-align: top;\n",
       "    }\n",
       "\n",
       "    .dataframe thead th {\n",
       "        text-align: right;\n",
       "    }\n",
       "</style>\n",
       "<table border=\"1\" class=\"dataframe\">\n",
       "  <thead>\n",
       "    <tr style=\"text-align: right;\">\n",
       "      <th></th>\n",
       "      <th>Province</th>\n",
       "      <th>Kindergartens</th>\n",
       "      <th>Elem Schools</th>\n",
       "      <th>Universities</th>\n",
       "      <th>Nursing Homes</th>\n",
       "    </tr>\n",
       "  </thead>\n",
       "  <tbody>\n",
       "    <tr>\n",
       "      <th>0</th>\n",
       "      <td>Seoul</td>\n",
       "      <td>830</td>\n",
       "      <td>607</td>\n",
       "      <td>48</td>\n",
       "      <td>22739</td>\n",
       "    </tr>\n",
       "    <tr>\n",
       "      <th>1</th>\n",
       "      <td>Seoul</td>\n",
       "      <td>38</td>\n",
       "      <td>33</td>\n",
       "      <td>0</td>\n",
       "      <td>3088</td>\n",
       "    </tr>\n",
       "    <tr>\n",
       "      <th>2</th>\n",
       "      <td>Seoul</td>\n",
       "      <td>32</td>\n",
       "      <td>27</td>\n",
       "      <td>0</td>\n",
       "      <td>1023</td>\n",
       "    </tr>\n",
       "    <tr>\n",
       "      <th>3</th>\n",
       "      <td>Seoul</td>\n",
       "      <td>21</td>\n",
       "      <td>14</td>\n",
       "      <td>0</td>\n",
       "      <td>628</td>\n",
       "    </tr>\n",
       "    <tr>\n",
       "      <th>4</th>\n",
       "      <td>Seoul</td>\n",
       "      <td>56</td>\n",
       "      <td>36</td>\n",
       "      <td>1</td>\n",
       "      <td>1080</td>\n",
       "    </tr>\n",
       "  </tbody>\n",
       "</table>\n",
       "</div>"
      ],
      "text/plain": [
       "  Province  Kindergartens  Elem Schools  Universities  Nursing Homes\n",
       "0    Seoul            830           607            48          22739\n",
       "1    Seoul             38            33             0           3088\n",
       "2    Seoul             32            27             0           1023\n",
       "3    Seoul             21            14             0            628\n",
       "4    Seoul             56            36             1           1080"
      ]
     },
     "execution_count": 46,
     "metadata": {},
     "output_type": "execute_result"
    }
   ],
   "source": [
    "population.head()"
   ]
  },
  {
   "cell_type": "markdown",
   "id": "sharp-tolerance",
   "metadata": {},
   "source": [
    "# Nursing Homes"
   ]
  },
  {
   "cell_type": "code",
   "execution_count": 47,
   "id": "apparent-rabbit",
   "metadata": {},
   "outputs": [
    {
     "data": {
      "text/plain": [
       "Province\n",
       "Seoul                45478\n",
       "Gyeonggi-do          40982\n",
       "Busan                13504\n",
       "Gyeongsangnam-do     10728\n",
       "Daegu                10166\n",
       "Incheon               8994\n",
       "Gyeongsangbuk-do      8948\n",
       "Jeollabuk-do          7548\n",
       "Chungcheongnam-do     7282\n",
       "Jeollanam-do          6778\n",
       "Daejeon               5968\n",
       "Gwangju               5704\n",
       "Chungcheongbuk-do     5538\n",
       "Gangwon-do            5038\n",
       "Ulsan                 3602\n",
       "Jeju-do               1245\n",
       "Sejong                 491\n",
       "Name: Nursing Homes, dtype: int64"
      ]
     },
     "execution_count": 47,
     "metadata": {},
     "output_type": "execute_result"
    }
   ],
   "source": [
    "nursing_homes = population.groupby(['Province'])['Nursing Homes'].sum().sort_values(ascending = False)\n",
    "nursing_homes"
   ]
  },
  {
   "cell_type": "code",
   "execution_count": 68,
   "id": "unlimited-permit",
   "metadata": {
    "scrolled": true
   },
   "outputs": [
    {
     "data": {
      "text/html": [
       "<div>\n",
       "<style scoped>\n",
       "    .dataframe tbody tr th:only-of-type {\n",
       "        vertical-align: middle;\n",
       "    }\n",
       "\n",
       "    .dataframe tbody tr th {\n",
       "        vertical-align: top;\n",
       "    }\n",
       "\n",
       "    .dataframe thead th {\n",
       "        text-align: right;\n",
       "    }\n",
       "</style>\n",
       "<table border=\"1\" class=\"dataframe\">\n",
       "  <thead>\n",
       "    <tr style=\"text-align: right;\">\n",
       "      <th></th>\n",
       "      <th>Province</th>\n",
       "      <th>Nursing Homes</th>\n",
       "    </tr>\n",
       "  </thead>\n",
       "  <tbody>\n",
       "    <tr>\n",
       "      <th>0</th>\n",
       "      <td>Seoul</td>\n",
       "      <td>45478</td>\n",
       "    </tr>\n",
       "    <tr>\n",
       "      <th>1</th>\n",
       "      <td>Gyeonggi-do</td>\n",
       "      <td>40982</td>\n",
       "    </tr>\n",
       "    <tr>\n",
       "      <th>2</th>\n",
       "      <td>Busan</td>\n",
       "      <td>13504</td>\n",
       "    </tr>\n",
       "    <tr>\n",
       "      <th>3</th>\n",
       "      <td>Gyeongsangnam-do</td>\n",
       "      <td>10728</td>\n",
       "    </tr>\n",
       "    <tr>\n",
       "      <th>4</th>\n",
       "      <td>Daegu</td>\n",
       "      <td>10166</td>\n",
       "    </tr>\n",
       "  </tbody>\n",
       "</table>\n",
       "</div>"
      ],
      "text/plain": [
       "           Province  Nursing Homes\n",
       "0             Seoul          45478\n",
       "1       Gyeonggi-do          40982\n",
       "2             Busan          13504\n",
       "3  Gyeongsangnam-do          10728\n",
       "4             Daegu          10166"
      ]
     },
     "execution_count": 68,
     "metadata": {},
     "output_type": "execute_result"
    }
   ],
   "source": [
    "pd.set_option(\"display.max.columns\", None)\n",
    "pivot_nursing_homes = pd.pivot_table(\n",
    "    data=population,\n",
    "    index=\"Province\",\n",
    "    values=[\"Nursing Homes\"],\n",
    "    aggfunc=\"sum\",\n",
    ")\n",
    "\n",
    "pivot_nursing_homes = pivot_nursing_homes.loc[pivot_nursing_homes['Nursing Homes'] > 10000].sort_values('Nursing Homes',ascending = False)\n",
    "pivot_nursing_homes.reset_index(inplace=True)\n",
    "pivot_nursing_homes"
   ]
  },
  {
   "cell_type": "code",
   "execution_count": 69,
   "id": "wrapped-organization",
   "metadata": {},
   "outputs": [
    {
     "data": {
      "image/png": "[encoded data removed]",
      "text/plain": [
       "<Figure size 1440x576 with 1 Axes>"
      ]
     },
     "metadata": {
      "needs_background": "light"
     },
     "output_type": "display_data"
    }
   ],
   "source": [
    "ord_color = \"bisque\"\n",
    "spec_color = \"red\"\n",
    "\n",
    "palette = {\n",
    "    \"Seoul\": ord_color,\n",
    "    \"Gyeonggi-do\": ord_color,\n",
    "    \"Busan\": ord_color,\n",
    "    \"Gyeongsangnam-do\": ord_color,\n",
    "    \"Daegu\": spec_color,\n",
    "}\n",
    "\n",
    "\n",
    "plt.figure(figsize=(20, 8))\n",
    "chart = sns.barplot(\n",
    "    x=\"Province\",\n",
    "    y=\"Nursing Homes\",\n",
    "    data=pivot_nursing_homes,\n",
    "    ci=None,\n",
    "    order=pivot_nursing_homes.sort_values(\"Nursing Homes\", ascending=False).Province,\n",
    "    palette=palette,\n",
    ")\n",
    "\n",
    "sns.despine(left=True, bottom=True)\n",
    "plt.xticks(fontsize=16)\n",
    "plt.yticks(fontsize=16)\n",
    "plt.xlabel(\"Province\", fontsize=16, labelpad=25)\n",
    "plt.ylabel(\"Nursing Homes\", fontsize=16, labelpad=25)\n",
    "\n",
    "chart.bar_label(chart.containers[0], size=15)\n",
    "plt.title(\"Provinces with the Highest Number of Nursing Homes\", fontsize=18, y=1.1)\n",
    "chart.set_xticklabels(chart.get_xticklabels(), rotation=45, horizontalalignment=\"right\");"
   ]
  },
  {
   "cell_type": "markdown",
   "id": "naked-qualification",
   "metadata": {},
   "source": [
    "# Academic Institutions"
   ]
  },
  {
   "cell_type": "code",
   "execution_count": 58,
   "id": "confused-narrow",
   "metadata": {},
   "outputs": [],
   "source": [
    "academic = population.groupby(['Province'])[['Kindergartens', 'Elem Schools', 'Universities']].agg(sum)\n",
    "academic = academic.reset_index()\n",
    "academic\n",
    "academic ['Total'] = academic.sum(axis=1)\n",
    "academic = academic.sort_values('Total',ascending = False)\n",
    "academic = academic.loc[academic['Total'] > 1000].sort_values('Total',ascending = False)"
   ]
  },
  {
   "cell_type": "code",
   "execution_count": 65,
   "id": "accredited-alias",
   "metadata": {},
   "outputs": [
    {
     "data": {
      "image/png": "[encoded data removed]",
      "text/plain": [
       "<Figure size 1440x576 with 1 Axes>"
      ]
     },
     "metadata": {
      "needs_background": "light"
     },
     "output_type": "display_data"
    }
   ],
   "source": [
    "ord_color = \"bisque\"\n",
    "spec_color = \"red\"\n",
    "\n",
    "palette = {\n",
    "    \"Seoul\": ord_color,\n",
    "    \"Gyeonggi-do\": ord_color,\n",
    "    \"Busan\": ord_color,\n",
    "    \"Gyeongsangbuk-do\": ord_color,\n",
    "    \"Gyeongsangnam-do\": ord_color,\n",
    "    \"Jeollanam-do\": ord_color,\n",
    "    \"Jeollabuk-do\": ord_color,\n",
    "    \"Chungcheongnam-do\": ord_color,\n",
    "    \"Gangwon-do\": ord_color,\n",
    "    \"Incheon\": ord_color,\n",
    "    \"Chungcheongbuk-do\": ord_color,\n",
    "    \"Daegu\": spec_color,\n",
    "}\n",
    "\n",
    "\n",
    "plt.figure(figsize=(20, 8))\n",
    "chart = sns.barplot(\n",
    "    x=\"Province\",\n",
    "    y=\"Total\",\n",
    "    data=academic,\n",
    "    ci=None,\n",
    "    order=academic.sort_values(\"Total\", ascending=False).Province,\n",
    "    palette=palette,\n",
    ")\n",
    "\n",
    "sns.despine(left=True, bottom=True)\n",
    "plt.xticks(fontsize=16)\n",
    "plt.yticks(fontsize=16)\n",
    "plt.xlabel(\"Province\", fontsize=16, labelpad=25)\n",
    "plt.ylabel(\"Academic Institutions\", fontsize=16, labelpad=25)\n",
    "\n",
    "chart.bar_label(chart.containers[0], size=15)\n",
    "plt.title(\"Provinces with the Highest Number of Academic Institutions\", fontsize=18, y=1.1)\n",
    "chart.set_xticklabels(chart.get_xticklabels(), rotation=45, horizontalalignment=\"right\");"
   ]
  }
 ],
 "metadata": {
  "kernelspec": {
   "display_name": "Python 3",
   "language": "python",
   "name": "python3"
  },
  "language_info": {
   "codemirror_mode": {
    "name": "ipython",
    "version": 3
   },
   "file_extension": ".py",
   "mimetype": "text/x-python",
   "name": "python",
   "nbconvert_exporter": "python",
   "pygments_lexer": "ipython3",
   "version": "3.9.6"
  },
  "toc": {
   "base_numbering": 1,
   "nav_menu": {},
   "number_sections": true,
   "sideBar": true,
   "skip_h1_title": false,
   "title_cell": "Table of Contents",
   "title_sidebar": "Contents",
   "toc_cell": false,
   "toc_position": {},
   "toc_section_display": true,
   "toc_window_display": false
  }
 },
 "nbformat": 4,
 "nbformat_minor": 5
}
