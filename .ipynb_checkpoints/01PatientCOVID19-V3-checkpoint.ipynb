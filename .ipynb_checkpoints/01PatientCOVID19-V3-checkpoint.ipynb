{
 "cells": [
  {
   "cell_type": "markdown",
   "id": "twenty-sandwich",
   "metadata": {},
   "source": [
    "# 01PatientCOVID19V3"
   ]
  },
  {
   "cell_type": "markdown",
   "id": "every-inspiration",
   "metadata": {},
   "source": [
    "# Libraries"
   ]
  },
  {
   "cell_type": "code",
   "execution_count": 1,
   "id": "developing-fiction",
   "metadata": {},
   "outputs": [],
   "source": [
    "%matplotlib inline\n",
    "\n",
    "import pandas as pd\n",
    "import numpy as np\n",
    "import seaborn as sns\n",
    "import matplotlib.pyplot as plt\n",
    "import warnings\n",
    "from IPython.display import display\n",
    "\n",
    "sns.set_palette(\"pastel\")"
   ]
  },
  {
   "cell_type": "markdown",
   "id": "specified-working",
   "metadata": {},
   "source": [
    "# Loading Data"
   ]
  },
  {
   "cell_type": "code",
   "execution_count": 7,
   "id": "suspended-violence",
   "metadata": {},
   "outputs": [],
   "source": [
    "patient = pd.read_csv(\n",
    "    \"C:\\py\\Projects\\TuringCollege\\COVID19\\DataSets\\patient.csv\",\n",
    "    index_col=False,\n",
    "    skipinitialspace=True,\n",
    ")"
   ]
  },
  {
   "cell_type": "markdown",
   "id": "enormous-click",
   "metadata": {},
   "source": [
    "# Display Data"
   ]
  },
  {
   "cell_type": "code",
   "execution_count": 8,
   "id": "flying-conviction",
   "metadata": {},
   "outputs": [],
   "source": [
    "pd.set_option(\"max_rows\", None)"
   ]
  },
  {
   "cell_type": "markdown",
   "id": "visible-motel",
   "metadata": {},
   "source": [
    "# Size"
   ]
  },
  {
   "cell_type": "code",
   "execution_count": 9,
   "id": "ongoing-courtesy",
   "metadata": {
    "scrolled": true
   },
   "outputs": [
    {
     "data": {
      "text/plain": [
       "(5165, 14)"
      ]
     },
     "execution_count": 9,
     "metadata": {},
     "output_type": "execute_result"
    }
   ],
   "source": [
    "patient.shape"
   ]
  },
  {
   "cell_type": "markdown",
   "id": "assumed-sculpture",
   "metadata": {},
   "source": [
    "# Delete Unneeded Columns"
   ]
  },
  {
   "cell_type": "code",
   "execution_count": 11,
   "id": "frequent-retreat",
   "metadata": {},
   "outputs": [],
   "source": [
    "patient = patient.drop(\n",
    "    [\n",
    "        \"ID\",\n",
    "        \"city\",\n",
    "        \"infected_by\",\n",
    "        \"contact_number\",\n",
    "        \"symptom_onset_date\",\n",
    "        \"released_date\",\n",
    "        \"deceased_date\",\n",
    "        \"state\",\n",
    "        \"confirmed_date\"\n",
    "    ],\n",
    "    axis=1,\n",
    ")"
   ]
  },
  {
   "cell_type": "markdown",
   "id": "defensive-express",
   "metadata": {},
   "source": [
    "# Rename Columns"
   ]
  },
  {
   "cell_type": "code",
   "execution_count": 12,
   "id": "fiscal-wings",
   "metadata": {},
   "outputs": [
    {
     "data": {
      "text/html": [
       "<div>\n",
       "<style scoped>\n",
       "    .dataframe tbody tr th:only-of-type {\n",
       "        vertical-align: middle;\n",
       "    }\n",
       "\n",
       "    .dataframe tbody tr th {\n",
       "        vertical-align: top;\n",
       "    }\n",
       "\n",
       "    .dataframe thead th {\n",
       "        text-align: right;\n",
       "    }\n",
       "</style>\n",
       "<table border=\"1\" class=\"dataframe\">\n",
       "  <thead>\n",
       "    <tr style=\"text-align: right;\">\n",
       "      <th></th>\n",
       "      <th>Gender</th>\n",
       "      <th>Age</th>\n",
       "      <th>Country</th>\n",
       "      <th>Province</th>\n",
       "      <th>Infection Reason</th>\n",
       "    </tr>\n",
       "  </thead>\n",
       "  <tbody>\n",
       "    <tr>\n",
       "      <th>0</th>\n",
       "      <td>male</td>\n",
       "      <td>50s</td>\n",
       "      <td>Korea</td>\n",
       "      <td>Seoul</td>\n",
       "      <td>overseas inflow</td>\n",
       "    </tr>\n",
       "    <tr>\n",
       "      <th>1</th>\n",
       "      <td>male</td>\n",
       "      <td>30s</td>\n",
       "      <td>Korea</td>\n",
       "      <td>Seoul</td>\n",
       "      <td>overseas inflow</td>\n",
       "    </tr>\n",
       "    <tr>\n",
       "      <th>2</th>\n",
       "      <td>male</td>\n",
       "      <td>50s</td>\n",
       "      <td>Korea</td>\n",
       "      <td>Seoul</td>\n",
       "      <td>contact with patient</td>\n",
       "    </tr>\n",
       "    <tr>\n",
       "      <th>3</th>\n",
       "      <td>male</td>\n",
       "      <td>20s</td>\n",
       "      <td>Korea</td>\n",
       "      <td>Seoul</td>\n",
       "      <td>overseas inflow</td>\n",
       "    </tr>\n",
       "    <tr>\n",
       "      <th>4</th>\n",
       "      <td>female</td>\n",
       "      <td>20s</td>\n",
       "      <td>Korea</td>\n",
       "      <td>Seoul</td>\n",
       "      <td>contact with patient</td>\n",
       "    </tr>\n",
       "  </tbody>\n",
       "</table>\n",
       "</div>"
      ],
      "text/plain": [
       "   Gender  Age Country Province      Infection Reason\n",
       "0    male  50s   Korea    Seoul       overseas inflow\n",
       "1    male  30s   Korea    Seoul       overseas inflow\n",
       "2    male  50s   Korea    Seoul  contact with patient\n",
       "3    male  20s   Korea    Seoul       overseas inflow\n",
       "4  female  20s   Korea    Seoul  contact with patient"
      ]
     },
     "execution_count": 12,
     "metadata": {},
     "output_type": "execute_result"
    }
   ],
   "source": [
    "patient.rename(\n",
    "    columns={\n",
    "        \"sex\": \"Gender\",\n",
    "        \"age\": \"Age\",\n",
    "        \"infection_case\": \"Infection Reason\",\n",
    "        \"country\": \"Country\",\n",
    "        \"province\": \"Province\",\n",
    "        \"city\": \"City\",\n",
    "    },\n",
    "    inplace=True,\n",
    ")\n",
    "patient.head()"
   ]
  },
  {
   "cell_type": "markdown",
   "id": "behind-wagon",
   "metadata": {},
   "source": [
    "# Missing Data"
   ]
  },
  {
   "cell_type": "code",
   "execution_count": 13,
   "id": "cosmetic-updating",
   "metadata": {
    "scrolled": true
   },
   "outputs": [
    {
     "data": {
      "text/plain": [
       "Gender              1122\n",
       "Age                 1380\n",
       "Country                0\n",
       "Province               0\n",
       "Infection Reason     919\n",
       "dtype: int64"
      ]
     },
     "execution_count": 13,
     "metadata": {},
     "output_type": "execute_result"
    }
   ],
   "source": [
    "patient.isna().sum()"
   ]
  },
  {
   "cell_type": "code",
   "execution_count": 14,
   "id": "capable-inside",
   "metadata": {},
   "outputs": [],
   "source": [
    "patient.dropna(subset = ['Infection Reason'], how='any', inplace = True) "
   ]
  },
  {
   "cell_type": "code",
   "execution_count": 15,
   "id": "happy-border",
   "metadata": {},
   "outputs": [
    {
     "data": {
      "text/plain": [
       "Gender              0\n",
       "Age                 0\n",
       "Country             0\n",
       "Province            0\n",
       "Infection Reason    0\n",
       "dtype: int64"
      ]
     },
     "execution_count": 15,
     "metadata": {},
     "output_type": "execute_result"
    }
   ],
   "source": [
    "patient.fillna(value = \"MISSING\", inplace = True)\n",
    "patient.isna().sum()"
   ]
  },
  {
   "cell_type": "code",
   "execution_count": 16,
   "id": "shaped-ebony",
   "metadata": {},
   "outputs": [],
   "source": [
    "patient['Infection Reason'] = patient['Infection Reason'].str.replace('etc', 'MISSING')"
   ]
  },
  {
   "cell_type": "code",
   "execution_count": 17,
   "id": "caring-commons",
   "metadata": {
    "scrolled": true
   },
   "outputs": [
    {
     "data": {
      "text/html": [
       "<div>\n",
       "<style scoped>\n",
       "    .dataframe tbody tr th:only-of-type {\n",
       "        vertical-align: middle;\n",
       "    }\n",
       "\n",
       "    .dataframe tbody tr th {\n",
       "        vertical-align: top;\n",
       "    }\n",
       "\n",
       "    .dataframe thead th {\n",
       "        text-align: right;\n",
       "    }\n",
       "</style>\n",
       "<table border=\"1\" class=\"dataframe\">\n",
       "  <thead>\n",
       "    <tr style=\"text-align: right;\">\n",
       "      <th></th>\n",
       "      <th>Gender</th>\n",
       "      <th>Age</th>\n",
       "      <th>Country</th>\n",
       "      <th>Province</th>\n",
       "      <th>Infection Reason</th>\n",
       "    </tr>\n",
       "  </thead>\n",
       "  <tbody>\n",
       "    <tr>\n",
       "      <th>0</th>\n",
       "      <td>male</td>\n",
       "      <td>50s</td>\n",
       "      <td>Korea</td>\n",
       "      <td>Seoul</td>\n",
       "      <td>overseas inflow</td>\n",
       "    </tr>\n",
       "    <tr>\n",
       "      <th>1</th>\n",
       "      <td>male</td>\n",
       "      <td>30s</td>\n",
       "      <td>Korea</td>\n",
       "      <td>Seoul</td>\n",
       "      <td>overseas inflow</td>\n",
       "    </tr>\n",
       "    <tr>\n",
       "      <th>2</th>\n",
       "      <td>male</td>\n",
       "      <td>50s</td>\n",
       "      <td>Korea</td>\n",
       "      <td>Seoul</td>\n",
       "      <td>contact with patient</td>\n",
       "    </tr>\n",
       "    <tr>\n",
       "      <th>3</th>\n",
       "      <td>male</td>\n",
       "      <td>20s</td>\n",
       "      <td>Korea</td>\n",
       "      <td>Seoul</td>\n",
       "      <td>overseas inflow</td>\n",
       "    </tr>\n",
       "    <tr>\n",
       "      <th>4</th>\n",
       "      <td>female</td>\n",
       "      <td>20s</td>\n",
       "      <td>Korea</td>\n",
       "      <td>Seoul</td>\n",
       "      <td>contact with patient</td>\n",
       "    </tr>\n",
       "  </tbody>\n",
       "</table>\n",
       "</div>"
      ],
      "text/plain": [
       "   Gender  Age Country Province      Infection Reason\n",
       "0    male  50s   Korea    Seoul       overseas inflow\n",
       "1    male  30s   Korea    Seoul       overseas inflow\n",
       "2    male  50s   Korea    Seoul  contact with patient\n",
       "3    male  20s   Korea    Seoul       overseas inflow\n",
       "4  female  20s   Korea    Seoul  contact with patient"
      ]
     },
     "execution_count": 17,
     "metadata": {},
     "output_type": "execute_result"
    }
   ],
   "source": [
    "patient.head()"
   ]
  },
  {
   "cell_type": "markdown",
   "id": "laden-indie",
   "metadata": {},
   "source": [
    "# Delete Unneeded Data"
   ]
  },
  {
   "cell_type": "code",
   "execution_count": 18,
   "id": "amateur-steam",
   "metadata": {},
   "outputs": [],
   "source": [
    "patient = patient[patient.Country != \"China\"]"
   ]
  },
  {
   "cell_type": "code",
   "execution_count": 20,
   "id": "seventh-telephone",
   "metadata": {},
   "outputs": [
    {
     "data": {
      "text/html": [
       "<div>\n",
       "<style scoped>\n",
       "    .dataframe tbody tr th:only-of-type {\n",
       "        vertical-align: middle;\n",
       "    }\n",
       "\n",
       "    .dataframe tbody tr th {\n",
       "        vertical-align: top;\n",
       "    }\n",
       "\n",
       "    .dataframe thead th {\n",
       "        text-align: right;\n",
       "    }\n",
       "</style>\n",
       "<table border=\"1\" class=\"dataframe\">\n",
       "  <thead>\n",
       "    <tr style=\"text-align: right;\">\n",
       "      <th></th>\n",
       "      <th>Gender</th>\n",
       "      <th>Age</th>\n",
       "      <th>Province</th>\n",
       "      <th>Infection Reason</th>\n",
       "    </tr>\n",
       "  </thead>\n",
       "  <tbody>\n",
       "    <tr>\n",
       "      <th>0</th>\n",
       "      <td>male</td>\n",
       "      <td>50s</td>\n",
       "      <td>Seoul</td>\n",
       "      <td>overseas inflow</td>\n",
       "    </tr>\n",
       "    <tr>\n",
       "      <th>1</th>\n",
       "      <td>male</td>\n",
       "      <td>30s</td>\n",
       "      <td>Seoul</td>\n",
       "      <td>overseas inflow</td>\n",
       "    </tr>\n",
       "    <tr>\n",
       "      <th>2</th>\n",
       "      <td>male</td>\n",
       "      <td>50s</td>\n",
       "      <td>Seoul</td>\n",
       "      <td>contact with patient</td>\n",
       "    </tr>\n",
       "    <tr>\n",
       "      <th>3</th>\n",
       "      <td>male</td>\n",
       "      <td>20s</td>\n",
       "      <td>Seoul</td>\n",
       "      <td>overseas inflow</td>\n",
       "    </tr>\n",
       "    <tr>\n",
       "      <th>4</th>\n",
       "      <td>female</td>\n",
       "      <td>20s</td>\n",
       "      <td>Seoul</td>\n",
       "      <td>contact with patient</td>\n",
       "    </tr>\n",
       "  </tbody>\n",
       "</table>\n",
       "</div>"
      ],
      "text/plain": [
       "   Gender  Age Province      Infection Reason\n",
       "0    male  50s    Seoul       overseas inflow\n",
       "1    male  30s    Seoul       overseas inflow\n",
       "2    male  50s    Seoul  contact with patient\n",
       "3    male  20s    Seoul       overseas inflow\n",
       "4  female  20s    Seoul  contact with patient"
      ]
     },
     "execution_count": 20,
     "metadata": {},
     "output_type": "execute_result"
    }
   ],
   "source": [
    "patient = patient.drop(\n",
    "    [\n",
    "        \"Country\",\n",
    "    ],\n",
    "    axis=1,\n",
    ")\n",
    "patient.head()"
   ]
  },
  {
   "cell_type": "markdown",
   "id": "statistical-simpson",
   "metadata": {},
   "source": [
    "# Column Value Modifications "
   ]
  },
  {
   "cell_type": "code",
   "execution_count": 21,
   "id": "stunning-intervention",
   "metadata": {},
   "outputs": [],
   "source": [
    "patient.replace('overseas inflow', 'Overseas Inflow', inplace = True)\n",
    "patient.replace('contact with patient', 'Contact with Patient', inplace = True)\n",
    "patient.replace('male', 'Male', inplace = True)\n",
    "patient.replace('female', 'Female', inplace = True)"
   ]
  },
  {
   "cell_type": "markdown",
   "id": "bigger-hotel",
   "metadata": {},
   "source": [
    "# Column Order Modifications"
   ]
  },
  {
   "cell_type": "code",
   "execution_count": 22,
   "id": "remarkable-sustainability",
   "metadata": {},
   "outputs": [
    {
     "data": {
      "text/html": [
       "<div>\n",
       "<style scoped>\n",
       "    .dataframe tbody tr th:only-of-type {\n",
       "        vertical-align: middle;\n",
       "    }\n",
       "\n",
       "    .dataframe tbody tr th {\n",
       "        vertical-align: top;\n",
       "    }\n",
       "\n",
       "    .dataframe thead th {\n",
       "        text-align: right;\n",
       "    }\n",
       "</style>\n",
       "<table border=\"1\" class=\"dataframe\">\n",
       "  <thead>\n",
       "    <tr style=\"text-align: right;\">\n",
       "      <th></th>\n",
       "      <th>Age</th>\n",
       "      <th>Gender</th>\n",
       "      <th>Province</th>\n",
       "      <th>Infection Reason</th>\n",
       "    </tr>\n",
       "  </thead>\n",
       "  <tbody>\n",
       "    <tr>\n",
       "      <th>0</th>\n",
       "      <td>50s</td>\n",
       "      <td>Male</td>\n",
       "      <td>Seoul</td>\n",
       "      <td>Overseas Inflow</td>\n",
       "    </tr>\n",
       "    <tr>\n",
       "      <th>1</th>\n",
       "      <td>30s</td>\n",
       "      <td>Male</td>\n",
       "      <td>Seoul</td>\n",
       "      <td>Overseas Inflow</td>\n",
       "    </tr>\n",
       "    <tr>\n",
       "      <th>2</th>\n",
       "      <td>50s</td>\n",
       "      <td>Male</td>\n",
       "      <td>Seoul</td>\n",
       "      <td>Contact with Patient</td>\n",
       "    </tr>\n",
       "    <tr>\n",
       "      <th>3</th>\n",
       "      <td>20s</td>\n",
       "      <td>Male</td>\n",
       "      <td>Seoul</td>\n",
       "      <td>Overseas Inflow</td>\n",
       "    </tr>\n",
       "    <tr>\n",
       "      <th>4</th>\n",
       "      <td>20s</td>\n",
       "      <td>Female</td>\n",
       "      <td>Seoul</td>\n",
       "      <td>Contact with Patient</td>\n",
       "    </tr>\n",
       "  </tbody>\n",
       "</table>\n",
       "</div>"
      ],
      "text/plain": [
       "   Age  Gender Province      Infection Reason\n",
       "0  50s    Male    Seoul       Overseas Inflow\n",
       "1  30s    Male    Seoul       Overseas Inflow\n",
       "2  50s    Male    Seoul  Contact with Patient\n",
       "3  20s    Male    Seoul       Overseas Inflow\n",
       "4  20s  Female    Seoul  Contact with Patient"
      ]
     },
     "execution_count": 22,
     "metadata": {},
     "output_type": "execute_result"
    }
   ],
   "source": [
    "patient = patient[\n",
    "    [\"Age\", \"Gender\", \"Province\", \"Infection Reason\"]\n",
    "]\n",
    "patient.head()"
   ]
  },
  {
   "cell_type": "markdown",
   "id": "usual-serbia",
   "metadata": {},
   "source": [
    "# Infection Reasons"
   ]
  },
  {
   "cell_type": "code",
   "execution_count": 38,
   "id": "mechanical-reporter",
   "metadata": {},
   "outputs": [
    {
     "data": {
      "text/plain": [
       "Infection Reason\n",
       "Contact with Patient                             1607\n",
       "Overseas Inflow                                   834\n",
       "MISSING                                           703\n",
       "Itaewon Clubs                                     162\n",
       "Richway                                           128\n",
       "Guro-gu Call Center                               112\n",
       "Shincheonji Church                                106\n",
       "Coupang Logistics Center                           80\n",
       "Yangcheon Table Tennis Club                        44\n",
       "Day Care Center                                    43\n",
       "SMR Newly Planted Churches Group                   36\n",
       "Onchun Church                                      33\n",
       "Bonghwa Pureun Nursing Home                        31\n",
       "gym facility in Cheonan                            30\n",
       "Ministry of Oceans and Fisheries                   28\n",
       "Wangsung Church                                    24\n",
       "Cheongdo Daenam Hospital                           21\n",
       "Dongan Church                                      17\n",
       "Gyeongsan Seorin Nursing Home                      15\n",
       "Eunpyeong St. Mary's Hospital                      15\n",
       "Seongdong-gu APT                                   13\n",
       "Dunsan Electronics Town                            13\n",
       "KB Life Insurance                                  13\n",
       "Gyeongsan Jeil Silver Town                         12\n",
       "Milal Shelter                                      11\n",
       "Gyeongsan Cham Joeun Community Center              10\n",
       "Korea Campus Crusade of Christ                      7\n",
       "Samsung Medical Center                              7\n",
       "Orange Town                                         7\n",
       "Geumcheon-gu rice milling machine manufacture       6\n",
       "Geochang Church                                     6\n",
       "Gangnam Yeoksam-dong gathering                      6\n",
       "Guri Collective Infection                           5\n",
       "Yeonana News Class                                  5\n",
       "Seocho Family                                       5\n",
       "Yongin Brothers                                     4\n",
       "gym facility in Sejong                              4\n",
       "Samsung Fire & Marine Insurance                     4\n",
       "Changnyeong Coin Karaoke                            4\n",
       "Seoul City Hall Station safety worker               3\n",
       "Suyeong-gu Kindergarten                             3\n",
       "Biblical Language study meeting                     3\n",
       "Daezayeon Korea                                     3\n",
       "Yeongdeungpo Learning Institute                     3\n",
       "Pilgrimage to Israel                                2\n",
       "Uiwang Logistics Center                             2\n",
       "River of Grace Community Church                     1\n",
       "Orange Life                                         1\n",
       "Gangnam Dongin Church                               1\n",
       "Daejeon door-to-door sales                          1\n",
       "Anyang Gunpo Pastors Group                          1\n",
       "dtype: int64"
      ]
     },
     "execution_count": 38,
     "metadata": {},
     "output_type": "execute_result"
    }
   ],
   "source": [
    "patient.groupby(['Infection Reason']).size().sort_values(ascending=False)"
   ]
  },
  {
   "cell_type": "code",
   "execution_count": null,
   "id": "occupied-zambia",
   "metadata": {},
   "outputs": [],
   "source": []
  }
 ],
 "metadata": {
  "kernelspec": {
   "display_name": "Python 3",
   "language": "python",
   "name": "python3"
  },
  "language_info": {
   "codemirror_mode": {
    "name": "ipython",
    "version": 3
   },
   "file_extension": ".py",
   "mimetype": "text/x-python",
   "name": "python",
   "nbconvert_exporter": "python",
   "pygments_lexer": "ipython3",
   "version": "3.9.6"
  },
  "toc": {
   "base_numbering": 1,
   "nav_menu": {},
   "number_sections": true,
   "sideBar": true,
   "skip_h1_title": false,
   "title_cell": "Table of Contents",
   "title_sidebar": "Contents",
   "toc_cell": false,
   "toc_position": {},
   "toc_section_display": true,
   "toc_window_display": false
  }
 },
 "nbformat": 4,
 "nbformat_minor": 5
}
