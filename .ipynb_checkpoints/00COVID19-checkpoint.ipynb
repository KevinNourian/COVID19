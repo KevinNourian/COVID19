{
 "cells": [
  {
   "cell_type": "markdown",
   "id": "twenty-sandwich",
   "metadata": {},
   "source": [
    "# South Korea COVID 19 Analysis"
   ]
  },
  {
   "cell_type": "markdown",
   "id": "behavioral-kentucky",
   "metadata": {
    "toc": true
   },
   "source": [
    "<h1>Table of Contents<span class=\"tocSkip\"></span></h1>\n",
    "<div class=\"toc\"><ul class=\"toc-item\"><li><span><a href=\"#South-Korea-COVID-19-Analysis\" data-toc-modified-id=\"South-Korea-COVID-19-Analysis-1\"><span class=\"toc-item-num\">1&nbsp;&nbsp;</span>South Korea COVID 19 Analysis</a></span></li><li><span><a href=\"#Introduction\" data-toc-modified-id=\"Introduction-2\"><span class=\"toc-item-num\">2&nbsp;&nbsp;</span>Introduction</a></span></li><li><span><a href=\"#Goals\" data-toc-modified-id=\"Goals-3\"><span class=\"toc-item-num\">3&nbsp;&nbsp;</span>Goals</a></span></li><li><span><a href=\"#Technical-Requirements\" data-toc-modified-id=\"Technical-Requirements-4\"><span class=\"toc-item-num\">4&nbsp;&nbsp;</span>Technical Requirements</a></span></li><li><span><a href=\"#Libraries\" data-toc-modified-id=\"Libraries-5\"><span class=\"toc-item-num\">5&nbsp;&nbsp;</span>Libraries</a></span></li><li><span><a href=\"#Loading-Data\" data-toc-modified-id=\"Loading-Data-6\"><span class=\"toc-item-num\">6&nbsp;&nbsp;</span>Loading Data</a></span></li><li><span><a href=\"#Functions\" data-toc-modified-id=\"Functions-7\"><span class=\"toc-item-num\">7&nbsp;&nbsp;</span>Functions</a></span></li><li><span><a href=\"#Basic-Information\" data-toc-modified-id=\"Basic-Information-8\"><span class=\"toc-item-num\">8&nbsp;&nbsp;</span>Basic Information</a></span><ul class=\"toc-item\"><li><span><a href=\"#Number-of-Rows\" data-toc-modified-id=\"Number-of-Rows-8.1\"><span class=\"toc-item-num\">8.1&nbsp;&nbsp;</span>Number of Rows</a></span></li><li><span><a href=\"#Number-of-Columns\" data-toc-modified-id=\"Number-of-Columns-8.2\"><span class=\"toc-item-num\">8.2&nbsp;&nbsp;</span>Number of Columns</a></span></li><li><span><a href=\"#Information-on-each-Dataset\" data-toc-modified-id=\"Information-on-each-Dataset-8.3\"><span class=\"toc-item-num\">8.3&nbsp;&nbsp;</span>Information on each Dataset</a></span></li><li><span><a href=\"#First-5-Rows\" data-toc-modified-id=\"First-5-Rows-8.4\"><span class=\"toc-item-num\">8.4&nbsp;&nbsp;</span>First 5 Rows</a></span></li></ul></li><li><span><a href=\"#Data-Cleaning\" data-toc-modified-id=\"Data-Cleaning-9\"><span class=\"toc-item-num\">9&nbsp;&nbsp;</span>Data Cleaning</a></span><ul class=\"toc-item\"><li><span><a href=\"#Deleting-Unneeded-Columns\" data-toc-modified-id=\"Deleting-Unneeded-Columns-9.1\"><span class=\"toc-item-num\">9.1&nbsp;&nbsp;</span>Deleting Unneeded Columns</a></span></li><li><span><a href=\"#Renaming-Columns\" data-toc-modified-id=\"Renaming-Columns-9.2\"><span class=\"toc-item-num\">9.2&nbsp;&nbsp;</span>Renaming Columns</a></span></li><li><span><a href=\"#Rename-Column-Values\" data-toc-modified-id=\"Rename-Column-Values-9.3\"><span class=\"toc-item-num\">9.3&nbsp;&nbsp;</span>Rename Column Values</a></span></li><li><span><a href=\"#Missing-Data\" data-toc-modified-id=\"Missing-Data-9.4\"><span class=\"toc-item-num\">9.4&nbsp;&nbsp;</span>Missing Data</a></span></li><li><span><a href=\"#Duplicate-Data\" data-toc-modified-id=\"Duplicate-Data-9.5\"><span class=\"toc-item-num\">9.5&nbsp;&nbsp;</span>Duplicate Data</a></span></li></ul></li><li><span><a href=\"#Exploratory-Data-Analysis-(EDA)\" data-toc-modified-id=\"Exploratory-Data-Analysis-(EDA)-10\"><span class=\"toc-item-num\">10&nbsp;&nbsp;</span>Exploratory Data Analysis (EDA)</a></span><ul class=\"toc-item\"><li><span><a href=\"#Age\" data-toc-modified-id=\"Age-10.1\"><span class=\"toc-item-num\">10.1&nbsp;&nbsp;</span>Age</a></span></li><li><span><a href=\"#Gender\" data-toc-modified-id=\"Gender-10.2\"><span class=\"toc-item-num\">10.2&nbsp;&nbsp;</span>Gender</a></span></li><li><span><a href=\"#Province\" data-toc-modified-id=\"Province-10.3\"><span class=\"toc-item-num\">10.3&nbsp;&nbsp;</span>Province</a></span></li><li><span><a href=\"#Patient\" data-toc-modified-id=\"Patient-10.4\"><span class=\"toc-item-num\">10.4&nbsp;&nbsp;</span>Patient</a></span></li><li><span><a href=\"#Case\" data-toc-modified-id=\"Case-10.5\"><span class=\"toc-item-num\">10.5&nbsp;&nbsp;</span>Case</a></span></li><li><span><a href=\"#Population\" data-toc-modified-id=\"Population-10.6\"><span class=\"toc-item-num\">10.6&nbsp;&nbsp;</span>Population</a></span></li><li><span><a href=\"#Test\" data-toc-modified-id=\"Test-10.7\"><span class=\"toc-item-num\">10.7&nbsp;&nbsp;</span>Test</a></span></li></ul></li><li><span><a href=\"#Conclusions\" data-toc-modified-id=\"Conclusions-11\"><span class=\"toc-item-num\">11&nbsp;&nbsp;</span>Conclusions</a></span></li><li><span><a href=\"#Recommendations\" data-toc-modified-id=\"Recommendations-12\"><span class=\"toc-item-num\">12&nbsp;&nbsp;</span>Recommendations</a></span></li><li><span><a href=\"#Suggestions-for-Improvement\" data-toc-modified-id=\"Suggestions-for-Improvement-13\"><span class=\"toc-item-num\">13&nbsp;&nbsp;</span>Suggestions for Improvement</a></span></li></ul></div>"
   ]
  },
  {
   "cell_type": "markdown",
   "id": "seven-corruption",
   "metadata": {},
   "source": [
    "# Introduction"
   ]
  },
  {
   "cell_type": "markdown",
   "id": "according-holly",
   "metadata": {},
   "source": [
    "As the lead data scientist for the government of the Republic of Lithuania, I was given a personal mission by President Gitanas Nausėda to prepare the nation for a possible next wave of the Corona virus pandemic. South Korea was one of the more successful nations in the fight against COVID-19. I decided to analyze the available COVID-19 data from South Korea to learn of their success strategies to emulate, and the pitfalls to avoid. \n",
    "\n",
    "As of the date of this analysis, February 25, 2022, the COVID-19 numbers from South Korea are as follows:\n",
    "\n",
    "- **Confirmed Cases**: 2,665,077\n",
    "- **Deaths**: 7,783\n",
    "- **Recovered**: 969,524\n",
    "\n",
    "The first known case of COVID-19 in South Korea was on January 20, 2020 when a 35-year-old Chinese woman arrived at Incheon Airport from Wuhan and tested positive. By early March, approximately forty days after its first confirmed case, South Korea became the second most infected country after China. South Korea undertook a massive public and private sector effort and created a national response to the pandemic. \n",
    "\n",
    "The South Korean response is distinct in several respects: \n",
    "- **Early**: An early and almost immediate response after the first case on January 20.\n",
    "- **Speed**: A premium on moving as quickly as possible in setting up a testing regime.\n",
    "- **Transparency**: Real-time and frequent information dissemination to the public.\n",
    "- **Public-Private sector**: Enlisting companies with needed resources in a private-public sector response.\n",
    "- **National organization**: Organized as a national effort rather than at the city, provincial, or local levels.\n",
    "\n",
    "I will utilize the following datasets which contain data from January to June 2020:\n",
    "1. **Age**: Confirmed and deceased cases based on age groups\n",
    "2. **Gender**: Confirmed and deceased cases based on gender, male or female \n",
    "3. **Province**: Confirmed and deceased cases based on province\n",
    "4. **Patient**: Confirmed and deceased cases based on age, gender, method of infection, province and city\n",
    "5. **Case**: Confirmed cases based on method of infection, province, city, and specific location\n",
    "6. **Population**: Count and ratio of academic organizations, nursing homes and elderly population\n",
    "7. **Test**: Number of tests and number of negative and positive results."
   ]
  },
  {
   "cell_type": "markdown",
   "id": "consistent-highlight",
   "metadata": {},
   "source": [
    "# Goals"
   ]
  },
  {
   "cell_type": "markdown",
   "id": "satisfactory-woman",
   "metadata": {},
   "source": [
    " The goal of this project is to present the report of my analysis of the South Korean datasets to President Gitanas Nausėda and provide the government of the Republic of Lithuania with recommendations on how to prepare for a possible next wave of the Corona virus pandemic. I will concentrate on the following topics:\n",
    " \n",
    "**Total Numbers** \n",
    "\n",
    "**Effect of Population Density**\n",
    "\n",
    "**Effect of Weather**\n",
    "\n",
    "**Effect of Testing**\n",
    "\n",
    "**Effect of Travel**\n",
    "\n",
    "**Some Ideas for Analysis**\n",
    "    \n",
    "\t2. Deceased demographics\n",
    "\t3. People bringing infection from abroad\n",
    "\t4. Super Spreader demographics\n",
    "\t5. Top 10 Infection Cases\n",
    "\t7. Join Gender and Age Data\n",
    "\t8. Organizations\n",
    "\t9. Province Population Density and Numbers Infected Totals\n",
    "\t10. Number Tested / Deceased\n",
    "\t11. Effect of Weather\n",
    "    12. Different policies on number of cases or number of fatalities\n",
    "\t13. Cases and deaths in different age groups\n",
    "\t14. Male vs Female\n",
    "\t15. Population density \n",
    "\t16. Weather\n",
    "\t17. Mortality Rate"
   ]
  },
  {
   "cell_type": "markdown",
   "id": "judicial-fifteen",
   "metadata": {},
   "source": [
    "# Technical Requirements"
   ]
  },
  {
   "cell_type": "markdown",
   "id": "occupied-locking",
   "metadata": {},
   "source": [
    "- Practice identifying opportunities for data analysis.\n",
    "- Practice performing EDA.\n",
    "- Practice working with data from Kaggle.\n",
    "- Practice visualizing data with Matplotlib & Seaborn.\n",
    "- Practice reading data, performing queries, and filtering data using Pandas."
   ]
  },
  {
   "cell_type": "markdown",
   "id": "every-inspiration",
   "metadata": {},
   "source": [
    "# Libraries"
   ]
  },
  {
   "cell_type": "code",
   "execution_count": 2,
   "id": "developing-fiction",
   "metadata": {},
   "outputs": [],
   "source": [
    "%matplotlib inline\n",
    "\n",
    "import pandas as pd\n",
    "import numpy as np\n",
    "import seaborn as sns\n",
    "import matplotlib.pyplot as plt\n",
    "import warnings\n",
    "from IPython.display import display\n",
    "\n",
    "# Auto reloads notebook when changes are made\n",
    "%reload_ext autoreload\n",
    "%autoreload 2\n",
    "\n",
    "sns.set_palette(\"pastel\")"
   ]
  },
  {
   "cell_type": "markdown",
   "id": "specified-working",
   "metadata": {},
   "source": [
    "# Loading Data"
   ]
  },
  {
   "cell_type": "code",
   "execution_count": null,
   "id": "rapid-roads",
   "metadata": {},
   "outputs": [],
   "source": [
    "age = pd.read_csv(\n",
    "    \"C:\\py\\Projects\\TuringCollege\\COVID19\\DataSets\\\\age.csv\",\n",
    "    index_col=False,\n",
    "    skipinitialspace=True,\n",
    ")"
   ]
  },
  {
   "cell_type": "code",
   "execution_count": null,
   "id": "talented-coach",
   "metadata": {},
   "outputs": [],
   "source": [
    "gender = pd.read_csv(\n",
    "    \"C:\\py\\Projects\\TuringCollege\\COVID19\\DataSets\\gender.csv\",\n",
    "    index_col=False,\n",
    "    skipinitialspace=True,\n",
    ")"
   ]
  },
  {
   "cell_type": "code",
   "execution_count": null,
   "id": "material-laser",
   "metadata": {},
   "outputs": [],
   "source": [
    "province = pd.read_csv(\n",
    "    \"C:\\py\\Projects\\TuringCollege\\COVID19\\DataSets\\province.csv\",\n",
    "    index_col=False,\n",
    "    skipinitialspace=True,\n",
    ")"
   ]
  },
  {
   "cell_type": "code",
   "execution_count": null,
   "id": "suspended-violence",
   "metadata": {},
   "outputs": [],
   "source": [
    "patient = pd.read_csv(\n",
    "    \"C:\\py\\Projects\\TuringCollege\\COVID19\\DataSets\\patient.csv\",\n",
    "    index_col=False,\n",
    "    skipinitialspace=True,\n",
    ")"
   ]
  },
  {
   "cell_type": "code",
   "execution_count": null,
   "id": "hungry-reputation",
   "metadata": {},
   "outputs": [],
   "source": [
    "case = pd.read_csv(\n",
    "    \"C:\\py\\Projects\\TuringCollege\\COVID19\\DataSets\\case.csv\",\n",
    "    index_col=False,\n",
    "    skipinitialspace=True,\n",
    ")"
   ]
  },
  {
   "cell_type": "code",
   "execution_count": null,
   "id": "previous-creature",
   "metadata": {},
   "outputs": [],
   "source": [
    "population = pd.read_csv(\n",
    "    \"C:\\py\\Projects\\TuringCollege\\COVID19\\DataSets\\population.csv\",\n",
    "    index_col=False,\n",
    "    skipinitialspace=True,\n",
    ")"
   ]
  },
  {
   "cell_type": "code",
   "execution_count": null,
   "id": "ahead-welcome",
   "metadata": {},
   "outputs": [],
   "source": [
    "test = pd.read_csv(\n",
    "    \"C:\\py\\Projects\\TuringCollege\\COVID19\\DataSets\\\\test.csv\",\n",
    "    index_col=False,\n",
    "    skipinitialspace=True,\n",
    ")"
   ]
  },
  {
   "cell_type": "markdown",
   "id": "varied-society",
   "metadata": {},
   "source": [
    "# Functions"
   ]
  },
  {
   "cell_type": "code",
   "execution_count": null,
   "id": "explicit-drawing",
   "metadata": {},
   "outputs": [],
   "source": [
    "def update_dictionary(age, gender, province, patient, case, population, test):\n",
    "    all_data = {\n",
    "        \"Age:\": age,\n",
    "        \"Gender:\": gender,\n",
    "        \"Province:\": province,\n",
    "        \"Patient:\": patient,\n",
    "        \"Case:\": case,\n",
    "        \"Population:\": population,\n",
    "        \"Test:\": test,\n",
    "    }\n",
    "    return all_data"
   ]
  },
  {
   "cell_type": "code",
   "execution_count": null,
   "id": "interim-frederick",
   "metadata": {},
   "outputs": [],
   "source": []
  },
  {
   "cell_type": "markdown",
   "id": "major-meditation",
   "metadata": {},
   "source": [
    "# Basic Information"
   ]
  },
  {
   "cell_type": "code",
   "execution_count": null,
   "id": "oriental-picking",
   "metadata": {},
   "outputs": [],
   "source": [
    "all_data = update_dictionary(age, gender, province, patient, case, population, test)"
   ]
  },
  {
   "cell_type": "markdown",
   "id": "disabled-matrix",
   "metadata": {},
   "source": [
    "## Number of Rows"
   ]
  },
  {
   "cell_type": "code",
   "execution_count": null,
   "id": "supposed-custom",
   "metadata": {},
   "outputs": [],
   "source": [
    "for name, data in all_data.items():\n",
    "    print(name, data.shape[0])"
   ]
  },
  {
   "cell_type": "markdown",
   "id": "pending-azerbaijan",
   "metadata": {},
   "source": [
    "## Number of Columns"
   ]
  },
  {
   "cell_type": "code",
   "execution_count": null,
   "id": "happy-harassment",
   "metadata": {
    "scrolled": true
   },
   "outputs": [],
   "source": [
    "for name, data in all_data.items():\n",
    "    print(name, data.shape[1])"
   ]
  },
  {
   "cell_type": "markdown",
   "id": "thick-dream",
   "metadata": {},
   "source": [
    "## Information on each Dataset"
   ]
  },
  {
   "cell_type": "code",
   "execution_count": null,
   "id": "hindu-third",
   "metadata": {
    "scrolled": false
   },
   "outputs": [],
   "source": [
    "for name, data in all_data.items():\n",
    "    print(\"\\n\\n{}\".format(name))\n",
    "    display(data.info())\n",
    "    print(\"\\n\")"
   ]
  },
  {
   "cell_type": "markdown",
   "id": "czech-hurricane",
   "metadata": {},
   "source": [
    "## First 5 Rows"
   ]
  },
  {
   "cell_type": "code",
   "execution_count": null,
   "id": "ranking-baseball",
   "metadata": {
    "scrolled": false
   },
   "outputs": [],
   "source": [
    "for name, data in all_data.items():\n",
    "    print(\"\\n\\n{}\".format(name))\n",
    "    display(data.head())\n",
    "    print(\"\\n\")"
   ]
  },
  {
   "cell_type": "markdown",
   "id": "adaptive-warning",
   "metadata": {},
   "source": [
    "# Data Cleaning"
   ]
  },
  {
   "cell_type": "markdown",
   "id": "assumed-sculpture",
   "metadata": {},
   "source": [
    "## Deleting Unneeded Columns"
   ]
  },
  {
   "cell_type": "code",
   "execution_count": null,
   "id": "homeless-dragon",
   "metadata": {},
   "outputs": [],
   "source": [
    "age = age.drop([\"time\"], axis=1)"
   ]
  },
  {
   "cell_type": "code",
   "execution_count": null,
   "id": "dangerous-rating",
   "metadata": {},
   "outputs": [],
   "source": [
    "gender = gender.drop([\"time\"], axis=1)"
   ]
  },
  {
   "cell_type": "code",
   "execution_count": null,
   "id": "chemical-rapid",
   "metadata": {},
   "outputs": [],
   "source": [
    "province = province.drop([\"time\", \"released\"], axis=1)"
   ]
  },
  {
   "cell_type": "code",
   "execution_count": null,
   "id": "frequent-retreat",
   "metadata": {},
   "outputs": [],
   "source": [
    "patient = patient.drop(\n",
    "    [\n",
    "        \"country\",\n",
    "        \"province\",\n",
    "        \"city\",\n",
    "        \"symptom_onset_date\",\n",
    "        \"confirmed_date\",\n",
    "        \"released_date\",\n",
    "        \"deceased_date\",\n",
    "        \"state\",\n",
    "        \"infected_by\",\n",
    "        \"contact_number\",\n",
    "        \"ID\",\n",
    "    ],\n",
    "    axis=1,\n",
    ")"
   ]
  },
  {
   "cell_type": "code",
   "execution_count": null,
   "id": "approved-train",
   "metadata": {},
   "outputs": [],
   "source": [
    "case = case.drop([\"case_id\", \"latitude\", \"longitude\"], axis=1)"
   ]
  },
  {
   "cell_type": "code",
   "execution_count": null,
   "id": "advised-block",
   "metadata": {},
   "outputs": [],
   "source": [
    "population = population.drop([\"code\", \"latitude\", \"longitude\"], axis=1)"
   ]
  },
  {
   "cell_type": "code",
   "execution_count": null,
   "id": "dried-skirt",
   "metadata": {},
   "outputs": [],
   "source": [
    "test = test.drop([\"time\"], axis=1)"
   ]
  },
  {
   "cell_type": "markdown",
   "id": "defensive-express",
   "metadata": {},
   "source": [
    "## Renaming Columns"
   ]
  },
  {
   "cell_type": "code",
   "execution_count": null,
   "id": "thorough-three",
   "metadata": {
    "scrolled": true
   },
   "outputs": [],
   "source": [
    "age.rename(\n",
    "    columns={\n",
    "        \"date\": \"Date\",\n",
    "        \"age\": \"Age\",\n",
    "        \"confirmed\": \"Confirmed\",\n",
    "        \"deceased\": \"Deceased\",\n",
    "    },\n",
    "    inplace=True,\n",
    ")"
   ]
  },
  {
   "cell_type": "code",
   "execution_count": null,
   "id": "miniature-minimum",
   "metadata": {},
   "outputs": [],
   "source": [
    "gender.rename(\n",
    "    columns={\n",
    "        \"date\": \"Date\",\n",
    "        \"sex\": \"Sex\",\n",
    "        \"confirmed\": \"Confirmed\",\n",
    "        \"deceased\": \"Deceased\",\n",
    "    },\n",
    "    inplace=True,\n",
    ")"
   ]
  },
  {
   "cell_type": "code",
   "execution_count": null,
   "id": "statutory-hawaii",
   "metadata": {},
   "outputs": [],
   "source": [
    "province.rename(\n",
    "    columns={\n",
    "        \"date\": \"Date\",\n",
    "        \"province\": \"Province\",\n",
    "        \"confirmed\": \"Confirmed\",\n",
    "        \"deceased\": \"Deceased\",\n",
    "    },\n",
    "    inplace=True,\n",
    ")"
   ]
  },
  {
   "cell_type": "code",
   "execution_count": null,
   "id": "fiscal-wings",
   "metadata": {},
   "outputs": [],
   "source": [
    "patient.rename(\n",
    "    columns={\n",
    "        \"sex\": \"Sex\",\n",
    "        \"age\": \"Age\",\n",
    "        \"infection_case\": \"Reason\",\n",
    "    },\n",
    "    inplace=True,\n",
    ")"
   ]
  },
  {
   "cell_type": "code",
   "execution_count": null,
   "id": "spanish-newark",
   "metadata": {
    "scrolled": true
   },
   "outputs": [],
   "source": [
    "case.rename(\n",
    "    columns={\n",
    "        \"province\": \"Province\",\n",
    "        \"city\": \"City\",\n",
    "        \"group\": \"Group\",\n",
    "        \"infection_case\": \"Reason\",\n",
    "        \"confirmed\": \"Confirmed\",\n",
    "    },\n",
    "    inplace=True,\n",
    ")"
   ]
  },
  {
   "cell_type": "code",
   "execution_count": null,
   "id": "grave-juice",
   "metadata": {
    "scrolled": true
   },
   "outputs": [],
   "source": [
    "population.rename(\n",
    "    columns={\n",
    "        \"province\": \"Province\",\n",
    "        \"city\": \"City\",\n",
    "        \"elementary_school_count\": \"Elementary\",\n",
    "        \"kindergarten_count\": \"Kindergarten\",\n",
    "        \"university_count\": \"University\",\n",
    "        \"academy_ratio\": \"Academy\",\n",
    "        \"elderly_population_ratio\": \"Elderly\",\n",
    "        \"elderly_alone_ratio\": \"Elderly Alone\",\n",
    "        \"nursing_home_count\": \"Nursing Home\",\n",
    "    },\n",
    "    inplace=True,\n",
    ")"
   ]
  },
  {
   "cell_type": "code",
   "execution_count": null,
   "id": "severe-reader",
   "metadata": {
    "scrolled": true
   },
   "outputs": [],
   "source": [
    "test.rename(\n",
    "    columns={\n",
    "        \"date\": \"Date\",\n",
    "        \"test\": \"Test\",\n",
    "        \"negative\": \"Negative\",\n",
    "        \"confirmed\": \"Confirmed\",\n",
    "        \"released\": \"Released\",\n",
    "        \"deceased\": \"Deceased\",\n",
    "    },\n",
    "    inplace=True,\n",
    ")"
   ]
  },
  {
   "cell_type": "code",
   "execution_count": null,
   "id": "meaningful-circular",
   "metadata": {},
   "outputs": [],
   "source": [
    "all_data = update_dictionary(age, gender, province, patient, case, population, test)"
   ]
  },
  {
   "cell_type": "code",
   "execution_count": null,
   "id": "allied-invite",
   "metadata": {
    "scrolled": true
   },
   "outputs": [],
   "source": [
    "for name, data in all_data.items():\n",
    "    print(\"\\n\\n{}\".format(name))\n",
    "    display(data.head())\n",
    "    print(\"\\n\")"
   ]
  },
  {
   "cell_type": "markdown",
   "id": "statistical-simpson",
   "metadata": {},
   "source": [
    "## Rename Column Values "
   ]
  },
  {
   "cell_type": "code",
   "execution_count": null,
   "id": "stunning-intervention",
   "metadata": {},
   "outputs": [],
   "source": [
    "patient.replace('etc', 'ETC', inplace=True)\n",
    "patient.replace('overseas inflow', 'Overseas Inflow', inplace = True)\n",
    "patient.replace('contact with patient', 'Contact with Patient', inplace = True)\n",
    "patient.head(30)"
   ]
  },
  {
   "cell_type": "markdown",
   "id": "automotive-bottle",
   "metadata": {},
   "source": [
    "## Missing Data"
   ]
  },
  {
   "cell_type": "code",
   "execution_count": null,
   "id": "optical-orientation",
   "metadata": {},
   "outputs": [],
   "source": [
    "for name, data in all_data.items():\n",
    "    print(\"\\n\\n{}\".format(name))\n",
    "    display(data.isnull().sum())\n",
    "    print(\"\\n\")"
   ]
  },
  {
   "cell_type": "markdown",
   "id": "familiar-value",
   "metadata": {},
   "source": [
    "## Duplicate Data"
   ]
  },
  {
   "cell_type": "code",
   "execution_count": null,
   "id": "molecular-london",
   "metadata": {},
   "outputs": [],
   "source": [
    "case[case.duplicated(keep=False)].any()\n",
    "for name, data in all_data.items():\n",
    "    print(\"\\n\\n{}\".format(name))\n",
    "    display(data[data.duplicated(keep=False)].any())\n",
    "    print(\"\\n\")"
   ]
  },
  {
   "cell_type": "markdown",
   "id": "laden-indie",
   "metadata": {},
   "source": [
    "# Exploratory Data Analysis (EDA)"
   ]
  },
  {
   "cell_type": "markdown",
   "id": "external-hollow",
   "metadata": {},
   "source": [
    "## Age"
   ]
  },
  {
   "cell_type": "code",
   "execution_count": null,
   "id": "toxic-community",
   "metadata": {},
   "outputs": [],
   "source": [
    "groupby_age = age[[\"Age\", \"Confirmed\", \"Deceased\"]].groupby([\"Age\"]).sum()"
   ]
  },
  {
   "cell_type": "code",
   "execution_count": null,
   "id": "rough-identity",
   "metadata": {},
   "outputs": [],
   "source": [
    "groupby_age[\"Percentage\"] = (groupby_age[\"Deceased\"] / groupby_age[\"Confirmed\"]) * 100\n",
    "groupby_age[\"Percentage\"] = (\n",
    "    groupby_age[\"Percentage\"].apply(\"{:,.2f}\".format).astype(\"float64\")\n",
    ")\n",
    "\n",
    "groupby_age.sort_values(\"Percentage\", ascending=False)"
   ]
  },
  {
   "cell_type": "markdown",
   "id": "vietnamese-celtic",
   "metadata": {},
   "source": [
    "## Gender"
   ]
  },
  {
   "cell_type": "code",
   "execution_count": null,
   "id": "freelance-volleyball",
   "metadata": {},
   "outputs": [],
   "source": [
    "groupby_gender = gender[[\"Sex\", \"Confirmed\", \"Deceased\"]].groupby([\"Sex\"]).sum()"
   ]
  },
  {
   "cell_type": "code",
   "execution_count": null,
   "id": "touched-equivalent",
   "metadata": {},
   "outputs": [],
   "source": [
    "groupby_gender[\"Percentage\"] = (\n",
    "    groupby_gender[\"Deceased\"] / groupby_gender[\"Confirmed\"]\n",
    ") * 100\n",
    "groupby_gender[\"Percentage\"] = (\n",
    "    groupby_gender[\"Percentage\"].apply(\"{:,.2f}\".format).astype(\"float64\")\n",
    ")\n",
    "groupby_gender.sort_values(\"Percentage\", ascending=False)"
   ]
  },
  {
   "cell_type": "markdown",
   "id": "available-logan",
   "metadata": {},
   "source": [
    "## Province"
   ]
  },
  {
   "cell_type": "code",
   "execution_count": null,
   "id": "appropriate-collaboration",
   "metadata": {},
   "outputs": [],
   "source": [
    "groupby_province = (\n",
    "    province[[\"Province\", \"Confirmed\", \"Deceased\"]].groupby([\"Province\"]).sum()\n",
    ")"
   ]
  },
  {
   "cell_type": "code",
   "execution_count": null,
   "id": "alike-maximum",
   "metadata": {},
   "outputs": [],
   "source": [
    "groupby_province[\"Percentage\"] = (\n",
    "    groupby_province[\"Deceased\"] / groupby_province[\"Confirmed\"]\n",
    ") * 100\n",
    "groupby_province[\"Percentage\"] = (\n",
    "    groupby_province[\"Percentage\"].apply(\"{:,.2f}\".format).astype(\"float64\")\n",
    ")\n",
    "groupby_province.sort_values(\"Percentage\", ascending=False)"
   ]
  },
  {
   "cell_type": "markdown",
   "id": "sacred-track",
   "metadata": {},
   "source": [
    "## Patient"
   ]
  },
  {
   "cell_type": "code",
   "execution_count": null,
   "id": "interim-dodge",
   "metadata": {
    "scrolled": false
   },
   "outputs": [],
   "source": [
    "pd.reset_option(\"display.max_rows\")\n",
    "Total = patient[\"Location\"].value_counts()\n",
    "Total"
   ]
  },
  {
   "cell_type": "markdown",
   "id": "adolescent-relations",
   "metadata": {},
   "source": [
    "## Case"
   ]
  },
  {
   "cell_type": "code",
   "execution_count": null,
   "id": "attached-chemistry",
   "metadata": {
    "scrolled": false
   },
   "outputs": [],
   "source": [
    "case = case[[\"Province\", \"City\", \"Location\", \"Confirmed\", \"Group\"]]\n",
    "pd.set_option(\"max_rows\", None)\n",
    "case.sort_values([\"Confirmed\", \"Location\"], ascending=[False, False])"
   ]
  },
  {
   "cell_type": "markdown",
   "id": "found-router",
   "metadata": {},
   "source": [
    "## Population"
   ]
  },
  {
   "cell_type": "code",
   "execution_count": null,
   "id": "illegal-solomon",
   "metadata": {
    "scrolled": false
   },
   "outputs": [],
   "source": [
    "population = population[\n",
    "    [\n",
    "        \"Province\",\n",
    "        \"City\",\n",
    "        \"Kindergarten\",\n",
    "        \"Elementary\",\n",
    "        \"University\",\n",
    "        \"Nursing Home\",\n",
    "        \"Academy\",\n",
    "        \"Elderly\",\n",
    "        \"Elderly Alone\",\n",
    "    ]\n",
    "]\n",
    "pd.set_option(\"max_rows\", None)\n",
    "# case.sort_values(['Confirmed', 'Location'], ascending=[False, False])\n",
    "population"
   ]
  },
  {
   "cell_type": "markdown",
   "id": "proper-battlefield",
   "metadata": {},
   "source": [
    "## Test"
   ]
  },
  {
   "cell_type": "markdown",
   "id": "technical-supervisor",
   "metadata": {},
   "source": [
    "# Conclusions"
   ]
  },
  {
   "cell_type": "markdown",
   "id": "ethical-authority",
   "metadata": {},
   "source": [
    "# Recommendations"
   ]
  },
  {
   "cell_type": "markdown",
   "id": "beginning-paintball",
   "metadata": {},
   "source": [
    "# Suggestions for Improvement"
   ]
  },
  {
   "cell_type": "code",
   "execution_count": 3,
   "id": "right-richardson",
   "metadata": {},
   "outputs": [
    {
     "data": {
      "text/plain": [
       "'1.2.5'"
      ]
     },
     "execution_count": 3,
     "metadata": {},
     "output_type": "execute_result"
    }
   ],
   "source": [
    "pd.__version__"
   ]
  },
  {
   "cell_type": "code",
   "execution_count": 4,
   "id": "outdoor-webmaster",
   "metadata": {},
   "outputs": [
    {
     "data": {
      "text/plain": [
       "'0.11.2'"
      ]
     },
     "execution_count": 4,
     "metadata": {},
     "output_type": "execute_result"
    }
   ],
   "source": [
    "sns.__version__"
   ]
  },
  {
   "cell_type": "code",
   "execution_count": null,
   "id": "combined-requirement",
   "metadata": {},
   "outputs": [],
   "source": []
  }
 ],
 "metadata": {
  "kernelspec": {
   "display_name": "Python 3",
   "language": "python",
   "name": "python3"
  },
  "language_info": {
   "codemirror_mode": {
    "name": "ipython",
    "version": 3
   },
   "file_extension": ".py",
   "mimetype": "text/x-python",
   "name": "python",
   "nbconvert_exporter": "python",
   "pygments_lexer": "ipython3",
   "version": "3.9.6"
  },
  "toc": {
   "base_numbering": 1,
   "nav_menu": {},
   "number_sections": true,
   "sideBar": true,
   "skip_h1_title": false,
   "title_cell": "Table of Contents",
   "title_sidebar": "Contents",
   "toc_cell": true,
   "toc_position": {},
   "toc_section_display": true,
   "toc_window_display": false
  }
 },
 "nbformat": 4,
 "nbformat_minor": 5
}
