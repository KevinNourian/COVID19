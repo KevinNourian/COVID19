{
 "cells": [
  {
   "cell_type": "markdown",
   "id": "twenty-sandwich",
   "metadata": {},
   "source": [
    "# 01PatientCOVID19"
   ]
  },
  {
   "cell_type": "markdown",
   "id": "every-inspiration",
   "metadata": {},
   "source": [
    "# Libraries"
   ]
  },
  {
   "cell_type": "code",
   "execution_count": 1,
   "id": "developing-fiction",
   "metadata": {},
   "outputs": [],
   "source": [
    "%matplotlib inline\n",
    "\n",
    "import pandas as pd\n",
    "import numpy as np\n",
    "import seaborn as sns\n",
    "import matplotlib.pyplot as plt\n",
    "import warnings\n",
    "from IPython.display import display\n",
    "\n",
    "sns.set_palette(\"pastel\")"
   ]
  },
  {
   "cell_type": "markdown",
   "id": "specified-working",
   "metadata": {},
   "source": [
    "# Loading Data"
   ]
  },
  {
   "cell_type": "code",
   "execution_count": 2,
   "id": "suspended-violence",
   "metadata": {},
   "outputs": [],
   "source": [
    "patient = pd.read_csv(\n",
    "    \"C:\\py\\Projects\\TuringCollege\\COVID19\\DataSets\\patient.csv\",\n",
    "    index_col=False,\n",
    "    skipinitialspace=True,\n",
    ")"
   ]
  },
  {
   "cell_type": "code",
   "execution_count": 3,
   "id": "flying-conviction",
   "metadata": {},
   "outputs": [],
   "source": [
    "pd.set_option(\"max_rows\", None)"
   ]
  },
  {
   "cell_type": "markdown",
   "id": "visible-motel",
   "metadata": {},
   "source": [
    "# Size"
   ]
  },
  {
   "cell_type": "code",
   "execution_count": 4,
   "id": "ongoing-courtesy",
   "metadata": {
    "scrolled": true
   },
   "outputs": [
    {
     "data": {
      "text/plain": [
       "(5165, 14)"
      ]
     },
     "execution_count": 4,
     "metadata": {},
     "output_type": "execute_result"
    }
   ],
   "source": [
    "patient.shape"
   ]
  },
  {
   "cell_type": "markdown",
   "id": "assumed-sculpture",
   "metadata": {},
   "source": [
    "# Delete Unneeded Columns"
   ]
  },
  {
   "cell_type": "code",
   "execution_count": 5,
   "id": "frequent-retreat",
   "metadata": {},
   "outputs": [],
   "source": [
    "patient = patient.drop(\n",
    "    [\n",
    "        \"ID\",\n",
    "        \"city\",\n",
    "        \"infected_by\",\n",
    "        \"contact_number\",\n",
    "        \"symptom_onset_date\",\n",
    "        \"released_date\",\n",
    "        \"deceased_date\",\n",
    "        \"state\"\n",
    "    ],\n",
    "    axis=1,\n",
    ")"
   ]
  },
  {
   "cell_type": "markdown",
   "id": "defensive-express",
   "metadata": {},
   "source": [
    "# Rename Columns"
   ]
  },
  {
   "cell_type": "code",
   "execution_count": 6,
   "id": "fiscal-wings",
   "metadata": {},
   "outputs": [
    {
     "data": {
      "text/html": [
       "<div>\n",
       "<style scoped>\n",
       "    .dataframe tbody tr th:only-of-type {\n",
       "        vertical-align: middle;\n",
       "    }\n",
       "\n",
       "    .dataframe tbody tr th {\n",
       "        vertical-align: top;\n",
       "    }\n",
       "\n",
       "    .dataframe thead th {\n",
       "        text-align: right;\n",
       "    }\n",
       "</style>\n",
       "<table border=\"1\" class=\"dataframe\">\n",
       "  <thead>\n",
       "    <tr style=\"text-align: right;\">\n",
       "      <th></th>\n",
       "      <th>Gender</th>\n",
       "      <th>Age</th>\n",
       "      <th>Country</th>\n",
       "      <th>Province</th>\n",
       "      <th>Infection Reason</th>\n",
       "      <th>Confirmed Date</th>\n",
       "    </tr>\n",
       "  </thead>\n",
       "  <tbody>\n",
       "    <tr>\n",
       "      <th>0</th>\n",
       "      <td>male</td>\n",
       "      <td>50s</td>\n",
       "      <td>Korea</td>\n",
       "      <td>Seoul</td>\n",
       "      <td>overseas inflow</td>\n",
       "      <td>1/23/2020</td>\n",
       "    </tr>\n",
       "    <tr>\n",
       "      <th>1</th>\n",
       "      <td>male</td>\n",
       "      <td>30s</td>\n",
       "      <td>Korea</td>\n",
       "      <td>Seoul</td>\n",
       "      <td>overseas inflow</td>\n",
       "      <td>1/30/2020</td>\n",
       "    </tr>\n",
       "    <tr>\n",
       "      <th>2</th>\n",
       "      <td>male</td>\n",
       "      <td>50s</td>\n",
       "      <td>Korea</td>\n",
       "      <td>Seoul</td>\n",
       "      <td>contact with patient</td>\n",
       "      <td>1/30/2020</td>\n",
       "    </tr>\n",
       "    <tr>\n",
       "      <th>3</th>\n",
       "      <td>male</td>\n",
       "      <td>20s</td>\n",
       "      <td>Korea</td>\n",
       "      <td>Seoul</td>\n",
       "      <td>overseas inflow</td>\n",
       "      <td>1/30/2020</td>\n",
       "    </tr>\n",
       "    <tr>\n",
       "      <th>4</th>\n",
       "      <td>female</td>\n",
       "      <td>20s</td>\n",
       "      <td>Korea</td>\n",
       "      <td>Seoul</td>\n",
       "      <td>contact with patient</td>\n",
       "      <td>1/31/2020</td>\n",
       "    </tr>\n",
       "  </tbody>\n",
       "</table>\n",
       "</div>"
      ],
      "text/plain": [
       "   Gender  Age Country Province      Infection Reason Confirmed Date\n",
       "0    male  50s   Korea    Seoul       overseas inflow      1/23/2020\n",
       "1    male  30s   Korea    Seoul       overseas inflow      1/30/2020\n",
       "2    male  50s   Korea    Seoul  contact with patient      1/30/2020\n",
       "3    male  20s   Korea    Seoul       overseas inflow      1/30/2020\n",
       "4  female  20s   Korea    Seoul  contact with patient      1/31/2020"
      ]
     },
     "execution_count": 6,
     "metadata": {},
     "output_type": "execute_result"
    }
   ],
   "source": [
    "patient.rename(\n",
    "    columns={\n",
    "        \"sex\": \"Gender\",\n",
    "        \"age\": \"Age\",\n",
    "        \"infection_case\": \"Infection Reason\",\n",
    "        \"country\": \"Country\",\n",
    "        \"province\": \"Province\",\n",
    "        \"city\": \"City\",\n",
    "        \"confirmed_date\": \"Confirmed Date\"\n",
    "    },\n",
    "    inplace=True,\n",
    ")\n",
    "patient.head()"
   ]
  },
  {
   "cell_type": "markdown",
   "id": "behind-wagon",
   "metadata": {},
   "source": [
    "# Missing Data"
   ]
  },
  {
   "cell_type": "code",
   "execution_count": 7,
   "id": "cosmetic-updating",
   "metadata": {
    "scrolled": true
   },
   "outputs": [
    {
     "data": {
      "text/plain": [
       "Gender              1122\n",
       "Age                 1380\n",
       "Country                0\n",
       "Province               0\n",
       "Infection Reason     919\n",
       "Confirmed Date         3\n",
       "dtype: int64"
      ]
     },
     "execution_count": 7,
     "metadata": {},
     "output_type": "execute_result"
    }
   ],
   "source": [
    "patient.isna().sum()"
   ]
  },
  {
   "cell_type": "code",
   "execution_count": 8,
   "id": "capable-inside",
   "metadata": {},
   "outputs": [],
   "source": [
    "patient.dropna(subset = ['Infection Reason'], how='any', inplace = True) "
   ]
  },
  {
   "cell_type": "code",
   "execution_count": 9,
   "id": "happy-border",
   "metadata": {},
   "outputs": [
    {
     "data": {
      "text/plain": [
       "Gender              0\n",
       "Age                 0\n",
       "Country             0\n",
       "Province            0\n",
       "Infection Reason    0\n",
       "Confirmed Date      0\n",
       "dtype: int64"
      ]
     },
     "execution_count": 9,
     "metadata": {},
     "output_type": "execute_result"
    }
   ],
   "source": [
    "patient.fillna(value = \"MISSING\", inplace = True)\n",
    "patient.isna().sum()"
   ]
  },
  {
   "cell_type": "code",
   "execution_count": 10,
   "id": "caring-commons",
   "metadata": {
    "scrolled": true
   },
   "outputs": [
    {
     "data": {
      "text/html": [
       "<div>\n",
       "<style scoped>\n",
       "    .dataframe tbody tr th:only-of-type {\n",
       "        vertical-align: middle;\n",
       "    }\n",
       "\n",
       "    .dataframe tbody tr th {\n",
       "        vertical-align: top;\n",
       "    }\n",
       "\n",
       "    .dataframe thead th {\n",
       "        text-align: right;\n",
       "    }\n",
       "</style>\n",
       "<table border=\"1\" class=\"dataframe\">\n",
       "  <thead>\n",
       "    <tr style=\"text-align: right;\">\n",
       "      <th></th>\n",
       "      <th>Gender</th>\n",
       "      <th>Age</th>\n",
       "      <th>Country</th>\n",
       "      <th>Province</th>\n",
       "      <th>Infection Reason</th>\n",
       "      <th>Confirmed Date</th>\n",
       "    </tr>\n",
       "  </thead>\n",
       "  <tbody>\n",
       "    <tr>\n",
       "      <th>0</th>\n",
       "      <td>male</td>\n",
       "      <td>50s</td>\n",
       "      <td>Korea</td>\n",
       "      <td>Seoul</td>\n",
       "      <td>overseas inflow</td>\n",
       "      <td>1/23/2020</td>\n",
       "    </tr>\n",
       "    <tr>\n",
       "      <th>1</th>\n",
       "      <td>male</td>\n",
       "      <td>30s</td>\n",
       "      <td>Korea</td>\n",
       "      <td>Seoul</td>\n",
       "      <td>overseas inflow</td>\n",
       "      <td>1/30/2020</td>\n",
       "    </tr>\n",
       "    <tr>\n",
       "      <th>2</th>\n",
       "      <td>male</td>\n",
       "      <td>50s</td>\n",
       "      <td>Korea</td>\n",
       "      <td>Seoul</td>\n",
       "      <td>contact with patient</td>\n",
       "      <td>1/30/2020</td>\n",
       "    </tr>\n",
       "    <tr>\n",
       "      <th>3</th>\n",
       "      <td>male</td>\n",
       "      <td>20s</td>\n",
       "      <td>Korea</td>\n",
       "      <td>Seoul</td>\n",
       "      <td>overseas inflow</td>\n",
       "      <td>1/30/2020</td>\n",
       "    </tr>\n",
       "    <tr>\n",
       "      <th>4</th>\n",
       "      <td>female</td>\n",
       "      <td>20s</td>\n",
       "      <td>Korea</td>\n",
       "      <td>Seoul</td>\n",
       "      <td>contact with patient</td>\n",
       "      <td>1/31/2020</td>\n",
       "    </tr>\n",
       "  </tbody>\n",
       "</table>\n",
       "</div>"
      ],
      "text/plain": [
       "   Gender  Age Country Province      Infection Reason Confirmed Date\n",
       "0    male  50s   Korea    Seoul       overseas inflow      1/23/2020\n",
       "1    male  30s   Korea    Seoul       overseas inflow      1/30/2020\n",
       "2    male  50s   Korea    Seoul  contact with patient      1/30/2020\n",
       "3    male  20s   Korea    Seoul       overseas inflow      1/30/2020\n",
       "4  female  20s   Korea    Seoul  contact with patient      1/31/2020"
      ]
     },
     "execution_count": 10,
     "metadata": {},
     "output_type": "execute_result"
    }
   ],
   "source": [
    "patient.head()"
   ]
  },
  {
   "cell_type": "markdown",
   "id": "laden-indie",
   "metadata": {},
   "source": [
    "# Delete Unneeded Data"
   ]
  },
  {
   "cell_type": "code",
   "execution_count": 11,
   "id": "horizontal-encoding",
   "metadata": {},
   "outputs": [],
   "source": [
    "patient = patient[patient[\"Infection Reason\"] != 'etc']"
   ]
  },
  {
   "cell_type": "code",
   "execution_count": 12,
   "id": "distant-muscle",
   "metadata": {},
   "outputs": [],
   "source": [
    "patient.loc[(patient.Country == 'China')]\n",
    "patient = patient[patient.Country != \"China\"]"
   ]
  },
  {
   "cell_type": "code",
   "execution_count": 13,
   "id": "amateur-steam",
   "metadata": {},
   "outputs": [],
   "source": [
    "patient = patient[patient.Country != \"China\"]"
   ]
  },
  {
   "cell_type": "code",
   "execution_count": 14,
   "id": "seventh-telephone",
   "metadata": {},
   "outputs": [],
   "source": [
    "patient = patient.drop(\n",
    "    [\n",
    "        \"Country\",\n",
    "        \"Confirmed Date\"\n",
    "    ],\n",
    "    axis=1,\n",
    ")"
   ]
  },
  {
   "cell_type": "markdown",
   "id": "suitable-ready",
   "metadata": {},
   "source": [
    "# Date as Index"
   ]
  },
  {
   "cell_type": "code",
   "execution_count": 15,
   "id": "pretty-damages",
   "metadata": {},
   "outputs": [],
   "source": [
    "patient = patient.sort_values(\"Confirmed Date\")\n",
    "patient = patient.set_index('Confirmed Date')\n",
    "patient.index.names = ['Date']"
   ]
  },
  {
   "cell_type": "markdown",
   "id": "statistical-simpson",
   "metadata": {},
   "source": [
    "# Column Value Modifications "
   ]
  },
  {
   "cell_type": "code",
   "execution_count": 16,
   "id": "stunning-intervention",
   "metadata": {},
   "outputs": [],
   "source": [
    "patient.replace('overseas inflow', 'Overseas Inflow', inplace = True)\n",
    "patient.replace('contact with patient', 'Contact with Patient', inplace = True)\n",
    "patient.replace('male', 'Male', inplace = True)\n",
    "patient.replace('female', 'Female', inplace = True)"
   ]
  },
  {
   "cell_type": "markdown",
   "id": "bigger-hotel",
   "metadata": {},
   "source": [
    "# Column Order Modifications"
   ]
  },
  {
   "cell_type": "code",
   "execution_count": 17,
   "id": "remarkable-sustainability",
   "metadata": {},
   "outputs": [
    {
     "data": {
      "text/html": [
       "<div>\n",
       "<style scoped>\n",
       "    .dataframe tbody tr th:only-of-type {\n",
       "        vertical-align: middle;\n",
       "    }\n",
       "\n",
       "    .dataframe tbody tr th {\n",
       "        vertical-align: top;\n",
       "    }\n",
       "\n",
       "    .dataframe thead th {\n",
       "        text-align: right;\n",
       "    }\n",
       "</style>\n",
       "<table border=\"1\" class=\"dataframe\">\n",
       "  <thead>\n",
       "    <tr style=\"text-align: right;\">\n",
       "      <th></th>\n",
       "      <th>Province</th>\n",
       "      <th>Infection Reason</th>\n",
       "      <th>Gender</th>\n",
       "      <th>Age</th>\n",
       "    </tr>\n",
       "    <tr>\n",
       "      <th>Date</th>\n",
       "      <th></th>\n",
       "      <th></th>\n",
       "      <th></th>\n",
       "      <th></th>\n",
       "    </tr>\n",
       "  </thead>\n",
       "  <tbody>\n",
       "    <tr>\n",
       "      <th>1/23/2020</th>\n",
       "      <td>Seoul</td>\n",
       "      <td>Overseas Inflow</td>\n",
       "      <td>Male</td>\n",
       "      <td>50s</td>\n",
       "    </tr>\n",
       "    <tr>\n",
       "      <th>1/26/2020</th>\n",
       "      <td>Gyeonggi-do</td>\n",
       "      <td>Overseas Inflow</td>\n",
       "      <td>Male</td>\n",
       "      <td>50s</td>\n",
       "    </tr>\n",
       "    <tr>\n",
       "      <th>1/27/2020</th>\n",
       "      <td>Gyeonggi-do</td>\n",
       "      <td>Overseas Inflow</td>\n",
       "      <td>Male</td>\n",
       "      <td>50s</td>\n",
       "    </tr>\n",
       "    <tr>\n",
       "      <th>1/30/2020</th>\n",
       "      <td>Seoul</td>\n",
       "      <td>Overseas Inflow</td>\n",
       "      <td>Male</td>\n",
       "      <td>30s</td>\n",
       "    </tr>\n",
       "    <tr>\n",
       "      <th>1/30/2020</th>\n",
       "      <td>Seoul</td>\n",
       "      <td>Contact with Patient</td>\n",
       "      <td>Male</td>\n",
       "      <td>50s</td>\n",
       "    </tr>\n",
       "  </tbody>\n",
       "</table>\n",
       "</div>"
      ],
      "text/plain": [
       "              Province      Infection Reason Gender  Age\n",
       "Date                                                    \n",
       "1/23/2020        Seoul       Overseas Inflow   Male  50s\n",
       "1/26/2020  Gyeonggi-do       Overseas Inflow   Male  50s\n",
       "1/27/2020  Gyeonggi-do       Overseas Inflow   Male  50s\n",
       "1/30/2020        Seoul       Overseas Inflow   Male  30s\n",
       "1/30/2020        Seoul  Contact with Patient   Male  50s"
      ]
     },
     "execution_count": 17,
     "metadata": {},
     "output_type": "execute_result"
    }
   ],
   "source": [
    "patient = patient[\n",
    "    [\"Age\", \"Gender\", \"Province\", \"Infection Reason\"]\n",
    "]\n",
    "patient.head()"
   ]
  },
  {
   "cell_type": "markdown",
   "id": "usual-serbia",
   "metadata": {},
   "source": [
    "## Infection Case"
   ]
  },
  {
   "cell_type": "code",
   "execution_count": 18,
   "id": "affiliated-syria",
   "metadata": {},
   "outputs": [],
   "source": [
    "df_infection = patient[['Province','Infection Reason']]"
   ]
  },
  {
   "cell_type": "code",
   "execution_count": 19,
   "id": "rocky-baker",
   "metadata": {},
   "outputs": [
    {
     "data": {
      "text/plain": [
       "Province           Infection Reason                             \n",
       "Busan              Contact with Patient                              45\n",
       "                   Overseas Inflow                                   40\n",
       "                   Onchun Church                                     32\n",
       "                   Shincheonji Church                                 5\n",
       "                   Suyeong-gu Kindergarten                            3\n",
       "                   Cheongdo Daenam Hospital                           1\n",
       "Chungcheongbuk-do  Contact with Patient                              24\n",
       "                   Overseas Inflow                                   11\n",
       "                   Itaewon Clubs                                      1\n",
       "Chungcheongnam-do  Contact with Patient                             101\n",
       "                   gym facility in Cheonan                           27\n",
       "                   Overseas Inflow                                   16\n",
       "                   Richway                                            2\n",
       "                   River of Grace Community Church                    1\n",
       "Daegu              Shincheonji Church                                13\n",
       "                   Overseas Inflow                                   10\n",
       "                   Contact with Patient                               4\n",
       "Daejeon            Contact with Patient                              42\n",
       "                   Overseas Inflow                                   16\n",
       "                   Dunsan Electronics Town                           13\n",
       "                   Orange Town                                        7\n",
       "                   Shincheonji Church                                 1\n",
       "Gangwon-do         Contact with Patient                              21\n",
       "                   Overseas Inflow                                   14\n",
       "                   Shincheonji Church                                10\n",
       "                   Itaewon Clubs                                      1\n",
       "                   Richway                                            1\n",
       "                   gym facility in Cheonan                            1\n",
       "Gwangju            Contact with Patient                              17\n",
       "                   Overseas Inflow                                   17\n",
       "Gyeonggi-do        Contact with Patient                             774\n",
       "                   Overseas Inflow                                  236\n",
       "                   Coupang Logistics Center                          23\n",
       "                   Itaewon Clubs                                     12\n",
       "                   Shincheonji Church                                10\n",
       "                   Richway                                            5\n",
       "                   Yangcheon Table Tennis Club                        1\n",
       "                   gym facility in Cheonan                            1\n",
       "Gyeongsangbuk-do   Contact with Patient                             129\n",
       "                   Bonghwa Pureun Nursing Home                       31\n",
       "                   Shincheonji Church                                25\n",
       "                   Overseas Inflow                                   23\n",
       "                   Cheongdo Daenam Hospital                          20\n",
       "                   Gyeongsan Seorin Nursing Home                     15\n",
       "                   Gyeongsan Jeil Silver Town                        12\n",
       "                   Milal Shelter                                     11\n",
       "                   Gyeongsan Cham Joeun Community Center             10\n",
       "                   Pilgrimage to Israel                               2\n",
       "Gyeongsangnam-do   Contact with Patient                              36\n",
       "                   Overseas Inflow                                   24\n",
       "                   Shincheonji Church                                23\n",
       "                   Geochang Church                                    6\n",
       "                   Changnyeong Coin Karaoke                           4\n",
       "                   Itaewon Clubs                                      2\n",
       "                   Onchun Church                                      1\n",
       "Incheon            Contact with Patient                             210\n",
       "                   Overseas Inflow                                   59\n",
       "                   Coupang Logistics Center                          32\n",
       "                   Guro-gu Call Center                               17\n",
       "                   Itaewon Clubs                                      5\n",
       "                   Eunpyeong St. Mary's Hospital                      2\n",
       "                   Shincheonji Church                                 2\n",
       "                   Ministry of Oceans and Fisheries                   1\n",
       "                   Richway                                            1\n",
       "Jeju-do            Overseas Inflow                                   12\n",
       "                   Contact with Patient                               1\n",
       "                   Itaewon Clubs                                      1\n",
       "Jeollabuk-do       Overseas Inflow                                   12\n",
       "                   Contact with Patient                               4\n",
       "                   Itaewon Clubs                                      1\n",
       "                   Shincheonji Church                                 1\n",
       "Jeollanam-do       Overseas Inflow                                   13\n",
       "                   Contact with Patient                               5\n",
       "                   Shincheonji Church                                 1\n",
       "Sejong             Ministry of Oceans and Fisheries                  27\n",
       "                   Contact with Patient                               8\n",
       "                   Overseas Inflow                                    5\n",
       "                   gym facility in Sejong                             4\n",
       "                   Shincheonji Church                                 1\n",
       "                   gym facility in Cheonan                            1\n",
       "Seoul              Overseas Inflow                                  304\n",
       "                   Contact with Patient                             171\n",
       "                   Itaewon Clubs                                    139\n",
       "                   Richway                                          119\n",
       "                   Guro-gu Call Center                               95\n",
       "                   Day Care Center                                   43\n",
       "                   Yangcheon Table Tennis Club                       43\n",
       "                   SMR Newly Planted Churches Group                  36\n",
       "                   Coupang Logistics Center                          25\n",
       "                   Wangsung Church                                   24\n",
       "                   Dongan Church                                     17\n",
       "                   Eunpyeong St. Mary's Hospital                     13\n",
       "                   KB Life Insurance                                 13\n",
       "                   Seongdong-gu APT                                  13\n",
       "                   Korea Campus Crusade of Christ                     7\n",
       "                   Samsung Medical Center                             7\n",
       "                   Gangnam Yeoksam-dong gathering                     6\n",
       "                   Geumcheon-gu rice milling machine manufacture      6\n",
       "                   Guri Collective Infection                          5\n",
       "                   Seocho Family                                      5\n",
       "                   Yeonana News Class                                 5\n",
       "                   Samsung Fire & Marine Insurance                    4\n",
       "                   Yongin Brothers                                    4\n",
       "                   Biblical Language study meeting                    3\n",
       "                   Daezayeon Korea                                    3\n",
       "                   Seoul City Hall Station safety worker              3\n",
       "                   Shincheonji Church                                 3\n",
       "                   Yeongdeungpo Learning Institute                    3\n",
       "                   Uiwang Logistics Center                            2\n",
       "                   Anyang Gunpo Pastors Group                         1\n",
       "                   Daejeon door-to-door sales                         1\n",
       "                   Gangnam Dongin Church                              1\n",
       "                   Orange Life                                        1\n",
       "Ulsan              Overseas Inflow                                   22\n",
       "                   Contact with Patient                              15\n",
       "                   Shincheonji Church                                11\n",
       "Name: Infection Reason, dtype: int64"
      ]
     },
     "execution_count": 19,
     "metadata": {},
     "output_type": "execute_result"
    }
   ],
   "source": [
    "df_infection.groupby(['Province'])['Infection Reason'].value_counts()"
   ]
  },
  {
   "cell_type": "code",
   "execution_count": 20,
   "id": "comic-polls",
   "metadata": {
    "scrolled": false
   },
   "outputs": [
    {
     "data": {
      "text/plain": [
       "Contact with Patient                             1607\n",
       "Overseas Inflow                                   834\n",
       "Itaewon Clubs                                     162\n",
       "Richway                                           128\n",
       "Guro-gu Call Center                               112\n",
       "Shincheonji Church                                106\n",
       "Coupang Logistics Center                           80\n",
       "Yangcheon Table Tennis Club                        44\n",
       "Day Care Center                                    43\n",
       "SMR Newly Planted Churches Group                   36\n",
       "Onchun Church                                      33\n",
       "Bonghwa Pureun Nursing Home                        31\n",
       "gym facility in Cheonan                            30\n",
       "Ministry of Oceans and Fisheries                   28\n",
       "Wangsung Church                                    24\n",
       "Cheongdo Daenam Hospital                           21\n",
       "Dongan Church                                      17\n",
       "Eunpyeong St. Mary's Hospital                      15\n",
       "Gyeongsan Seorin Nursing Home                      15\n",
       "Dunsan Electronics Town                            13\n",
       "KB Life Insurance                                  13\n",
       "Seongdong-gu APT                                   13\n",
       "Gyeongsan Jeil Silver Town                         12\n",
       "Milal Shelter                                      11\n",
       "Gyeongsan Cham Joeun Community Center              10\n",
       "Korea Campus Crusade of Christ                      7\n",
       "Orange Town                                         7\n",
       "Samsung Medical Center                              7\n",
       "Gangnam Yeoksam-dong gathering                      6\n",
       "Geochang Church                                     6\n",
       "Geumcheon-gu rice milling machine manufacture       6\n",
       "Guri Collective Infection                           5\n",
       "Seocho Family                                       5\n",
       "Yeonana News Class                                  5\n",
       "Changnyeong Coin Karaoke                            4\n",
       "gym facility in Sejong                              4\n",
       "Yongin Brothers                                     4\n",
       "Samsung Fire & Marine Insurance                     4\n",
       "Yeongdeungpo Learning Institute                     3\n",
       "Daezayeon Korea                                     3\n",
       "Suyeong-gu Kindergarten                             3\n",
       "Seoul City Hall Station safety worker               3\n",
       "Biblical Language study meeting                     3\n",
       "Pilgrimage to Israel                                2\n",
       "Uiwang Logistics Center                             2\n",
       "River of Grace Community Church                     1\n",
       "Orange Life                                         1\n",
       "Daejeon door-to-door sales                          1\n",
       "Anyang Gunpo Pastors Group                          1\n",
       "Gangnam Dongin Church                               1\n",
       "Name: Infection Reason, dtype: int64"
      ]
     },
     "execution_count": 20,
     "metadata": {},
     "output_type": "execute_result"
    }
   ],
   "source": [
    "df_infection['Infection Reason'].value_counts()"
   ]
  },
  {
   "cell_type": "code",
   "execution_count": 21,
   "id": "reduced-floor",
   "metadata": {},
   "outputs": [
    {
     "data": {
      "text/plain": [
       "Series([], dtype: int64)"
      ]
     },
     "execution_count": 21,
     "metadata": {},
     "output_type": "execute_result"
    }
   ],
   "source": [
    "df_infection[df_infection['Infection Reason'] == 'MISSING'].value_counts()"
   ]
  },
  {
   "cell_type": "markdown",
   "id": "conventional-negative",
   "metadata": {},
   "source": [
    "## Busan"
   ]
  },
  {
   "cell_type": "code",
   "execution_count": 22,
   "id": "going-tunnel",
   "metadata": {},
   "outputs": [
    {
     "data": {
      "text/plain": [
       "Province  Infection Reason        \n",
       "Busan     Contact with Patient        45\n",
       "          Overseas Inflow             40\n",
       "          Onchun Church               32\n",
       "          Shincheonji Church           5\n",
       "          Suyeong-gu Kindergarten      3\n",
       "          Cheongdo Daenam Hospital     1\n",
       "Name: Infection Reason, dtype: int64"
      ]
     },
     "execution_count": 22,
     "metadata": {},
     "output_type": "execute_result"
    }
   ],
   "source": [
    "df_Busan = df_infection.loc[df_infection['Province'] == 'Busan']\n",
    "df_Busan.groupby(['Province'])['Infection Reason'].value_counts()"
   ]
  },
  {
   "cell_type": "markdown",
   "id": "indian-emperor",
   "metadata": {},
   "source": [
    "## Seoul"
   ]
  },
  {
   "cell_type": "code",
   "execution_count": 23,
   "id": "competent-looking",
   "metadata": {},
   "outputs": [],
   "source": [
    "df_Seoul = df_infection.loc[df_infection['Province'] == 'Seoul']"
   ]
  },
  {
   "cell_type": "code",
   "execution_count": 24,
   "id": "standard-establishment",
   "metadata": {},
   "outputs": [],
   "source": [
    "df_groupby_Seoul = df_Seoul.groupby(['Province'])['Infection Reason'].value_counts()"
   ]
  },
  {
   "cell_type": "markdown",
   "id": "comprehensive-watch",
   "metadata": {},
   "source": [
    "## Daegu"
   ]
  },
  {
   "cell_type": "code",
   "execution_count": 25,
   "id": "understanding-summary",
   "metadata": {},
   "outputs": [],
   "source": [
    "df_Daegu = df_infection.loc[df_infection['Province'] == 'Daegu']"
   ]
  },
  {
   "cell_type": "code",
   "execution_count": 26,
   "id": "introductory-harassment",
   "metadata": {},
   "outputs": [
    {
     "data": {
      "text/plain": [
       "Province  Infection Reason    \n",
       "Daegu     Shincheonji Church      13\n",
       "          Overseas Inflow         10\n",
       "          Contact with Patient     4\n",
       "Name: Infection Reason, dtype: int64"
      ]
     },
     "execution_count": 26,
     "metadata": {},
     "output_type": "execute_result"
    }
   ],
   "source": [
    "df_Daegu.groupby(['Province'])['Infection Reason'].value_counts()"
   ]
  },
  {
   "cell_type": "markdown",
   "id": "driven-haven",
   "metadata": {},
   "source": [
    "## Gyeongsangbuk-do"
   ]
  },
  {
   "cell_type": "code",
   "execution_count": 27,
   "id": "governing-wallpaper",
   "metadata": {},
   "outputs": [],
   "source": [
    "df_Gyeongsangbukdo = df_infection.loc[df_infection['Province'] == 'Gyeongsangbuk-do']"
   ]
  },
  {
   "cell_type": "code",
   "execution_count": 28,
   "id": "photographic-category",
   "metadata": {
    "scrolled": true
   },
   "outputs": [
    {
     "data": {
      "text/plain": [
       "Province          Infection Reason                     \n",
       "Gyeongsangbuk-do  Contact with Patient                     129\n",
       "                  Bonghwa Pureun Nursing Home               31\n",
       "                  Shincheonji Church                        25\n",
       "                  Overseas Inflow                           23\n",
       "                  Cheongdo Daenam Hospital                  20\n",
       "                  Gyeongsan Seorin Nursing Home             15\n",
       "                  Gyeongsan Jeil Silver Town                12\n",
       "                  Milal Shelter                             11\n",
       "                  Gyeongsan Cham Joeun Community Center     10\n",
       "                  Pilgrimage to Israel                       2\n",
       "Name: Infection Reason, dtype: int64"
      ]
     },
     "execution_count": 28,
     "metadata": {},
     "output_type": "execute_result"
    }
   ],
   "source": [
    "df_Gyeongsangbukdo.groupby(['Province'])['Infection Reason'].value_counts()"
   ]
  },
  {
   "cell_type": "markdown",
   "id": "upset-armor",
   "metadata": {},
   "source": [
    "## Gyeonggi-do"
   ]
  },
  {
   "cell_type": "code",
   "execution_count": 29,
   "id": "competent-accessory",
   "metadata": {},
   "outputs": [],
   "source": [
    "df_Gyeonggido = df_infection.loc[df_infection['Province'] == 'Gyeonggi-do']"
   ]
  },
  {
   "cell_type": "code",
   "execution_count": 30,
   "id": "cooked-virus",
   "metadata": {
    "scrolled": true
   },
   "outputs": [
    {
     "data": {
      "text/plain": [
       "Province     Infection Reason           \n",
       "Gyeonggi-do  Contact with Patient           774\n",
       "             Overseas Inflow                236\n",
       "             Coupang Logistics Center        23\n",
       "             Itaewon Clubs                   12\n",
       "             Shincheonji Church              10\n",
       "             Richway                          5\n",
       "             Yangcheon Table Tennis Club      1\n",
       "             gym facility in Cheonan          1\n",
       "Name: Infection Reason, dtype: int64"
      ]
     },
     "execution_count": 30,
     "metadata": {},
     "output_type": "execute_result"
    }
   ],
   "source": [
    "df_Gyeonggido.groupby(['Province'])['Infection Reason'].value_counts()"
   ]
  },
  {
   "cell_type": "markdown",
   "id": "imperial-struggle",
   "metadata": {},
   "source": [
    "## Gender"
   ]
  },
  {
   "cell_type": "code",
   "execution_count": 31,
   "id": "designing-avenue",
   "metadata": {},
   "outputs": [],
   "source": [
    "df_gender = patient[['Province','Gender']]"
   ]
  },
  {
   "cell_type": "code",
   "execution_count": 32,
   "id": "earned-permit",
   "metadata": {},
   "outputs": [
    {
     "data": {
      "text/plain": [
       "Province           Gender \n",
       "Busan              Male        66\n",
       "                   Female      58\n",
       "                   MISSING      2\n",
       "Chungcheongbuk-do  Female      19\n",
       "                   Male        17\n",
       "Chungcheongnam-do  Female      94\n",
       "                   Male        52\n",
       "                   MISSING      1\n",
       "Daegu              Female      16\n",
       "                   Male        11\n",
       "Daejeon            Male        40\n",
       "                   Female      39\n",
       "Gangwon-do         Male        26\n",
       "                   Female      22\n",
       "Gwangju            Female      21\n",
       "                   Male        13\n",
       "Gyeonggi-do        Female     389\n",
       "                   Male       345\n",
       "                   MISSING    328\n",
       "Gyeongsangbuk-do   Female     164\n",
       "                   Male       114\n",
       "Gyeongsangnam-do   Male        53\n",
       "                   Female      42\n",
       "                   MISSING      1\n",
       "Incheon            Female     191\n",
       "                   Male       138\n",
       "Jeju-do            Female       8\n",
       "                   MISSING      4\n",
       "                   Male         2\n",
       "Jeollabuk-do       Male        12\n",
       "                   Female       6\n",
       "Jeollanam-do       Male        15\n",
       "                   Female       4\n",
       "Sejong             Male        27\n",
       "                   Female      18\n",
       "                   MISSING      1\n",
       "Seoul              MISSING    636\n",
       "                   Female     262\n",
       "                   Male       227\n",
       "Ulsan              Male        25\n",
       "                   Female      22\n",
       "                   MISSING      1\n",
       "Name: Gender, dtype: int64"
      ]
     },
     "execution_count": 32,
     "metadata": {},
     "output_type": "execute_result"
    }
   ],
   "source": [
    "df_gender.groupby(['Province'])['Gender'].value_counts()"
   ]
  },
  {
   "cell_type": "code",
   "execution_count": 33,
   "id": "infinite-monaco",
   "metadata": {},
   "outputs": [
    {
     "data": {
      "text/plain": [
       "Female     1375\n",
       "Male       1183\n",
       "MISSING     974\n",
       "Name: Gender, dtype: int64"
      ]
     },
     "execution_count": 33,
     "metadata": {},
     "output_type": "execute_result"
    }
   ],
   "source": [
    "df_gender['Gender'].value_counts()"
   ]
  },
  {
   "cell_type": "code",
   "execution_count": 34,
   "id": "enhanced-extra",
   "metadata": {},
   "outputs": [
    {
     "data": {
      "text/plain": [
       "Province           Gender \n",
       "Seoul              MISSING    636\n",
       "Gyeonggi-do        MISSING    328\n",
       "Jeju-do            MISSING      4\n",
       "Busan              MISSING      2\n",
       "Chungcheongnam-do  MISSING      1\n",
       "Gyeongsangnam-do   MISSING      1\n",
       "Sejong             MISSING      1\n",
       "Ulsan              MISSING      1\n",
       "dtype: int64"
      ]
     },
     "execution_count": 34,
     "metadata": {},
     "output_type": "execute_result"
    }
   ],
   "source": [
    "df_gender[df_gender['Gender'] == 'MISSING'].value_counts()"
   ]
  },
  {
   "cell_type": "markdown",
   "id": "precise-feedback",
   "metadata": {},
   "source": [
    "## Age"
   ]
  },
  {
   "cell_type": "code",
   "execution_count": 35,
   "id": "competent-society",
   "metadata": {},
   "outputs": [],
   "source": [
    "df_age = patient[['Province','Age']]"
   ]
  },
  {
   "cell_type": "code",
   "execution_count": 36,
   "id": "great-forward",
   "metadata": {},
   "outputs": [
    {
     "data": {
      "text/plain": [
       "Province           Age    \n",
       "Busan              20s         42\n",
       "                   30s         15\n",
       "                   60s         15\n",
       "                   40s         13\n",
       "                   50s         13\n",
       "                   10s         11\n",
       "                   70s          7\n",
       "                   0s           6\n",
       "                   80s          2\n",
       "                   MISSING      2\n",
       "Chungcheongbuk-do  50s          8\n",
       "                   30s          6\n",
       "                   10s          5\n",
       "                   20s          4\n",
       "                   40s          4\n",
       "                   70s          4\n",
       "                   0s           2\n",
       "                   60s          2\n",
       "                   80s          1\n",
       "Chungcheongnam-do  40s         46\n",
       "                   30s         27\n",
       "                   50s         18\n",
       "                   60s         17\n",
       "                   20s         15\n",
       "                   10s         12\n",
       "                   0s           6\n",
       "                   70s          4\n",
       "                   80s          2\n",
       "Daegu              40s          7\n",
       "                   20s          6\n",
       "                   50s          4\n",
       "                   60s          4\n",
       "                   30s          3\n",
       "                   70s          3\n",
       "Daejeon            60s         20\n",
       "                   50s         19\n",
       "                   20s         13\n",
       "                   10s          8\n",
       "                   30s          6\n",
       "                   40s          5\n",
       "                   70s          5\n",
       "                   80s          2\n",
       "                   0s           1\n",
       "Gangwon-do         60s         10\n",
       "                   20s          9\n",
       "                   50s          8\n",
       "                   30s          7\n",
       "                   40s          6\n",
       "                   70s          5\n",
       "                   80s          3\n",
       "Gwangju            20s         10\n",
       "                   30s          9\n",
       "                   60s          6\n",
       "                   40s          4\n",
       "                   10s          3\n",
       "                   50s          1\n",
       "                   80s          1\n",
       "Gyeonggi-do        MISSING    328\n",
       "                   20s        173\n",
       "                   30s        139\n",
       "                   50s        135\n",
       "                   60s         91\n",
       "                   40s         88\n",
       "                   70s         34\n",
       "                   10s         29\n",
       "                   80s         20\n",
       "                   0s          16\n",
       "                   90s          9\n",
       "Gyeongsangbuk-do   50s         48\n",
       "                   60s         44\n",
       "                   20s         43\n",
       "                   40s         34\n",
       "                   80s         32\n",
       "                   30s         20\n",
       "                   10s         18\n",
       "                   70s         17\n",
       "                   90s          9\n",
       "                   0s           8\n",
       "                   MISSING      4\n",
       "                   100s         1\n",
       "Gyeongsangnam-do   20s         26\n",
       "                   40s         17\n",
       "                   60s         14\n",
       "                   30s         12\n",
       "                   50s         12\n",
       "                   70s          6\n",
       "                   10s          5\n",
       "                   0s           3\n",
       "                   MISSING      1\n",
       "Incheon            MISSING    246\n",
       "                   20s         17\n",
       "                   50s         17\n",
       "                   30s         16\n",
       "                   40s         15\n",
       "                   60s         13\n",
       "                   0s           2\n",
       "                   70s          2\n",
       "                   90s          1\n",
       "Jeju-do            20s          5\n",
       "                   30s          4\n",
       "                   MISSING      4\n",
       "                   10s          1\n",
       "Jeollabuk-do       20s          6\n",
       "                   30s          4\n",
       "                   60s          4\n",
       "                   40s          1\n",
       "                   50s          1\n",
       "                   70s          1\n",
       "                   MISSING      1\n",
       "Jeollanam-do       20s          5\n",
       "                   40s          5\n",
       "                   30s          3\n",
       "                   60s          3\n",
       "                   50s          2\n",
       "                   10s          1\n",
       "Sejong             40s         22\n",
       "                   50s         13\n",
       "                   30s          8\n",
       "                   10s          2\n",
       "                   20s          1\n",
       "Seoul              MISSING    636\n",
       "                   20s        154\n",
       "                   50s         84\n",
       "                   30s         82\n",
       "                   40s         66\n",
       "                   60s         42\n",
       "                   10s         25\n",
       "                   70s         18\n",
       "                   80s          9\n",
       "                   0s           8\n",
       "                   90s          1\n",
       "Ulsan              20s         20\n",
       "                   50s         12\n",
       "                   40s          5\n",
       "                   30s          4\n",
       "                   60s          3\n",
       "                   10s          2\n",
       "                   70s          1\n",
       "                   MISSING      1\n",
       "Name: Age, dtype: int64"
      ]
     },
     "execution_count": 36,
     "metadata": {},
     "output_type": "execute_result"
    }
   ],
   "source": [
    "df_age.groupby(['Province'])['Age'].value_counts()"
   ]
  },
  {
   "cell_type": "code",
   "execution_count": 37,
   "id": "brave-massage",
   "metadata": {},
   "outputs": [
    {
     "data": {
      "text/plain": [
       "Province          Age    \n",
       "Seoul             MISSING    636\n",
       "Gyeonggi-do       MISSING    328\n",
       "Incheon           MISSING    246\n",
       "Gyeongsangbuk-do  MISSING      4\n",
       "Jeju-do           MISSING      4\n",
       "Busan             MISSING      2\n",
       "Gyeongsangnam-do  MISSING      1\n",
       "Jeollabuk-do      MISSING      1\n",
       "Ulsan             MISSING      1\n",
       "dtype: int64"
      ]
     },
     "execution_count": 37,
     "metadata": {},
     "output_type": "execute_result"
    }
   ],
   "source": [
    "df_age.loc[df_age['Age'] == 'MISSING'].value_counts()"
   ]
  },
  {
   "cell_type": "code",
   "execution_count": 38,
   "id": "sealed-relaxation",
   "metadata": {},
   "outputs": [
    {
     "data": {
      "text/plain": [
       "MISSING    0.346263\n",
       "20s        0.155436\n",
       "50s        0.111835\n",
       "30s        0.103341\n",
       "40s        0.095696\n",
       "60s        0.081540\n",
       "10s        0.034541\n",
       "70s        0.030294\n",
       "80s        0.020385\n",
       "0s         0.014723\n",
       "90s        0.005663\n",
       "100s       0.000283\n",
       "Name: Age, dtype: float64"
      ]
     },
     "execution_count": 38,
     "metadata": {},
     "output_type": "execute_result"
    }
   ],
   "source": [
    "df_age['Age'].value_counts(normalize=True)"
   ]
  },
  {
   "cell_type": "code",
   "execution_count": 44,
   "id": "honest-master",
   "metadata": {},
   "outputs": [
    {
     "data": {
      "text/plain": [
       "392"
      ]
     },
     "execution_count": 44,
     "metadata": {},
     "output_type": "execute_result"
    }
   ],
   "source": [
    "df_groupby_Seoul.iloc[4:].sum()"
   ]
  },
  {
   "cell_type": "code",
   "execution_count": null,
   "id": "domestic-cooper",
   "metadata": {},
   "outputs": [],
   "source": []
  },
  {
   "cell_type": "code",
   "execution_count": null,
   "id": "large-nitrogen",
   "metadata": {},
   "outputs": [],
   "source": []
  }
 ],
 "metadata": {
  "kernelspec": {
   "display_name": "Python 3",
   "language": "python",
   "name": "python3"
  },
  "language_info": {
   "codemirror_mode": {
    "name": "ipython",
    "version": 3
   },
   "file_extension": ".py",
   "mimetype": "text/x-python",
   "name": "python",
   "nbconvert_exporter": "python",
   "pygments_lexer": "ipython3",
   "version": "3.9.6"
  },
  "toc": {
   "base_numbering": 1,
   "nav_menu": {},
   "number_sections": true,
   "sideBar": true,
   "skip_h1_title": false,
   "title_cell": "Table of Contents",
   "title_sidebar": "Contents",
   "toc_cell": false,
   "toc_position": {},
   "toc_section_display": true,
   "toc_window_display": false
  }
 },
 "nbformat": 4,
 "nbformat_minor": 5
}
