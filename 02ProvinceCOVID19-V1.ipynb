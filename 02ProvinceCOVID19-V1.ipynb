{
 "cells": [
  {
   "cell_type": "markdown",
   "id": "corresponding-arrival",
   "metadata": {},
   "source": [
    "# 02ProvinceCOVID19-V1"
   ]
  },
  {
   "cell_type": "markdown",
   "id": "every-inspiration",
   "metadata": {},
   "source": [
    "# Libraries"
   ]
  },
  {
   "cell_type": "code",
   "execution_count": 1,
   "id": "developing-fiction",
   "metadata": {},
   "outputs": [],
   "source": [
    "%matplotlib inline\n",
    "\n",
    "import pandas as pd\n",
    "import numpy as np\n",
    "import seaborn as sns\n",
    "import matplotlib.pyplot as plt\n",
    "import warnings\n",
    "from IPython.display import display"
   ]
  },
  {
   "cell_type": "markdown",
   "id": "specified-working",
   "metadata": {},
   "source": [
    "# Load Data"
   ]
  },
  {
   "cell_type": "code",
   "execution_count": 2,
   "id": "incident-austin",
   "metadata": {},
   "outputs": [],
   "source": [
    "province = pd.read_csv(\n",
    "    \"C:\\py\\Projects\\TuringCollege\\COVID19\\DataSets\\province.csv\",\n",
    "    index_col=False,\n",
    "    skipinitialspace=True,\n",
    ")"
   ]
  },
  {
   "cell_type": "code",
   "execution_count": 3,
   "id": "integral-encounter",
   "metadata": {},
   "outputs": [],
   "source": [
    "province[\"date\"] = province[\"date\"].astype(\"datetime64[ns]\")"
   ]
  },
  {
   "cell_type": "code",
   "execution_count": 4,
   "id": "selective-mirror",
   "metadata": {},
   "outputs": [],
   "source": [
    "province = province.drop([\"time\", \"released\"], axis=1)"
   ]
  },
  {
   "cell_type": "code",
   "execution_count": 5,
   "id": "turkish-rental",
   "metadata": {
    "scrolled": true
   },
   "outputs": [],
   "source": [
    "province.rename(\n",
    "    columns={\n",
    "       \"date\": \"Date\",\n",
    "        \"province\": \"Province\",\n",
    "        \"confirmed\": \"Confirmed\",\n",
    "        \"deceased\": \"Deceased\"\n",
    "    },\n",
    "    inplace=True,\n",
    ")"
   ]
  },
  {
   "cell_type": "code",
   "execution_count": 6,
   "id": "closing-malpractice",
   "metadata": {
    "scrolled": true
   },
   "outputs": [
    {
     "data": {
      "text/html": [
       "<div>\n",
       "<style scoped>\n",
       "    .dataframe tbody tr th:only-of-type {\n",
       "        vertical-align: middle;\n",
       "    }\n",
       "\n",
       "    .dataframe tbody tr th {\n",
       "        vertical-align: top;\n",
       "    }\n",
       "\n",
       "    .dataframe thead th {\n",
       "        text-align: right;\n",
       "    }\n",
       "</style>\n",
       "<table border=\"1\" class=\"dataframe\">\n",
       "  <thead>\n",
       "    <tr style=\"text-align: right;\">\n",
       "      <th></th>\n",
       "      <th>Date</th>\n",
       "      <th>Province</th>\n",
       "      <th>Confirmed</th>\n",
       "      <th>Deceased</th>\n",
       "    </tr>\n",
       "  </thead>\n",
       "  <tbody>\n",
       "    <tr>\n",
       "      <th>0</th>\n",
       "      <td>2020-01-20</td>\n",
       "      <td>Seoul</td>\n",
       "      <td>0</td>\n",
       "      <td>0</td>\n",
       "    </tr>\n",
       "    <tr>\n",
       "      <th>1</th>\n",
       "      <td>2020-01-20</td>\n",
       "      <td>Busan</td>\n",
       "      <td>0</td>\n",
       "      <td>0</td>\n",
       "    </tr>\n",
       "    <tr>\n",
       "      <th>2</th>\n",
       "      <td>2020-01-20</td>\n",
       "      <td>Daegu</td>\n",
       "      <td>0</td>\n",
       "      <td>0</td>\n",
       "    </tr>\n",
       "    <tr>\n",
       "      <th>3</th>\n",
       "      <td>2020-01-20</td>\n",
       "      <td>Incheon</td>\n",
       "      <td>1</td>\n",
       "      <td>0</td>\n",
       "    </tr>\n",
       "    <tr>\n",
       "      <th>4</th>\n",
       "      <td>2020-01-20</td>\n",
       "      <td>Gwangju</td>\n",
       "      <td>0</td>\n",
       "      <td>0</td>\n",
       "    </tr>\n",
       "  </tbody>\n",
       "</table>\n",
       "</div>"
      ],
      "text/plain": [
       "        Date Province  Confirmed  Deceased\n",
       "0 2020-01-20    Seoul          0         0\n",
       "1 2020-01-20    Busan          0         0\n",
       "2 2020-01-20    Daegu          0         0\n",
       "3 2020-01-20  Incheon          1         0\n",
       "4 2020-01-20  Gwangju          0         0"
      ]
     },
     "execution_count": 6,
     "metadata": {},
     "output_type": "execute_result"
    }
   ],
   "source": [
    "province.head()"
   ]
  },
  {
   "cell_type": "markdown",
   "id": "received-estimate",
   "metadata": {},
   "source": [
    "# Confirmed Cases by Province"
   ]
  },
  {
   "cell_type": "code",
   "execution_count": 7,
   "id": "descending-building",
   "metadata": {},
   "outputs": [],
   "source": [
    "groupby_province = (\n",
    "    province[[\"Province\", \"Confirmed\"]]\n",
    "    .groupby([\"Province\"])\n",
    "    .max()\n",
    "    .sort_values(\"Confirmed\", ascending=False)\n",
    ")\n",
    "\n",
    "groupby_province = groupby_province.reset_index()"
   ]
  },
  {
   "cell_type": "code",
   "execution_count": 8,
   "id": "infinite-hacker",
   "metadata": {},
   "outputs": [],
   "source": [
    "groupby_province.query('Confirmed>1000', inplace=True)"
   ]
  },
  {
   "cell_type": "code",
   "execution_count": 21,
   "id": "noted-twenty",
   "metadata": {
    "scrolled": true
   },
   "outputs": [],
   "source": [
    "# plt.figure(figsize=(10, 10))\n",
    "\n",
    "# plt.title(\"Highest Number of Confirmed Cases\", fontsize=30, y=1);\n",
    "\n",
    "# ord_color = \"bisque\"\n",
    "# spec_lev1 = \"red\"\n",
    "\n",
    "# palette = {\n",
    "#     \"Daegu\": spec_lev1,\n",
    "#     \"Gyeongsangbuk-do\": ord_color,\n",
    "#     \"Seoul\": ord_color,\n",
    "#     \"Gyeonggi-do\": ord_color,\n",
    "# }\n",
    "\n",
    "# chart = sns.barplot(\n",
    "#     x=\"Confirmed\",\n",
    "#     y=\"Province\",\n",
    "#     ci=None,\n",
    "#     dodge=False,\n",
    "#     data=groupby_province,\n",
    "#     order=groupby_province.sort_values(\"Confirmed\", ascending=False).Province,\n",
    "#     palette=palette\n",
    "# )\n",
    "\n",
    "# plt.xticks(fontsize=25)\n",
    "# plt.yticks(fontsize=25)\n",
    "# plt.xlabel(\"Confirmed\", fontsize=25, labelpad=25)\n",
    "# plt.ylabel(\"Province\", fontsize=25, labelpad=25)\n",
    "\n",
    "# sns.despine(left=True, bottom=True)\n",
    "# chart.bar_label(chart.containers[0], size=25);"
   ]
  },
  {
   "cell_type": "code",
   "execution_count": 10,
   "id": "temporal-comparative",
   "metadata": {},
   "outputs": [
    {
     "ename": "NameError",
     "evalue": "name 'province_all' is not defined",
     "output_type": "error",
     "traceback": [
      "\u001b[1;31m---------------------------------------------------------------------------\u001b[0m",
      "\u001b[1;31mNameError\u001b[0m                                 Traceback (most recent call last)",
      "\u001b[1;32m<ipython-input-10-20510dfecbf6>\u001b[0m in \u001b[0;36m<module>\u001b[1;34m\u001b[0m\n\u001b[1;32m----> 1\u001b[1;33m chart = province_all.sort_values('Confirmed', ascending=False).plot(\n\u001b[0m\u001b[0;32m      2\u001b[0m     \u001b[0mkind\u001b[0m\u001b[1;33m=\u001b[0m\u001b[1;34m\"bar\"\u001b[0m\u001b[1;33m,\u001b[0m\u001b[1;33m\u001b[0m\u001b[1;33m\u001b[0m\u001b[0m\n\u001b[0;32m      3\u001b[0m     \u001b[0mstacked\u001b[0m\u001b[1;33m=\u001b[0m\u001b[1;32mTrue\u001b[0m\u001b[1;33m,\u001b[0m\u001b[1;33m\u001b[0m\u001b[1;33m\u001b[0m\u001b[0m\n\u001b[0;32m      4\u001b[0m     \u001b[0mcolor\u001b[0m\u001b[1;33m=\u001b[0m\u001b[1;33m[\u001b[0m\u001b[1;34m\"crimson\"\u001b[0m\u001b[1;33m,\u001b[0m \u001b[1;34m\"bisque\"\u001b[0m\u001b[1;33m]\u001b[0m\u001b[1;33m,\u001b[0m\u001b[1;33m\u001b[0m\u001b[1;33m\u001b[0m\u001b[0m\n\u001b[0;32m      5\u001b[0m     \u001b[0mfigsize\u001b[0m\u001b[1;33m=\u001b[0m\u001b[1;33m(\u001b[0m\u001b[1;36m20\u001b[0m\u001b[1;33m,\u001b[0m \u001b[1;36m10\u001b[0m\u001b[1;33m)\u001b[0m\u001b[1;33m,\u001b[0m\u001b[1;33m\u001b[0m\u001b[1;33m\u001b[0m\u001b[0m\n",
      "\u001b[1;31mNameError\u001b[0m: name 'province_all' is not defined"
     ]
    }
   ],
   "source": [
    "# chart = province_all.sort_values('Confirmed', ascending=False).plot(\n",
    "#     kind=\"bar\",\n",
    "#     stacked=True,\n",
    "#     color=[\"crimson\", \"bisque\"],\n",
    "#     figsize=(20, 10),\n",
    "# #     log=True\n",
    "# )\n",
    "\n",
    "# plt.xticks(fontsize=25)\n",
    "# plt.yticks(fontsize=25)\n",
    "# plt.xlabel(\"Location\", fontsize=25, labelpad=25)\n",
    "# plt.ylabel(\"Confirmed / Deceased\", fontsize=25, labelpad=25)\n",
    "# plt.legend(loc='upper right', fontsize='30', title_fontsize='30')\n",
    "\n",
    "# chart.set_xticklabels(chart.get_xticklabels(), rotation=45, horizontalalignment=\"right\")\n",
    "# # chart.set(ylim=(1000, 6000))\n",
    "# sns.despine(left=True, bottom=True);"
   ]
  },
  {
   "cell_type": "code",
   "execution_count": 11,
   "id": "bound-organ",
   "metadata": {},
   "outputs": [],
   "source": [
    "population_size = {\n",
    "    \"Population\": pd.Series(\n",
    "        [\n",
    "            3468139,\n",
    "            2640441,\n",
    "            9975709,\n",
    "            13511676,\n",
    "            2938457,\n",
    "            2176636,\n",
    "            3333056,\n",
    "            1545717,\n",
    "            1632088,\n",
    "            1521763,\n",
    "            1138225,\n",
    "            353933,\n",
    "            1526000,\n",
    "            1797031,\n",
    "            1788807,\n",
    "            670858,\n",
    "            2184528,\n",
    "        ],\n",
    "        index=[\n",
    "            \"Busan\",\n",
    "            \"Gyeongsangbuk-do\",\n",
    "            \"Seoul\",\n",
    "            \"Gyeonggi-do\",\n",
    "            \"Incheon\",\n",
    "            \"Chungcheongnam-do\",\n",
    "            \"Gyeongsangnam-do\",\n",
    "            \"Daejeon\",\n",
    "            \"Chungcheongbuk-do\",\n",
    "            \"Gangwon-do\",\n",
    "            \"Ulsan\",\n",
    "            \"Sejong\",\n",
    "            \"Gwangju\",\n",
    "            \"Jeollabuk-do\",\n",
    "            \"Jeollanam-do\",\n",
    "            \"Jeju-do\",\n",
    "            \"Daegu\"           \n",
    "        ],\n",
    "    )\n",
    "}\n",
    "\n",
    "population_size = pd.DataFrame(population_size)\n",
    "population_size.index.names = ['Province']"
   ]
  },
  {
   "cell_type": "code",
   "execution_count": 12,
   "id": "seventh-hayes",
   "metadata": {},
   "outputs": [],
   "source": [
    "province_all = (\n",
    "    province[[\"Province\", \"Confirmed\", \"Deceased\"]].groupby([\"Province\"]).max()\n",
    ")"
   ]
  },
  {
   "cell_type": "code",
   "execution_count": 13,
   "id": "liquid-sussex",
   "metadata": {
    "scrolled": true
   },
   "outputs": [],
   "source": [
    "df_inner = pd.merge(province_all, population_size, on='Province', how='inner')\n",
    "df_inner = df_inner [[\"Population\", \"Confirmed\", \"Deceased\"]]\n",
    "df_inner = df_inner.reset_index()"
   ]
  },
  {
   "cell_type": "code",
   "execution_count": 20,
   "id": "competent-johnson",
   "metadata": {},
   "outputs": [
    {
     "data": {
      "image/png": "[encoded data removed]",
      "text/plain": [
       "<Figure size 1440x720 with 2 Axes>"
      ]
     },
     "metadata": {
      "needs_background": "light"
     },
     "output_type": "display_data"
    }
   ],
   "source": [
    "fig = plt.figure(figsize=(20,10))\n",
    "\n",
    "ax = fig.add_subplot(111) \n",
    "ax2 = ax.twinx() \n",
    "\n",
    "width = 0.5\n",
    "\n",
    "# chart = province_all.sort_values('Confirmed', ascending=False).plot(\n",
    "\n",
    "df_inner.sort_values('Population', ascending=False).plot(kind='bar', color='red', ax=ax, width=width, position=0)\n",
    "df_inner.Confirmed.plot(kind='bar', color='blue', ax=ax2, width=width, position=1)\n",
    "\n",
    "# plt.xticks(\"Province\")\n",
    "ax.set_ylabel('Population')\n",
    "ax2.set_ylabel('Confirmed')\n",
    "\n",
    "plt.show()"
   ]
  },
  {
   "cell_type": "code",
   "execution_count": 15,
   "id": "major-relation",
   "metadata": {},
   "outputs": [
    {
     "data": {
      "image/png": "[encoded data removed]",
      "text/plain": [
       "<Figure size 1080x360 with 3 Axes>"
      ]
     },
     "metadata": {
      "needs_background": "light"
     },
     "output_type": "display_data"
    }
   ],
   "source": [
    "fig, axes = plt.subplots(1, 3, figsize=(15, 5), sharey=True)\n",
    "fig.suptitle('Big Numbers')\n",
    "\n",
    "# Bulbasaur\n",
    "sns.barplot(ax=axes[0], x=df_inner[\"Province\"], y=df_inner[\"Population\"])\n",
    "axes[0].set_title(\"Population\")\n",
    "\n",
    "\n",
    "# Charmander\n",
    "sns.barplot(ax=axes[1], x=df_inner[\"Province\"], y=df_inner[\"Confirmed\"])\n",
    "axes[1].set_title(\"Confirmed\")\n",
    "\n",
    "\n",
    "# Squirtle\n",
    "sns.barplot(ax=axes[2], x=df_inner[\"Province\"], y=df_inner[\"Deceased\"])\n",
    "axes[2].set_title(\"Deceased\")\n",
    "\n",
    "plt.show();"
   ]
  },
  {
   "cell_type": "code",
   "execution_count": 16,
   "id": "fuzzy-eclipse",
   "metadata": {},
   "outputs": [
    {
     "data": {
      "image/png": "[encoded data removed]",
      "text/plain": [
       "<Figure size 720x360 with 1 Axes>"
      ]
     },
     "metadata": {
      "needs_background": "light"
     },
     "output_type": "display_data"
    }
   ],
   "source": [
    "fig, ax = plt.subplots(figsize=(10,5))\n",
    "\n",
    "\n",
    "width = 0.4\n",
    "\n",
    "plt.bar(df_inner['Population'],\n",
    "        width, color='tab:red', label='wine') \n",
    "plt.bar(df_inner['Confirmed'],\n",
    "        width, color='gold', label='beer')\n",
    "\n",
    "\n",
    "plt.title('TOP 5 countries by pure alcohol consumption', fontsize=25)\n",
    "plt.xlabel(None)\n",
    "# plt.xticks(top5_alcohol.index, top5_alcohol['country'], fontsize=17)\n",
    "plt.ylabel('Servings per person', fontsize=20)\n",
    "plt.yticks(fontsize=17)\n",
    "sns.despine(bottom=True)\n",
    "ax.grid(False)\n",
    "ax.tick_params(bottom=False, left=True)\n",
    "plt.legend(frameon=False, fontsize=15)\n",
    "plt.show()"
   ]
  },
  {
   "cell_type": "code",
   "execution_count": null,
   "id": "wanted-arkansas",
   "metadata": {},
   "outputs": [],
   "source": []
  },
  {
   "cell_type": "code",
   "execution_count": null,
   "id": "revised-punch",
   "metadata": {},
   "outputs": [],
   "source": []
  }
 ],
 "metadata": {
  "kernelspec": {
   "display_name": "Python 3",
   "language": "python",
   "name": "python3"
  },
  "language_info": {
   "codemirror_mode": {
    "name": "ipython",
    "version": 3
   },
   "file_extension": ".py",
   "mimetype": "text/x-python",
   "name": "python",
   "nbconvert_exporter": "python",
   "pygments_lexer": "ipython3",
   "version": "3.9.6"
  },
  "toc": {
   "base_numbering": 1,
   "nav_menu": {},
   "number_sections": true,
   "sideBar": true,
   "skip_h1_title": false,
   "title_cell": "Table of Contents",
   "title_sidebar": "Contents",
   "toc_cell": false,
   "toc_position": {},
   "toc_section_display": true,
   "toc_window_display": false
  }
 },
 "nbformat": 4,
 "nbformat_minor": 5
}
