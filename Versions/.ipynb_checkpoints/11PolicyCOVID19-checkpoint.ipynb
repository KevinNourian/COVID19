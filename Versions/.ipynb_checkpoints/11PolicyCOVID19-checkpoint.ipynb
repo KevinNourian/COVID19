{
 "cells": [
  {
   "cell_type": "markdown",
   "id": "corresponding-arrival",
   "metadata": {},
   "source": [
    "\n",
    "# 11PolicyCOVID19"
   ]
  },
  {
   "cell_type": "markdown",
   "id": "every-inspiration",
   "metadata": {},
   "source": [
    "# Libraries"
   ]
  },
  {
   "cell_type": "code",
   "execution_count": 79,
   "id": "developing-fiction",
   "metadata": {},
   "outputs": [],
   "source": [
    "%matplotlib inline\n",
    "\n",
    "import pandas as pd\n",
    "import numpy as np\n",
    "import seaborn as sns\n",
    "import matplotlib.pyplot as plt\n",
    "import warnings\n",
    "from IPython.display import display"
   ]
  },
  {
   "cell_type": "markdown",
   "id": "specified-working",
   "metadata": {},
   "source": [
    "# Loading Data"
   ]
  },
  {
   "cell_type": "code",
   "execution_count": 80,
   "id": "incident-austin",
   "metadata": {},
   "outputs": [],
   "source": [
    "policy = pd.read_csv(\n",
    "    \"C:\\py\\Projects\\TuringCollege\\COVID19\\DataSets\\\\policy.csv\",\n",
    "    parse_dates=[\"start_date\"],\n",
    "    index_col = 'start_date'\n",
    ")"
   ]
  },
  {
   "cell_type": "markdown",
   "id": "apart-browse",
   "metadata": {},
   "source": [
    "# Display Data"
   ]
  },
  {
   "cell_type": "code",
   "execution_count": 81,
   "id": "young-single",
   "metadata": {},
   "outputs": [],
   "source": [
    "pd.set_option(\"display.max.columns\", None)\n",
    "pd.set_option(\"max_rows\", None)"
   ]
  },
  {
   "cell_type": "markdown",
   "id": "democratic-registration",
   "metadata": {},
   "source": [
    "# Size"
   ]
  },
  {
   "cell_type": "code",
   "execution_count": 82,
   "id": "eleven-climate",
   "metadata": {
    "scrolled": true
   },
   "outputs": [
    {
     "data": {
      "text/plain": [
       "(61, 6)"
      ]
     },
     "execution_count": 82,
     "metadata": {},
     "output_type": "execute_result"
    }
   ],
   "source": [
    "policy.shape"
   ]
  },
  {
   "cell_type": "markdown",
   "id": "hidden-alliance",
   "metadata": {},
   "source": [
    "# Data Types"
   ]
  },
  {
   "cell_type": "code",
   "execution_count": 83,
   "id": "coated-indonesia",
   "metadata": {
    "scrolled": false
   },
   "outputs": [
    {
     "data": {
      "text/plain": [
       "policy_id      int64\n",
       "country       object\n",
       "type          object\n",
       "gov_policy    object\n",
       "detail        object\n",
       "end_date      object\n",
       "dtype: object"
      ]
     },
     "execution_count": 83,
     "metadata": {},
     "output_type": "execute_result"
    }
   ],
   "source": [
    "policy.dtypes"
   ]
  },
  {
   "cell_type": "markdown",
   "id": "spare-infection",
   "metadata": {},
   "source": [
    "# Missing Data"
   ]
  },
  {
   "cell_type": "code",
   "execution_count": 84,
   "id": "incorporated-instrument",
   "metadata": {
    "scrolled": true
   },
   "outputs": [
    {
     "data": {
      "text/plain": [
       "policy_id      0\n",
       "country        0\n",
       "type           0\n",
       "gov_policy     0\n",
       "detail         2\n",
       "end_date      37\n",
       "dtype: int64"
      ]
     },
     "execution_count": 84,
     "metadata": {},
     "output_type": "execute_result"
    }
   ],
   "source": [
    "policy.isna().sum()"
   ]
  },
  {
   "cell_type": "markdown",
   "id": "forced-ministry",
   "metadata": {},
   "source": [
    "# Delete Unneeded Columns"
   ]
  },
  {
   "cell_type": "code",
   "execution_count": 85,
   "id": "selective-mirror",
   "metadata": {},
   "outputs": [],
   "source": [
    "policy = policy.drop(\n",
    "    [\n",
    "        \"policy_id\",\n",
    "        \"country\",\n",
    "        \"type\",\n",
    "        \"detail\",\n",
    "        \"end_date\"\n",
    "    ],\n",
    "    axis=1,\n",
    ")"
   ]
  },
  {
   "cell_type": "markdown",
   "id": "green-arrangement",
   "metadata": {},
   "source": [
    "# Rename Columns"
   ]
  },
  {
   "cell_type": "code",
   "execution_count": 86,
   "id": "turkish-rental",
   "metadata": {},
   "outputs": [],
   "source": [
    "policy.rename(\n",
    "    columns={\n",
    "        \"gov_policy\": \"Policy\",     \n",
    "    },\n",
    "    inplace=True,\n",
    ")"
   ]
  },
  {
   "cell_type": "markdown",
   "id": "soviet-health",
   "metadata": {},
   "source": [
    "# Rename Column Values"
   ]
  },
  {
   "cell_type": "code",
   "execution_count": 87,
   "id": "improving-april",
   "metadata": {},
   "outputs": [],
   "source": [
    "policy.replace('Close bars and clubs', 'Close Bars and Clubs', inplace=True)\n",
    "policy.replace('local government Administrative orders', 'Local Government Administrative Orders', inplace=True)\n",
    "policy.replace('Close karaoke', 'Close Karaoke', inplace=True)\n",
    "policy.replace('Logistics center', 'Logistics Center', inplace=True)\n",
    "policy.replace('Thanks to Challenge korea', 'Thanks to Challenge Korea', inplace=True)\n",
    "policy.replace('Wearing of masks', 'Wearing of Masks', inplace=True)"
   ]
  },
  {
   "cell_type": "markdown",
   "id": "blank-student",
   "metadata": {},
   "source": [
    "# Clean Patient Dataset"
   ]
  },
  {
   "cell_type": "code",
   "execution_count": 92,
   "id": "pretty-exemption",
   "metadata": {},
   "outputs": [
    {
     "data": {
      "text/html": [
       "<div>\n",
       "<style scoped>\n",
       "    .dataframe tbody tr th:only-of-type {\n",
       "        vertical-align: middle;\n",
       "    }\n",
       "\n",
       "    .dataframe tbody tr th {\n",
       "        vertical-align: top;\n",
       "    }\n",
       "\n",
       "    .dataframe thead th {\n",
       "        text-align: right;\n",
       "    }\n",
       "</style>\n",
       "<table border=\"1\" class=\"dataframe\">\n",
       "  <thead>\n",
       "    <tr style=\"text-align: right;\">\n",
       "      <th></th>\n",
       "      <th>Policy</th>\n",
       "    </tr>\n",
       "    <tr>\n",
       "      <th>Date</th>\n",
       "      <th></th>\n",
       "    </tr>\n",
       "  </thead>\n",
       "  <tbody>\n",
       "    <tr>\n",
       "      <th>2020-01-03</th>\n",
       "      <td>Infectious Disease Alert Level</td>\n",
       "    </tr>\n",
       "    <tr>\n",
       "      <th>2020-01-20</th>\n",
       "      <td>Open Data</td>\n",
       "    </tr>\n",
       "    <tr>\n",
       "      <th>2020-02-04</th>\n",
       "      <td>Special Immigration Procedure</td>\n",
       "    </tr>\n",
       "    <tr>\n",
       "      <th>2020-02-04</th>\n",
       "      <td>Emergency Use Authorization of Diagnostic Kit</td>\n",
       "    </tr>\n",
       "    <tr>\n",
       "      <th>2020-02-12</th>\n",
       "      <td>Self-Diagnosis App</td>\n",
       "    </tr>\n",
       "    <tr>\n",
       "      <th>2020-02-26</th>\n",
       "      <td>Drive-Through Screening Center</td>\n",
       "    </tr>\n",
       "    <tr>\n",
       "      <th>2020-02-27</th>\n",
       "      <td>Mask Distribution</td>\n",
       "    </tr>\n",
       "    <tr>\n",
       "      <th>2020-02-29</th>\n",
       "      <td>Social Distancing Campaign</td>\n",
       "    </tr>\n",
       "    <tr>\n",
       "      <th>2020-03-02</th>\n",
       "      <td>School Closure</td>\n",
       "    </tr>\n",
       "    <tr>\n",
       "      <th>2020-03-02</th>\n",
       "      <td>School Opening Delay</td>\n",
       "    </tr>\n",
       "    <tr>\n",
       "      <th>2020-03-07</th>\n",
       "      <td>Self-Quarantine Safety Protection App</td>\n",
       "    </tr>\n",
       "    <tr>\n",
       "      <th>2020-03-08</th>\n",
       "      <td>Open API</td>\n",
       "    </tr>\n",
       "    <tr>\n",
       "      <th>2020-04-01</th>\n",
       "      <td>Mandatory 14-day Self-Quarantine</td>\n",
       "    </tr>\n",
       "    <tr>\n",
       "      <th>2020-04-09</th>\n",
       "      <td>School Opening with Online Class</td>\n",
       "    </tr>\n",
       "    <tr>\n",
       "      <th>2020-04-13</th>\n",
       "      <td>Mandatory Self-Quarantine &amp; Diagonostic Tests</td>\n",
       "    </tr>\n",
       "    <tr>\n",
       "      <th>2020-04-16</th>\n",
       "      <td>Thanks to Challenge Korea</td>\n",
       "    </tr>\n",
       "    <tr>\n",
       "      <th>2020-04-27</th>\n",
       "      <td>Electronic Wristbands</td>\n",
       "    </tr>\n",
       "    <tr>\n",
       "      <th>2020-05-08</th>\n",
       "      <td>Close Bars and Clubs</td>\n",
       "    </tr>\n",
       "    <tr>\n",
       "      <th>2020-05-16</th>\n",
       "      <td>Local Government Administrative Orders</td>\n",
       "    </tr>\n",
       "    <tr>\n",
       "      <th>2020-05-21</th>\n",
       "      <td>Close Karaoke</td>\n",
       "    </tr>\n",
       "    <tr>\n",
       "      <th>2020-05-27</th>\n",
       "      <td>Wearing of Masks</td>\n",
       "    </tr>\n",
       "    <tr>\n",
       "      <th>2020-05-28</th>\n",
       "      <td>Extends Tightened Quarantine Measures</td>\n",
       "    </tr>\n",
       "    <tr>\n",
       "      <th>2020-05-29</th>\n",
       "      <td>Logistics Center</td>\n",
       "    </tr>\n",
       "    <tr>\n",
       "      <th>2020-06-10</th>\n",
       "      <td>KI-Pass: Korea Internet - Pass</td>\n",
       "    </tr>\n",
       "  </tbody>\n",
       "</table>\n",
       "</div>"
      ],
      "text/plain": [
       "                                                   Policy\n",
       "Date                                                     \n",
       "2020-01-03                 Infectious Disease Alert Level\n",
       "2020-01-20                                     Open Data \n",
       "2020-02-04                  Special Immigration Procedure\n",
       "2020-02-04  Emergency Use Authorization of Diagnostic Kit\n",
       "2020-02-12                             Self-Diagnosis App\n",
       "2020-02-26                 Drive-Through Screening Center\n",
       "2020-02-27                              Mask Distribution\n",
       "2020-02-29                     Social Distancing Campaign\n",
       "2020-03-02                                 School Closure\n",
       "2020-03-02                           School Opening Delay\n",
       "2020-03-07          Self-Quarantine Safety Protection App\n",
       "2020-03-08                                       Open API\n",
       "2020-04-01               Mandatory 14-day Self-Quarantine\n",
       "2020-04-09               School Opening with Online Class\n",
       "2020-04-13  Mandatory Self-Quarantine & Diagonostic Tests\n",
       "2020-04-16                      Thanks to Challenge Korea\n",
       "2020-04-27                          Electronic Wristbands\n",
       "2020-05-08                           Close Bars and Clubs\n",
       "2020-05-16         Local Government Administrative Orders\n",
       "2020-05-21                                  Close Karaoke\n",
       "2020-05-27                               Wearing of Masks\n",
       "2020-05-28         Extends Tightened Quarantine Measures \n",
       "2020-05-29                               Logistics Center\n",
       "2020-06-10                 KI-Pass: Korea Internet - Pass"
      ]
     },
     "execution_count": 92,
     "metadata": {},
     "output_type": "execute_result"
    }
   ],
   "source": [
    "policy.index.names = ['Date']\n",
    "policy.drop_duplicates(keep=\"first\", inplace=True)\n",
    "policy.reset_index()\n",
    "policy.sort_values('Date', ascending = True)"
   ]
  },
  {
   "cell_type": "markdown",
   "id": "previous-relation",
   "metadata": {},
   "source": [
    "# Policy by Date"
   ]
  },
  {
   "cell_type": "code",
   "execution_count": 47,
   "id": "multiple-european",
   "metadata": {},
   "outputs": [],
   "source": [
    "# policy = policy.asfreq(freq='W')\n",
    "# policy.columns.name = None         \n",
    "# policy = policy.reset_index() \n",
    "# policy = policy.set_index('Date')"
   ]
  },
  {
   "cell_type": "code",
   "execution_count": null,
   "id": "seasonal-richards",
   "metadata": {},
   "outputs": [],
   "source": []
  }
 ],
 "metadata": {
  "kernelspec": {
   "display_name": "Python 3",
   "language": "python",
   "name": "python3"
  },
  "language_info": {
   "codemirror_mode": {
    "name": "ipython",
    "version": 3
   },
   "file_extension": ".py",
   "mimetype": "text/x-python",
   "name": "python",
   "nbconvert_exporter": "python",
   "pygments_lexer": "ipython3",
   "version": "3.9.6"
  },
  "toc": {
   "base_numbering": 1,
   "nav_menu": {},
   "number_sections": true,
   "sideBar": true,
   "skip_h1_title": false,
   "title_cell": "Table of Contents",
   "title_sidebar": "Contents",
   "toc_cell": false,
   "toc_position": {},
   "toc_section_display": true,
   "toc_window_display": false
  }
 },
 "nbformat": 4,
 "nbformat_minor": 5
}
