{
 "cells": [
  {
   "cell_type": "markdown",
   "id": "corresponding-arrival",
   "metadata": {},
   "source": [
    "# 02ProvinceCOVID19-V3"
   ]
  },
  {
   "cell_type": "markdown",
   "id": "every-inspiration",
   "metadata": {},
   "source": [
    "# Libraries"
   ]
  },
  {
   "cell_type": "code",
   "execution_count": 61,
   "id": "developing-fiction",
   "metadata": {},
   "outputs": [],
   "source": [
    "%matplotlib inline\n",
    "\n",
    "import pandas as pd\n",
    "import numpy as np\n",
    "import seaborn as sns\n",
    "import matplotlib.pyplot as plt\n",
    "import warnings\n",
    "from IPython.display import display"
   ]
  },
  {
   "cell_type": "markdown",
   "id": "specified-working",
   "metadata": {},
   "source": [
    "# Load Data"
   ]
  },
  {
   "cell_type": "code",
   "execution_count": 62,
   "id": "incident-austin",
   "metadata": {},
   "outputs": [],
   "source": [
    "province = pd.read_csv(\n",
    "    \"C:\\py\\Projects\\TuringCollege\\COVID19\\DataSets\\province.csv\",\n",
    "    index_col=False,\n",
    "    skipinitialspace=True,\n",
    ")"
   ]
  },
  {
   "cell_type": "code",
   "execution_count": 63,
   "id": "integral-encounter",
   "metadata": {},
   "outputs": [],
   "source": [
    "province[\"date\"] = province[\"date\"].astype(\"datetime64[ns]\")"
   ]
  },
  {
   "cell_type": "code",
   "execution_count": 64,
   "id": "selective-mirror",
   "metadata": {},
   "outputs": [],
   "source": [
    "province = province.drop([\"time\", \"released\", \"deceased\"], axis=1)"
   ]
  },
  {
   "cell_type": "code",
   "execution_count": 65,
   "id": "turkish-rental",
   "metadata": {
    "scrolled": true
   },
   "outputs": [],
   "source": [
    "province.rename(\n",
    "    columns={\n",
    "       \"date\": \"Date\",\n",
    "        \"province\": \"Province\",\n",
    "        \"confirmed\": \"Confirmed\",\n",
    "    },\n",
    "    inplace=True,\n",
    ")"
   ]
  },
  {
   "cell_type": "code",
   "execution_count": 66,
   "id": "closing-malpractice",
   "metadata": {
    "scrolled": true
   },
   "outputs": [
    {
     "data": {
      "text/html": [
       "<div>\n",
       "<style scoped>\n",
       "    .dataframe tbody tr th:only-of-type {\n",
       "        vertical-align: middle;\n",
       "    }\n",
       "\n",
       "    .dataframe tbody tr th {\n",
       "        vertical-align: top;\n",
       "    }\n",
       "\n",
       "    .dataframe thead th {\n",
       "        text-align: right;\n",
       "    }\n",
       "</style>\n",
       "<table border=\"1\" class=\"dataframe\">\n",
       "  <thead>\n",
       "    <tr style=\"text-align: right;\">\n",
       "      <th></th>\n",
       "      <th>Date</th>\n",
       "      <th>Province</th>\n",
       "      <th>Confirmed</th>\n",
       "    </tr>\n",
       "  </thead>\n",
       "  <tbody>\n",
       "    <tr>\n",
       "      <th>0</th>\n",
       "      <td>2020-01-20</td>\n",
       "      <td>Seoul</td>\n",
       "      <td>0</td>\n",
       "    </tr>\n",
       "    <tr>\n",
       "      <th>1</th>\n",
       "      <td>2020-01-20</td>\n",
       "      <td>Busan</td>\n",
       "      <td>0</td>\n",
       "    </tr>\n",
       "    <tr>\n",
       "      <th>2</th>\n",
       "      <td>2020-01-20</td>\n",
       "      <td>Daegu</td>\n",
       "      <td>0</td>\n",
       "    </tr>\n",
       "    <tr>\n",
       "      <th>3</th>\n",
       "      <td>2020-01-20</td>\n",
       "      <td>Incheon</td>\n",
       "      <td>1</td>\n",
       "    </tr>\n",
       "    <tr>\n",
       "      <th>4</th>\n",
       "      <td>2020-01-20</td>\n",
       "      <td>Gwangju</td>\n",
       "      <td>0</td>\n",
       "    </tr>\n",
       "  </tbody>\n",
       "</table>\n",
       "</div>"
      ],
      "text/plain": [
       "        Date Province  Confirmed\n",
       "0 2020-01-20    Seoul          0\n",
       "1 2020-01-20    Busan          0\n",
       "2 2020-01-20    Daegu          0\n",
       "3 2020-01-20  Incheon          1\n",
       "4 2020-01-20  Gwangju          0"
      ]
     },
     "execution_count": 66,
     "metadata": {},
     "output_type": "execute_result"
    }
   ],
   "source": [
    "province.head()"
   ]
  },
  {
   "cell_type": "markdown",
   "id": "received-estimate",
   "metadata": {},
   "source": [
    "# Confirmed Cases by Province"
   ]
  },
  {
   "cell_type": "code",
   "execution_count": 67,
   "id": "bound-organ",
   "metadata": {},
   "outputs": [],
   "source": [
    "population_size = {\n",
    "    \"Population\": pd.Series(\n",
    "        [\n",
    "            3468139,\n",
    "            2640441,\n",
    "            9975709,\n",
    "            13511676,\n",
    "            2938457,\n",
    "            2176636,\n",
    "            3333056,\n",
    "            1545717,\n",
    "            1632088,\n",
    "            1521763,\n",
    "            1138225,\n",
    "            353933,\n",
    "            1526000,\n",
    "            1797031,\n",
    "            1788807,\n",
    "            670858,\n",
    "            2184528,\n",
    "        ],\n",
    "        index=[\n",
    "            \"Busan\",\n",
    "            \"Gyeongsangbuk-do\",\n",
    "            \"Seoul\",\n",
    "            \"Gyeonggi-do\",\n",
    "            \"Incheon\",\n",
    "            \"Chungcheongnam-do\",\n",
    "            \"Gyeongsangnam-do\",\n",
    "            \"Daejeon\",\n",
    "            \"Chungcheongbuk-do\",\n",
    "            \"Gangwon-do\",\n",
    "            \"Ulsan\",\n",
    "            \"Sejong\",\n",
    "            \"Gwangju\",\n",
    "            \"Jeollabuk-do\",\n",
    "            \"Jeollanam-do\",\n",
    "            \"Jeju-do\",\n",
    "            \"Daegu\"           \n",
    "        ],\n",
    "    )\n",
    "}\n",
    "\n",
    "population_size = pd.DataFrame(population_size)\n",
    "population_size.index.names = ['Province']"
   ]
  },
  {
   "cell_type": "code",
   "execution_count": 71,
   "id": "seventh-hayes",
   "metadata": {},
   "outputs": [],
   "source": [
    "province_all = (\n",
    "    province[[\"Province\", \"Confirmed\"]].groupby([\"Province\"]).max()\n",
    ")"
   ]
  },
  {
   "cell_type": "code",
   "execution_count": 74,
   "id": "liquid-sussex",
   "metadata": {
    "scrolled": true
   },
   "outputs": [],
   "source": [
    "df_inner = pd.merge(province_all, population_size, on='Province', how='inner')\n",
    "df_inner = df_inner [[\"Population\", \"Confirmed\"]]\n",
    "df_inner = df_inner.reset_index()"
   ]
  },
  {
   "cell_type": "code",
   "execution_count": 80,
   "id": "accurate-boutique",
   "metadata": {},
   "outputs": [
    {
     "data": {
      "text/plain": [
       "<Figure size 1440x720 with 0 Axes>"
      ]
     },
     "metadata": {},
     "output_type": "display_data"
    },
    {
     "data": {
      "image/png": "[encoded data removed]",
      "text/plain": [
       "<Figure size 1440x720 with 2 Axes>"
      ]
     },
     "metadata": {
      "needs_background": "light"
     },
     "output_type": "display_data"
    }
   ],
   "source": [
    "fig = plt.figure(figsize=(20,10))\n",
    "\n",
    "chart = df_inner.plot(kind='bar', x = \"Province\", secondary_y= 'Confirmed' , figsize=(20,10), width=0.90)\n",
    "\n",
    "\n",
    "plt.ylabel(\"Population\", fontsize=16)\n",
    "plt.ylabel(\"Confirmed\", fontsize=26)\n",
    "plt.xlabel(\"Province\", fontsize=16)\n",
    "\n",
    "plt.xticks(fontsize=40)\n",
    "plt.yticks(fontsize=16)\n",
    "sns.despine(left=True, bottom=True)\n",
    "chart.set_xticklabels(chart.get_xticklabels(), rotation=45, horizontalalignment='right')\n",
    "\n",
    "plt.show();"
   ]
  },
  {
   "cell_type": "code",
   "execution_count": null,
   "id": "adjacent-relative",
   "metadata": {},
   "outputs": [],
   "source": []
  }
 ],
 "metadata": {
  "kernelspec": {
   "display_name": "Python 3",
   "language": "python",
   "name": "python3"
  },
  "language_info": {
   "codemirror_mode": {
    "name": "ipython",
    "version": 3
   },
   "file_extension": ".py",
   "mimetype": "text/x-python",
   "name": "python",
   "nbconvert_exporter": "python",
   "pygments_lexer": "ipython3",
   "version": "3.9.6"
  },
  "toc": {
   "base_numbering": 1,
   "nav_menu": {},
   "number_sections": true,
   "sideBar": true,
   "skip_h1_title": false,
   "title_cell": "Table of Contents",
   "title_sidebar": "Contents",
   "toc_cell": false,
   "toc_position": {},
   "toc_section_display": true,
   "toc_window_display": false
  }
 },
 "nbformat": 4,
 "nbformat_minor": 5
}
