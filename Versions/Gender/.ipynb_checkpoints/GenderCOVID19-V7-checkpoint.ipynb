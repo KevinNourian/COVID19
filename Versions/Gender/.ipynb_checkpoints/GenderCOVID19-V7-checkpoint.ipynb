{
 "cells": [
  {
   "cell_type": "markdown",
   "id": "basic-folder",
   "metadata": {},
   "source": [
    "# 04GenderCOVID19-V7"
   ]
  },
  {
   "cell_type": "markdown",
   "id": "every-inspiration",
   "metadata": {},
   "source": [
    "# Libraries"
   ]
  },
  {
   "cell_type": "code",
   "execution_count": 1,
   "id": "developing-fiction",
   "metadata": {},
   "outputs": [],
   "source": [
    "%matplotlib inline\n",
    "\n",
    "import pandas as pd\n",
    "import numpy as np\n",
    "import seaborn as sns\n",
    "import matplotlib.pyplot as plt\n",
    "import plotly.express as px\n",
    "import warnings\n",
    "from IPython.display import display\n",
    "\n",
    "from scipy import stats"
   ]
  },
  {
   "cell_type": "markdown",
   "id": "specified-working",
   "metadata": {},
   "source": [
    "# Loading Data"
   ]
  },
  {
   "cell_type": "code",
   "execution_count": 2,
   "id": "suspended-violence",
   "metadata": {},
   "outputs": [],
   "source": [
    "gender = pd.read_csv(\n",
    "    \"C:\\py\\Projects\\TuringCollege\\COVID19\\DataSets\\gender.csv\",\n",
    "    index_col=False,\n",
    "    skipinitialspace=True,\n",
    ")"
   ]
  },
  {
   "cell_type": "markdown",
   "id": "regulated-relief",
   "metadata": {},
   "source": [
    "# Size"
   ]
  },
  {
   "cell_type": "code",
   "execution_count": 3,
   "id": "secondary-affiliate",
   "metadata": {
    "scrolled": true
   },
   "outputs": [
    {
     "data": {
      "text/plain": [
       "(242, 5)"
      ]
     },
     "execution_count": 3,
     "metadata": {},
     "output_type": "execute_result"
    }
   ],
   "source": [
    "gender.shape"
   ]
  },
  {
   "cell_type": "markdown",
   "id": "blank-phoenix",
   "metadata": {},
   "source": [
    "# Missing Data"
   ]
  },
  {
   "cell_type": "code",
   "execution_count": 4,
   "id": "everyday-economy",
   "metadata": {
    "scrolled": true
   },
   "outputs": [
    {
     "data": {
      "text/plain": [
       "date         0\n",
       "time         0\n",
       "sex          0\n",
       "confirmed    0\n",
       "deceased     0\n",
       "dtype: int64"
      ]
     },
     "execution_count": 4,
     "metadata": {},
     "output_type": "execute_result"
    }
   ],
   "source": [
    "gender.isna().sum()"
   ]
  },
  {
   "cell_type": "markdown",
   "id": "assumed-sculpture",
   "metadata": {},
   "source": [
    "# Delete Unneeded Columns"
   ]
  },
  {
   "cell_type": "code",
   "execution_count": 5,
   "id": "dangerous-rating",
   "metadata": {},
   "outputs": [],
   "source": [
    "gender = gender.drop([\"time\"], axis=1)"
   ]
  },
  {
   "cell_type": "markdown",
   "id": "defensive-express",
   "metadata": {},
   "source": [
    "## Rename Columns"
   ]
  },
  {
   "cell_type": "code",
   "execution_count": 6,
   "id": "miniature-minimum",
   "metadata": {},
   "outputs": [],
   "source": [
    "gender.rename(\n",
    "    columns={\n",
    "        \"date\": \"Date\",\n",
    "        \"sex\": \"Gender\",\n",
    "        \"confirmed\": \"Confirmed\",\n",
    "        \"deceased\": \"Deceased\",\n",
    "    },\n",
    "    inplace=True,\n",
    ")"
   ]
  },
  {
   "cell_type": "markdown",
   "id": "described-contemporary",
   "metadata": {},
   "source": [
    "## Rename Column Values"
   ]
  },
  {
   "cell_type": "code",
   "execution_count": 7,
   "id": "magnetic-legislature",
   "metadata": {},
   "outputs": [],
   "source": [
    "gender.replace('male', 'Male', inplace = True)\n",
    "gender.replace('female', 'Female', inplace = True)"
   ]
  },
  {
   "cell_type": "markdown",
   "id": "rough-specific",
   "metadata": {},
   "source": [
    "# Dataset"
   ]
  },
  {
   "cell_type": "code",
   "execution_count": 8,
   "id": "sweet-cambridge",
   "metadata": {
    "scrolled": true
   },
   "outputs": [
    {
     "data": {
      "text/html": [
       "<div>\n",
       "<style scoped>\n",
       "    .dataframe tbody tr th:only-of-type {\n",
       "        vertical-align: middle;\n",
       "    }\n",
       "\n",
       "    .dataframe tbody tr th {\n",
       "        vertical-align: top;\n",
       "    }\n",
       "\n",
       "    .dataframe thead th {\n",
       "        text-align: right;\n",
       "    }\n",
       "</style>\n",
       "<table border=\"1\" class=\"dataframe\">\n",
       "  <thead>\n",
       "    <tr style=\"text-align: right;\">\n",
       "      <th></th>\n",
       "      <th>Date</th>\n",
       "      <th>Gender</th>\n",
       "      <th>Confirmed</th>\n",
       "      <th>Deceased</th>\n",
       "    </tr>\n",
       "  </thead>\n",
       "  <tbody>\n",
       "    <tr>\n",
       "      <th>0</th>\n",
       "      <td>3/2/2020</td>\n",
       "      <td>Male</td>\n",
       "      <td>1591</td>\n",
       "      <td>13</td>\n",
       "    </tr>\n",
       "    <tr>\n",
       "      <th>1</th>\n",
       "      <td>3/2/2020</td>\n",
       "      <td>Female</td>\n",
       "      <td>2621</td>\n",
       "      <td>9</td>\n",
       "    </tr>\n",
       "    <tr>\n",
       "      <th>2</th>\n",
       "      <td>3/3/2020</td>\n",
       "      <td>Male</td>\n",
       "      <td>1810</td>\n",
       "      <td>16</td>\n",
       "    </tr>\n",
       "    <tr>\n",
       "      <th>3</th>\n",
       "      <td>3/3/2020</td>\n",
       "      <td>Female</td>\n",
       "      <td>3002</td>\n",
       "      <td>12</td>\n",
       "    </tr>\n",
       "    <tr>\n",
       "      <th>4</th>\n",
       "      <td>3/4/2020</td>\n",
       "      <td>Male</td>\n",
       "      <td>1996</td>\n",
       "      <td>20</td>\n",
       "    </tr>\n",
       "  </tbody>\n",
       "</table>\n",
       "</div>"
      ],
      "text/plain": [
       "       Date  Gender  Confirmed  Deceased\n",
       "0  3/2/2020    Male       1591        13\n",
       "1  3/2/2020  Female       2621         9\n",
       "2  3/3/2020    Male       1810        16\n",
       "3  3/3/2020  Female       3002        12\n",
       "4  3/4/2020    Male       1996        20"
      ]
     },
     "execution_count": 8,
     "metadata": {},
     "output_type": "execute_result"
    }
   ],
   "source": [
    "gender.head()"
   ]
  },
  {
   "cell_type": "code",
   "execution_count": 9,
   "id": "assured-clothing",
   "metadata": {},
   "outputs": [],
   "source": [
    "pd.set_option(\"max_rows\", None)\n",
    "pd.set_option(\"max_columns\", None)"
   ]
  },
  {
   "cell_type": "markdown",
   "id": "running-clock",
   "metadata": {},
   "source": [
    "# Females"
   ]
  },
  {
   "cell_type": "code",
   "execution_count": 10,
   "id": "positive-mexican",
   "metadata": {},
   "outputs": [],
   "source": [
    "females = gender.loc[(gender['Gender'] == 'Female')]"
   ]
  },
  {
   "cell_type": "code",
   "execution_count": 11,
   "id": "following-consideration",
   "metadata": {},
   "outputs": [],
   "source": [
    "females_copy = females.copy()\n",
    "females = females_copy"
   ]
  },
  {
   "cell_type": "code",
   "execution_count": 12,
   "id": "numerical-priority",
   "metadata": {},
   "outputs": [],
   "source": [
    "females[\"Confirmed Count\"] = females[\"Confirmed\"].diff().fillna(0)"
   ]
  },
  {
   "cell_type": "code",
   "execution_count": 13,
   "id": "egyptian-sharing",
   "metadata": {},
   "outputs": [],
   "source": [
    "females[\"Deceased Count\"] = females[\"Deceased\"].diff().fillna(0)"
   ]
  },
  {
   "cell_type": "markdown",
   "id": "ready-choir",
   "metadata": {},
   "source": [
    "# Males"
   ]
  },
  {
   "cell_type": "code",
   "execution_count": 17,
   "id": "bigger-deployment",
   "metadata": {},
   "outputs": [],
   "source": [
    "males = gender.loc[(gender['Gender'] == 'Male')]"
   ]
  },
  {
   "cell_type": "code",
   "execution_count": 18,
   "id": "bottom-pitch",
   "metadata": {},
   "outputs": [],
   "source": [
    "males_copy = males.copy()\n",
    "males = males_copy"
   ]
  },
  {
   "cell_type": "code",
   "execution_count": 19,
   "id": "defined-netscape",
   "metadata": {},
   "outputs": [],
   "source": [
    "males[\"Confirmed Count\"] = males[\"Confirmed\"].diff().fillna(0)"
   ]
  },
  {
   "cell_type": "code",
   "execution_count": 20,
   "id": "patient-smile",
   "metadata": {},
   "outputs": [],
   "source": [
    "males[\"Deceased Count\"] = males[\"Deceased\"].diff().fillna(0)"
   ]
  },
  {
   "cell_type": "markdown",
   "id": "insured-unemployment",
   "metadata": {},
   "source": [
    "# Confirmed Statistical Significance Test"
   ]
  },
  {
   "cell_type": "code",
   "execution_count": 25,
   "id": "worse-privilege",
   "metadata": {},
   "outputs": [
    {
     "data": {
      "text/plain": [
       "MannwhitneyuResult(statistic=7720.5, pvalue=0.4629887556322855)"
      ]
     },
     "execution_count": 25,
     "metadata": {},
     "output_type": "execute_result"
    }
   ],
   "source": [
    "stats.mannwhitneyu(males['Confirmed Count'], females['Confirmed Count'])"
   ]
  },
  {
   "cell_type": "markdown",
   "id": "noticed-treasure",
   "metadata": {},
   "source": [
    "# Deceased Statistical Significance Test"
   ]
  },
  {
   "cell_type": "code",
   "execution_count": 32,
   "id": "realistic-start",
   "metadata": {},
   "outputs": [
    {
     "data": {
      "text/plain": [
       "MannwhitneyuResult(statistic=7960.5, pvalue=0.20975020919759269)"
      ]
     },
     "execution_count": 32,
     "metadata": {},
     "output_type": "execute_result"
    }
   ],
   "source": [
    "stats.mannwhitneyu(males['Deceased Count'], females['Deceased Count'])"
   ]
  }
 ],
 "metadata": {
  "kernelspec": {
   "display_name": "Python 3",
   "language": "python",
   "name": "python3"
  },
  "language_info": {
   "codemirror_mode": {
    "name": "ipython",
    "version": 3
   },
   "file_extension": ".py",
   "mimetype": "text/x-python",
   "name": "python",
   "nbconvert_exporter": "python",
   "pygments_lexer": "ipython3",
   "version": "3.9.6"
  },
  "toc": {
   "base_numbering": 1,
   "nav_menu": {},
   "number_sections": true,
   "sideBar": true,
   "skip_h1_title": false,
   "title_cell": "Table of Contents",
   "title_sidebar": "Contents",
   "toc_cell": false,
   "toc_position": {},
   "toc_section_display": true,
   "toc_window_display": false
  }
 },
 "nbformat": 4,
 "nbformat_minor": 5
}
