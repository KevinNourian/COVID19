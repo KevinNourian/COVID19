{
 "cells": [
  {
   "cell_type": "markdown",
   "id": "basic-folder",
   "metadata": {},
   "source": [
    "# 04GenderCOVID19-V5"
   ]
  },
  {
   "cell_type": "markdown",
   "id": "every-inspiration",
   "metadata": {},
   "source": [
    "# Libraries"
   ]
  },
  {
   "cell_type": "code",
   "execution_count": 45,
   "id": "developing-fiction",
   "metadata": {},
   "outputs": [],
   "source": [
    "%matplotlib inline\n",
    "\n",
    "import pandas as pd\n",
    "import numpy as np\n",
    "import seaborn as sns\n",
    "import matplotlib.pyplot as plt\n",
    "import plotly.express as px\n",
    "import warnings\n",
    "from IPython.display import display\n",
    "\n",
    "from scipy import stats #the only import you actually need for this"
   ]
  },
  {
   "cell_type": "markdown",
   "id": "specified-working",
   "metadata": {},
   "source": [
    "# Loading Data"
   ]
  },
  {
   "cell_type": "code",
   "execution_count": 46,
   "id": "suspended-violence",
   "metadata": {},
   "outputs": [],
   "source": [
    "gender = pd.read_csv(\n",
    "    \"C:\\py\\Projects\\TuringCollege\\COVID19\\DataSets\\gender.csv\",\n",
    "    index_col=False,\n",
    "    skipinitialspace=True,\n",
    ")"
   ]
  },
  {
   "cell_type": "markdown",
   "id": "regulated-relief",
   "metadata": {},
   "source": [
    "# Size"
   ]
  },
  {
   "cell_type": "code",
   "execution_count": 47,
   "id": "secondary-affiliate",
   "metadata": {
    "scrolled": true
   },
   "outputs": [
    {
     "data": {
      "text/plain": [
       "(242, 5)"
      ]
     },
     "execution_count": 47,
     "metadata": {},
     "output_type": "execute_result"
    }
   ],
   "source": [
    "gender.shape"
   ]
  },
  {
   "cell_type": "markdown",
   "id": "blank-phoenix",
   "metadata": {},
   "source": [
    "# Missing Data"
   ]
  },
  {
   "cell_type": "code",
   "execution_count": 48,
   "id": "everyday-economy",
   "metadata": {
    "scrolled": true
   },
   "outputs": [
    {
     "data": {
      "text/plain": [
       "date         0\n",
       "time         0\n",
       "sex          0\n",
       "confirmed    0\n",
       "deceased     0\n",
       "dtype: int64"
      ]
     },
     "execution_count": 48,
     "metadata": {},
     "output_type": "execute_result"
    }
   ],
   "source": [
    "gender.isna().sum()"
   ]
  },
  {
   "cell_type": "markdown",
   "id": "assumed-sculpture",
   "metadata": {},
   "source": [
    "# Delete Unneeded Columns"
   ]
  },
  {
   "cell_type": "code",
   "execution_count": 49,
   "id": "dangerous-rating",
   "metadata": {},
   "outputs": [],
   "source": [
    "gender = gender.drop([\"time\"], axis=1)"
   ]
  },
  {
   "cell_type": "markdown",
   "id": "defensive-express",
   "metadata": {},
   "source": [
    "## Rename Columns"
   ]
  },
  {
   "cell_type": "code",
   "execution_count": 50,
   "id": "miniature-minimum",
   "metadata": {},
   "outputs": [],
   "source": [
    "gender.rename(\n",
    "    columns={\n",
    "        \"date\": \"Date\",\n",
    "        \"sex\": \"Gender\",\n",
    "        \"confirmed\": \"Confirmed\",\n",
    "        \"deceased\": \"Deceased\",\n",
    "    },\n",
    "    inplace=True,\n",
    ")"
   ]
  },
  {
   "cell_type": "markdown",
   "id": "described-contemporary",
   "metadata": {},
   "source": [
    "## Rename Column Values"
   ]
  },
  {
   "cell_type": "code",
   "execution_count": 51,
   "id": "magnetic-legislature",
   "metadata": {},
   "outputs": [],
   "source": [
    "gender.replace('male', 'Male', inplace = True)\n",
    "gender.replace('female', 'Female', inplace = True)"
   ]
  },
  {
   "cell_type": "markdown",
   "id": "rough-specific",
   "metadata": {},
   "source": [
    "# Dataset"
   ]
  },
  {
   "cell_type": "code",
   "execution_count": 52,
   "id": "sweet-cambridge",
   "metadata": {
    "scrolled": true
   },
   "outputs": [
    {
     "data": {
      "text/html": [
       "<div>\n",
       "<style scoped>\n",
       "    .dataframe tbody tr th:only-of-type {\n",
       "        vertical-align: middle;\n",
       "    }\n",
       "\n",
       "    .dataframe tbody tr th {\n",
       "        vertical-align: top;\n",
       "    }\n",
       "\n",
       "    .dataframe thead th {\n",
       "        text-align: right;\n",
       "    }\n",
       "</style>\n",
       "<table border=\"1\" class=\"dataframe\">\n",
       "  <thead>\n",
       "    <tr style=\"text-align: right;\">\n",
       "      <th></th>\n",
       "      <th>Date</th>\n",
       "      <th>Gender</th>\n",
       "      <th>Confirmed</th>\n",
       "      <th>Deceased</th>\n",
       "    </tr>\n",
       "  </thead>\n",
       "  <tbody>\n",
       "    <tr>\n",
       "      <th>0</th>\n",
       "      <td>3/2/2020</td>\n",
       "      <td>Male</td>\n",
       "      <td>1591</td>\n",
       "      <td>13</td>\n",
       "    </tr>\n",
       "    <tr>\n",
       "      <th>1</th>\n",
       "      <td>3/2/2020</td>\n",
       "      <td>Female</td>\n",
       "      <td>2621</td>\n",
       "      <td>9</td>\n",
       "    </tr>\n",
       "    <tr>\n",
       "      <th>2</th>\n",
       "      <td>3/3/2020</td>\n",
       "      <td>Male</td>\n",
       "      <td>1810</td>\n",
       "      <td>16</td>\n",
       "    </tr>\n",
       "    <tr>\n",
       "      <th>3</th>\n",
       "      <td>3/3/2020</td>\n",
       "      <td>Female</td>\n",
       "      <td>3002</td>\n",
       "      <td>12</td>\n",
       "    </tr>\n",
       "    <tr>\n",
       "      <th>4</th>\n",
       "      <td>3/4/2020</td>\n",
       "      <td>Male</td>\n",
       "      <td>1996</td>\n",
       "      <td>20</td>\n",
       "    </tr>\n",
       "  </tbody>\n",
       "</table>\n",
       "</div>"
      ],
      "text/plain": [
       "       Date  Gender  Confirmed  Deceased\n",
       "0  3/2/2020    Male       1591        13\n",
       "1  3/2/2020  Female       2621         9\n",
       "2  3/3/2020    Male       1810        16\n",
       "3  3/3/2020  Female       3002        12\n",
       "4  3/4/2020    Male       1996        20"
      ]
     },
     "execution_count": 52,
     "metadata": {},
     "output_type": "execute_result"
    }
   ],
   "source": [
    "gender.head()"
   ]
  },
  {
   "cell_type": "code",
   "execution_count": 53,
   "id": "assured-clothing",
   "metadata": {},
   "outputs": [],
   "source": [
    "pd.set_option(\"max_rows\", None)\n",
    "pd.set_option(\"max_columns\", None)"
   ]
  },
  {
   "cell_type": "markdown",
   "id": "compressed-spoke",
   "metadata": {},
   "source": [
    "# Males Confirmed"
   ]
  },
  {
   "cell_type": "code",
   "execution_count": 79,
   "id": "presidential-reducing",
   "metadata": {},
   "outputs": [],
   "source": [
    "males_confirmed = gender.loc[(gender['Gender'] == 'Male')]"
   ]
  },
  {
   "cell_type": "code",
   "execution_count": 80,
   "id": "operating-partnership",
   "metadata": {},
   "outputs": [],
   "source": [
    "males_confirmed_copy = males_confirmed.copy()"
   ]
  },
  {
   "cell_type": "code",
   "execution_count": 81,
   "id": "massive-thanks",
   "metadata": {},
   "outputs": [],
   "source": [
    "males_confirmed_copy[\"Count\"] = males_confirmed_copy[\"Confirmed\"].diff().fillna(0)"
   ]
  },
  {
   "cell_type": "code",
   "execution_count": 82,
   "id": "outer-brass",
   "metadata": {
    "scrolled": false
   },
   "outputs": [
    {
     "data": {
      "text/plain": [
       "32.264462809917354"
      ]
     },
     "execution_count": 82,
     "metadata": {},
     "output_type": "execute_result"
    }
   ],
   "source": [
    "males_confirmed_copy[\"Count\"].mean()"
   ]
  },
  {
   "cell_type": "markdown",
   "id": "blocked-suffering",
   "metadata": {},
   "source": [
    "# Males Deceased"
   ]
  },
  {
   "cell_type": "code",
   "execution_count": 83,
   "id": "crazy-magnitude",
   "metadata": {},
   "outputs": [],
   "source": [
    "males_deceased = gender.loc[(gender['Gender'] == 'Male')]"
   ]
  },
  {
   "cell_type": "code",
   "execution_count": 84,
   "id": "suspended-ranch",
   "metadata": {},
   "outputs": [],
   "source": [
    "males_deceased_copy = males_deceased.copy()"
   ]
  },
  {
   "cell_type": "code",
   "execution_count": 85,
   "id": "curious-craps",
   "metadata": {},
   "outputs": [],
   "source": [
    "males_deceased_copy[\"Count\"] = males_deceased_copy[\"Deceased\"].diff().fillna(0)"
   ]
  },
  {
   "cell_type": "code",
   "execution_count": 86,
   "id": "occupied-movement",
   "metadata": {
    "scrolled": true
   },
   "outputs": [
    {
     "data": {
      "text/plain": [
       "1.140495867768595"
      ]
     },
     "execution_count": 86,
     "metadata": {},
     "output_type": "execute_result"
    }
   ],
   "source": [
    "males_deceased_copy[\"Count\"].mean()"
   ]
  },
  {
   "cell_type": "markdown",
   "id": "double-scanning",
   "metadata": {},
   "source": [
    "# Females Confirmed"
   ]
  },
  {
   "cell_type": "code",
   "execution_count": 87,
   "id": "adjustable-warrior",
   "metadata": {},
   "outputs": [],
   "source": [
    "females_confirmed = gender.loc[(gender['Gender'] == 'Female')]"
   ]
  },
  {
   "cell_type": "code",
   "execution_count": 88,
   "id": "affecting-ambassador",
   "metadata": {},
   "outputs": [],
   "source": [
    "females_confirmed_copy = females_confirmed.copy()"
   ]
  },
  {
   "cell_type": "code",
   "execution_count": 89,
   "id": "loose-tracy",
   "metadata": {},
   "outputs": [],
   "source": [
    "females_confirmed_copy[\"Count\"] = females_confirmed_copy[\"Confirmed\"].diff().fillna(0)"
   ]
  },
  {
   "cell_type": "code",
   "execution_count": 101,
   "id": "stopped-bosnia",
   "metadata": {},
   "outputs": [
    {
     "data": {
      "text/plain": [
       "38.710743801652896"
      ]
     },
     "execution_count": 101,
     "metadata": {},
     "output_type": "execute_result"
    }
   ],
   "source": [
    "females_confirmed_copy[\"Count\"].mean()"
   ]
  },
  {
   "cell_type": "markdown",
   "id": "decent-laugh",
   "metadata": {},
   "source": [
    "# Females Deceased"
   ]
  },
  {
   "cell_type": "code",
   "execution_count": 102,
   "id": "voluntary-relations",
   "metadata": {},
   "outputs": [],
   "source": [
    "females_deceased = gender.loc[(gender['Gender'] == 'Female')]"
   ]
  },
  {
   "cell_type": "code",
   "execution_count": 103,
   "id": "adult-cursor",
   "metadata": {},
   "outputs": [],
   "source": [
    "females_deceased_copy = females_deceased.copy()"
   ]
  },
  {
   "cell_type": "code",
   "execution_count": 104,
   "id": "accepted-purpose",
   "metadata": {},
   "outputs": [],
   "source": [
    "females_deceased_copy[\"Count\"] = females_deceased_copy[\"Deceased\"].diff().fillna(0)"
   ]
  },
  {
   "cell_type": "code",
   "execution_count": 105,
   "id": "hourly-depth",
   "metadata": {},
   "outputs": [
    {
     "data": {
      "text/plain": [
       "1.0082644628099173"
      ]
     },
     "execution_count": 105,
     "metadata": {},
     "output_type": "execute_result"
    }
   ],
   "source": [
    "females_deceased_copy[\"Count\"].mean()"
   ]
  },
  {
   "cell_type": "markdown",
   "id": "insured-unemployment",
   "metadata": {},
   "source": [
    "# Confirmed Statistical Significance Test"
   ]
  },
  {
   "cell_type": "code",
   "execution_count": 91,
   "id": "adaptive-fraction",
   "metadata": {},
   "outputs": [],
   "source": [
    "male_confirmed_list = males_confirmed_copy['Confirmed'].tolist()"
   ]
  },
  {
   "cell_type": "code",
   "execution_count": 92,
   "id": "super-timber",
   "metadata": {},
   "outputs": [],
   "source": [
    "female_confirmed_list = females_confirmed_copy['Confirmed'].tolist()"
   ]
  },
  {
   "cell_type": "code",
   "execution_count": 93,
   "id": "worse-privilege",
   "metadata": {},
   "outputs": [
    {
     "data": {
      "text/plain": [
       "MannwhitneyuResult(statistic=909.5, pvalue=5.365238470322022e-32)"
      ]
     },
     "execution_count": 93,
     "metadata": {},
     "output_type": "execute_result"
    }
   ],
   "source": [
    "stats.mannwhitneyu(male_confirmed_list, female_confirmed_list)"
   ]
  },
  {
   "cell_type": "code",
   "execution_count": 96,
   "id": "collective-heritage",
   "metadata": {},
   "outputs": [
    {
     "data": {
      "text/plain": [
       "ShapiroResult(statistic=0.925539493560791, pvalue=4.721199729829095e-06)"
      ]
     },
     "execution_count": 96,
     "metadata": {},
     "output_type": "execute_result"
    }
   ],
   "source": [
    "stats.shapiro(male_confirmed_list)"
   ]
  },
  {
   "cell_type": "code",
   "execution_count": 97,
   "id": "spread-authentication",
   "metadata": {},
   "outputs": [
    {
     "data": {
      "text/plain": [
       "ShapiroResult(statistic=0.8379620313644409, pvalue=3.363124501110093e-10)"
      ]
     },
     "execution_count": 97,
     "metadata": {},
     "output_type": "execute_result"
    }
   ],
   "source": [
    "stats.shapiro(female_confirmed_list)"
   ]
  },
  {
   "cell_type": "code",
   "execution_count": 98,
   "id": "proved-policy",
   "metadata": {},
   "outputs": [
    {
     "data": {
      "text/plain": [
       "Ttest_indResult(statistic=-17.481890764228474, pvalue=1.0831493925030637e-44)"
      ]
     },
     "execution_count": 98,
     "metadata": {},
     "output_type": "execute_result"
    }
   ],
   "source": [
    "stats.ttest_ind(male_confirmed_list,female_confirmed_list)"
   ]
  },
  {
   "cell_type": "markdown",
   "id": "noticed-treasure",
   "metadata": {},
   "source": [
    "# Deceased Statistical Significance Test"
   ]
  },
  {
   "cell_type": "code",
   "execution_count": 109,
   "id": "attached-newfoundland",
   "metadata": {},
   "outputs": [],
   "source": [
    "male_deceased_list = males_deceased_copy['Deceased'].tolist()"
   ]
  },
  {
   "cell_type": "code",
   "execution_count": 110,
   "id": "champion-international",
   "metadata": {},
   "outputs": [],
   "source": [
    "female_deceased_list = females_deceased_copy['Deceased'].tolist()"
   ]
  },
  {
   "cell_type": "code",
   "execution_count": 111,
   "id": "interesting-speech",
   "metadata": {},
   "outputs": [
    {
     "data": {
      "text/plain": [
       "MannwhitneyuResult(statistic=9792.0, pvalue=5.632173501992387e-06)"
      ]
     },
     "execution_count": 111,
     "metadata": {},
     "output_type": "execute_result"
    }
   ],
   "source": [
    "stats.mannwhitneyu(male_deceased_list, female_deceased_list)"
   ]
  },
  {
   "cell_type": "code",
   "execution_count": 112,
   "id": "tender-bankruptcy",
   "metadata": {},
   "outputs": [
    {
     "data": {
      "text/plain": [
       "ShapiroResult(statistic=0.8193866014480591, pvalue=7.011080604968356e-11)"
      ]
     },
     "execution_count": 112,
     "metadata": {},
     "output_type": "execute_result"
    }
   ],
   "source": [
    "stats.shapiro(male_deceased_list)"
   ]
  },
  {
   "cell_type": "code",
   "execution_count": 113,
   "id": "antique-stockholm",
   "metadata": {},
   "outputs": [
    {
     "data": {
      "text/plain": [
       "ShapiroResult(statistic=0.7780519723892212, pvalue=3.0440921051227976e-12)"
      ]
     },
     "execution_count": 113,
     "metadata": {},
     "output_type": "execute_result"
    }
   ],
   "source": [
    "stats.shapiro(female_deceased_list)"
   ]
  },
  {
   "cell_type": "code",
   "execution_count": 114,
   "id": "brave-producer",
   "metadata": {},
   "outputs": [
    {
     "data": {
      "text/plain": [
       "Ttest_indResult(statistic=2.3746446029926154, pvalue=0.018353025610579034)"
      ]
     },
     "execution_count": 114,
     "metadata": {},
     "output_type": "execute_result"
    }
   ],
   "source": [
    "stats.ttest_ind(male_deceased_list,female_deceased_list)"
   ]
  },
  {
   "cell_type": "markdown",
   "id": "voluntary-smell",
   "metadata": {},
   "source": [
    "# Function"
   ]
  },
  {
   "cell_type": "code",
   "execution_count": 117,
   "id": "clear-protocol",
   "metadata": {},
   "outputs": [],
   "source": [
    "def test_sig(x, y):\n",
    "    if stats.shapiro(x).pvalue >= 0.05 and stats.shapiro(y).pvalue >= 0.05: #if they are normally distriuted\n",
    "        print(\"t-test\")\n",
    "        return stats.ttest_ind(x,y)\n",
    "    else:\n",
    "        print(\"mann-whitney\")\n",
    "        return stats.mannwhitneyu(x, y)"
   ]
  },
  {
   "cell_type": "code",
   "execution_count": 118,
   "id": "ignored-consumer",
   "metadata": {},
   "outputs": [
    {
     "name": "stdout",
     "output_type": "stream",
     "text": [
      "mann-whitney\n"
     ]
    },
    {
     "data": {
      "text/plain": [
       "MannwhitneyuResult(statistic=9792.0, pvalue=5.632173501992387e-06)"
      ]
     },
     "execution_count": 118,
     "metadata": {},
     "output_type": "execute_result"
    }
   ],
   "source": [
    "test_sig(male_deceased_list, female_deceased_list)"
   ]
  },
  {
   "cell_type": "code",
   "execution_count": 119,
   "id": "growing-repeat",
   "metadata": {},
   "outputs": [
    {
     "name": "stdout",
     "output_type": "stream",
     "text": [
      "mann-whitney\n"
     ]
    },
    {
     "data": {
      "text/plain": [
       "MannwhitneyuResult(statistic=909.5, pvalue=5.365238470322022e-32)"
      ]
     },
     "execution_count": 119,
     "metadata": {},
     "output_type": "execute_result"
    }
   ],
   "source": [
    "test_sig(male_confirmed_list, female_confirmed_list)"
   ]
  },
  {
   "cell_type": "code",
   "execution_count": null,
   "id": "noble-disco",
   "metadata": {},
   "outputs": [],
   "source": []
  }
 ],
 "metadata": {
  "kernelspec": {
   "display_name": "Python 3",
   "language": "python",
   "name": "python3"
  },
  "language_info": {
   "codemirror_mode": {
    "name": "ipython",
    "version": 3
   },
   "file_extension": ".py",
   "mimetype": "text/x-python",
   "name": "python",
   "nbconvert_exporter": "python",
   "pygments_lexer": "ipython3",
   "version": "3.9.6"
  },
  "toc": {
   "base_numbering": 1,
   "nav_menu": {},
   "number_sections": true,
   "sideBar": true,
   "skip_h1_title": false,
   "title_cell": "Table of Contents",
   "title_sidebar": "Contents",
   "toc_cell": false,
   "toc_position": {},
   "toc_section_display": true,
   "toc_window_display": false
  }
 },
 "nbformat": 4,
 "nbformat_minor": 5
}
