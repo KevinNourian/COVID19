{
 "cells": [
  {
   "cell_type": "markdown",
   "id": "twenty-sandwich",
   "metadata": {},
   "source": [
    "# COVID 19"
   ]
  },
  {
   "cell_type": "markdown",
   "id": "seven-corruption",
   "metadata": {},
   "source": [
    "# Introduction"
   ]
  },
  {
   "cell_type": "markdown",
   "id": "consistent-highlight",
   "metadata": {},
   "source": [
    "# Goals"
   ]
  },
  {
   "cell_type": "markdown",
   "id": "judicial-fifteen",
   "metadata": {},
   "source": [
    "# Technical Requirements"
   ]
  },
  {
   "cell_type": "markdown",
   "id": "every-inspiration",
   "metadata": {},
   "source": [
    "# Libraries"
   ]
  },
  {
   "cell_type": "code",
   "execution_count": 22,
   "id": "developing-fiction",
   "metadata": {},
   "outputs": [],
   "source": [
    "%matplotlib inline\n",
    "\n",
    "import pandas as pd\n",
    "import numpy as np\n",
    "import seaborn as sns\n",
    "import matplotlib.pyplot as plt\n",
    "import warnings\n",
    "\n",
    "sns.set_palette(\"pastel\")"
   ]
  },
  {
   "cell_type": "markdown",
   "id": "specified-working",
   "metadata": {},
   "source": [
    "# Loading and Basic Information"
   ]
  },
  {
   "cell_type": "code",
   "execution_count": 77,
   "id": "helpful-ethnic",
   "metadata": {},
   "outputs": [],
   "source": [
    "pd.set_option(\"display.max.columns\", None)"
   ]
  },
  {
   "cell_type": "markdown",
   "id": "august-zimbabwe",
   "metadata": {},
   "source": [
    "## Age"
   ]
  },
  {
   "cell_type": "code",
   "execution_count": 114,
   "id": "rapid-roads",
   "metadata": {},
   "outputs": [],
   "source": [
    "age = pd.read_csv(\n",
    "    \"C:\\py\\Projects\\TuringCollege\\COVID19\\DataSets\\\\age.csv\",\n",
    "    index_col=False,\n",
    "    skipinitialspace=True,\n",
    ")"
   ]
  },
  {
   "cell_type": "markdown",
   "id": "disabled-matrix",
   "metadata": {},
   "source": [
    "### Number of Rows and Columns"
   ]
  },
  {
   "cell_type": "code",
   "execution_count": 115,
   "id": "happy-harassment",
   "metadata": {},
   "outputs": [
    {
     "data": {
      "text/plain": [
       "(1089, 5)"
      ]
     },
     "execution_count": 115,
     "metadata": {},
     "output_type": "execute_result"
    }
   ],
   "source": [
    "age.shape"
   ]
  },
  {
   "cell_type": "markdown",
   "id": "downtown-sheep",
   "metadata": {},
   "source": [
    "### First Five Rows"
   ]
  },
  {
   "cell_type": "code",
   "execution_count": 116,
   "id": "advised-pattern",
   "metadata": {},
   "outputs": [
    {
     "data": {
      "text/html": [
       "<div>\n",
       "<style scoped>\n",
       "    .dataframe tbody tr th:only-of-type {\n",
       "        vertical-align: middle;\n",
       "    }\n",
       "\n",
       "    .dataframe tbody tr th {\n",
       "        vertical-align: top;\n",
       "    }\n",
       "\n",
       "    .dataframe thead th {\n",
       "        text-align: right;\n",
       "    }\n",
       "</style>\n",
       "<table border=\"1\" class=\"dataframe\">\n",
       "  <thead>\n",
       "    <tr style=\"text-align: right;\">\n",
       "      <th></th>\n",
       "      <th>date</th>\n",
       "      <th>time</th>\n",
       "      <th>age</th>\n",
       "      <th>confirmed</th>\n",
       "      <th>deceased</th>\n",
       "    </tr>\n",
       "  </thead>\n",
       "  <tbody>\n",
       "    <tr>\n",
       "      <th>0</th>\n",
       "      <td>3/2/2020</td>\n",
       "      <td>0</td>\n",
       "      <td>0s</td>\n",
       "      <td>32</td>\n",
       "      <td>0</td>\n",
       "    </tr>\n",
       "    <tr>\n",
       "      <th>1</th>\n",
       "      <td>3/2/2020</td>\n",
       "      <td>0</td>\n",
       "      <td>10s</td>\n",
       "      <td>169</td>\n",
       "      <td>0</td>\n",
       "    </tr>\n",
       "    <tr>\n",
       "      <th>2</th>\n",
       "      <td>3/2/2020</td>\n",
       "      <td>0</td>\n",
       "      <td>20s</td>\n",
       "      <td>1235</td>\n",
       "      <td>0</td>\n",
       "    </tr>\n",
       "    <tr>\n",
       "      <th>3</th>\n",
       "      <td>3/2/2020</td>\n",
       "      <td>0</td>\n",
       "      <td>30s</td>\n",
       "      <td>506</td>\n",
       "      <td>1</td>\n",
       "    </tr>\n",
       "    <tr>\n",
       "      <th>4</th>\n",
       "      <td>3/2/2020</td>\n",
       "      <td>0</td>\n",
       "      <td>40s</td>\n",
       "      <td>633</td>\n",
       "      <td>1</td>\n",
       "    </tr>\n",
       "  </tbody>\n",
       "</table>\n",
       "</div>"
      ],
      "text/plain": [
       "       date  time  age  confirmed  deceased\n",
       "0  3/2/2020     0   0s         32         0\n",
       "1  3/2/2020     0  10s        169         0\n",
       "2  3/2/2020     0  20s       1235         0\n",
       "3  3/2/2020     0  30s        506         1\n",
       "4  3/2/2020     0  40s        633         1"
      ]
     },
     "execution_count": 116,
     "metadata": {},
     "output_type": "execute_result"
    }
   ],
   "source": [
    "age.head()"
   ]
  },
  {
   "cell_type": "markdown",
   "id": "polyphonic-freeware",
   "metadata": {},
   "source": [
    "### Data Types"
   ]
  },
  {
   "cell_type": "code",
   "execution_count": 110,
   "id": "third-creation",
   "metadata": {},
   "outputs": [
    {
     "data": {
      "text/plain": [
       "date         object\n",
       "time          int64\n",
       "age          object\n",
       "confirmed     int64\n",
       "deceased      int64\n",
       "dtype: object"
      ]
     },
     "execution_count": 110,
     "metadata": {},
     "output_type": "execute_result"
    }
   ],
   "source": [
    "age.dtypes"
   ]
  },
  {
   "cell_type": "markdown",
   "id": "comprehensive-poetry",
   "metadata": {},
   "source": [
    "## Gender"
   ]
  },
  {
   "cell_type": "code",
   "execution_count": 82,
   "id": "pharmaceutical-ghost",
   "metadata": {},
   "outputs": [],
   "source": [
    "gender = pd.read_csv(\n",
    "    \"C:\\py\\Projects\\TuringCollege\\COVID19\\DataSets\\gender.csv\",\n",
    "    index_col=False,\n",
    "    skipinitialspace=True,\n",
    ")"
   ]
  },
  {
   "cell_type": "markdown",
   "id": "configured-printing",
   "metadata": {},
   "source": [
    "### Number of Rows and Columns"
   ]
  },
  {
   "cell_type": "code",
   "execution_count": 83,
   "id": "stable-rehabilitation",
   "metadata": {},
   "outputs": [
    {
     "data": {
      "text/plain": [
       "(242, 5)"
      ]
     },
     "execution_count": 83,
     "metadata": {},
     "output_type": "execute_result"
    }
   ],
   "source": [
    "gender.shape"
   ]
  },
  {
   "cell_type": "markdown",
   "id": "endangered-lexington",
   "metadata": {},
   "source": [
    "### First Five Rows"
   ]
  },
  {
   "cell_type": "code",
   "execution_count": 84,
   "id": "heated-attack",
   "metadata": {},
   "outputs": [
    {
     "data": {
      "text/html": [
       "<div>\n",
       "<style scoped>\n",
       "    .dataframe tbody tr th:only-of-type {\n",
       "        vertical-align: middle;\n",
       "    }\n",
       "\n",
       "    .dataframe tbody tr th {\n",
       "        vertical-align: top;\n",
       "    }\n",
       "\n",
       "    .dataframe thead th {\n",
       "        text-align: right;\n",
       "    }\n",
       "</style>\n",
       "<table border=\"1\" class=\"dataframe\">\n",
       "  <thead>\n",
       "    <tr style=\"text-align: right;\">\n",
       "      <th></th>\n",
       "      <th>date</th>\n",
       "      <th>time</th>\n",
       "      <th>sex</th>\n",
       "      <th>confirmed</th>\n",
       "      <th>deceased</th>\n",
       "    </tr>\n",
       "  </thead>\n",
       "  <tbody>\n",
       "    <tr>\n",
       "      <th>0</th>\n",
       "      <td>3/2/2020</td>\n",
       "      <td>0</td>\n",
       "      <td>male</td>\n",
       "      <td>1591</td>\n",
       "      <td>13</td>\n",
       "    </tr>\n",
       "    <tr>\n",
       "      <th>1</th>\n",
       "      <td>3/2/2020</td>\n",
       "      <td>0</td>\n",
       "      <td>female</td>\n",
       "      <td>2621</td>\n",
       "      <td>9</td>\n",
       "    </tr>\n",
       "    <tr>\n",
       "      <th>2</th>\n",
       "      <td>3/3/2020</td>\n",
       "      <td>0</td>\n",
       "      <td>male</td>\n",
       "      <td>1810</td>\n",
       "      <td>16</td>\n",
       "    </tr>\n",
       "    <tr>\n",
       "      <th>3</th>\n",
       "      <td>3/3/2020</td>\n",
       "      <td>0</td>\n",
       "      <td>female</td>\n",
       "      <td>3002</td>\n",
       "      <td>12</td>\n",
       "    </tr>\n",
       "    <tr>\n",
       "      <th>4</th>\n",
       "      <td>3/4/2020</td>\n",
       "      <td>0</td>\n",
       "      <td>male</td>\n",
       "      <td>1996</td>\n",
       "      <td>20</td>\n",
       "    </tr>\n",
       "  </tbody>\n",
       "</table>\n",
       "</div>"
      ],
      "text/plain": [
       "       date  time     sex  confirmed  deceased\n",
       "0  3/2/2020     0    male       1591        13\n",
       "1  3/2/2020     0  female       2621         9\n",
       "2  3/3/2020     0    male       1810        16\n",
       "3  3/3/2020     0  female       3002        12\n",
       "4  3/4/2020     0    male       1996        20"
      ]
     },
     "execution_count": 84,
     "metadata": {},
     "output_type": "execute_result"
    }
   ],
   "source": [
    "gender.head()"
   ]
  },
  {
   "cell_type": "markdown",
   "id": "meaningful-cancellation",
   "metadata": {},
   "source": [
    "### Data Types"
   ]
  },
  {
   "cell_type": "code",
   "execution_count": 85,
   "id": "improved-samba",
   "metadata": {},
   "outputs": [
    {
     "data": {
      "text/plain": [
       "date         object\n",
       "time          int64\n",
       "sex          object\n",
       "confirmed     int64\n",
       "deceased      int64\n",
       "dtype: object"
      ]
     },
     "execution_count": 85,
     "metadata": {},
     "output_type": "execute_result"
    }
   ],
   "source": [
    "gender.dtypes"
   ]
  },
  {
   "cell_type": "markdown",
   "id": "guilty-stroke",
   "metadata": {},
   "source": [
    "## Province"
   ]
  },
  {
   "cell_type": "code",
   "execution_count": 86,
   "id": "acoustic-words",
   "metadata": {},
   "outputs": [],
   "source": [
    "province = pd.read_csv(\n",
    "    \"C:\\py\\Projects\\TuringCollege\\COVID19\\DataSets\\province.csv\",\n",
    "    index_col=False,\n",
    "    skipinitialspace=True,\n",
    ")"
   ]
  },
  {
   "cell_type": "markdown",
   "id": "outdoor-brush",
   "metadata": {},
   "source": [
    "### Number of Rows and Columns"
   ]
  },
  {
   "cell_type": "code",
   "execution_count": 87,
   "id": "reasonable-poland",
   "metadata": {},
   "outputs": [
    {
     "data": {
      "text/plain": [
       "(2771, 6)"
      ]
     },
     "execution_count": 87,
     "metadata": {},
     "output_type": "execute_result"
    }
   ],
   "source": [
    "province.shape"
   ]
  },
  {
   "cell_type": "markdown",
   "id": "suspected-income",
   "metadata": {},
   "source": [
    "### First Five Rows"
   ]
  },
  {
   "cell_type": "code",
   "execution_count": 88,
   "id": "adequate-shoulder",
   "metadata": {},
   "outputs": [
    {
     "data": {
      "text/html": [
       "<div>\n",
       "<style scoped>\n",
       "    .dataframe tbody tr th:only-of-type {\n",
       "        vertical-align: middle;\n",
       "    }\n",
       "\n",
       "    .dataframe tbody tr th {\n",
       "        vertical-align: top;\n",
       "    }\n",
       "\n",
       "    .dataframe thead th {\n",
       "        text-align: right;\n",
       "    }\n",
       "</style>\n",
       "<table border=\"1\" class=\"dataframe\">\n",
       "  <thead>\n",
       "    <tr style=\"text-align: right;\">\n",
       "      <th></th>\n",
       "      <th>date</th>\n",
       "      <th>time</th>\n",
       "      <th>province</th>\n",
       "      <th>confirmed</th>\n",
       "      <th>released</th>\n",
       "      <th>deceased</th>\n",
       "    </tr>\n",
       "  </thead>\n",
       "  <tbody>\n",
       "    <tr>\n",
       "      <th>0</th>\n",
       "      <td>1/20/2020</td>\n",
       "      <td>16</td>\n",
       "      <td>Seoul</td>\n",
       "      <td>0</td>\n",
       "      <td>0</td>\n",
       "      <td>0</td>\n",
       "    </tr>\n",
       "    <tr>\n",
       "      <th>1</th>\n",
       "      <td>1/20/2020</td>\n",
       "      <td>16</td>\n",
       "      <td>Busan</td>\n",
       "      <td>0</td>\n",
       "      <td>0</td>\n",
       "      <td>0</td>\n",
       "    </tr>\n",
       "    <tr>\n",
       "      <th>2</th>\n",
       "      <td>1/20/2020</td>\n",
       "      <td>16</td>\n",
       "      <td>Daegu</td>\n",
       "      <td>0</td>\n",
       "      <td>0</td>\n",
       "      <td>0</td>\n",
       "    </tr>\n",
       "    <tr>\n",
       "      <th>3</th>\n",
       "      <td>1/20/2020</td>\n",
       "      <td>16</td>\n",
       "      <td>Incheon</td>\n",
       "      <td>1</td>\n",
       "      <td>0</td>\n",
       "      <td>0</td>\n",
       "    </tr>\n",
       "    <tr>\n",
       "      <th>4</th>\n",
       "      <td>1/20/2020</td>\n",
       "      <td>16</td>\n",
       "      <td>Gwangju</td>\n",
       "      <td>0</td>\n",
       "      <td>0</td>\n",
       "      <td>0</td>\n",
       "    </tr>\n",
       "  </tbody>\n",
       "</table>\n",
       "</div>"
      ],
      "text/plain": [
       "        date  time province  confirmed  released  deceased\n",
       "0  1/20/2020    16    Seoul          0         0         0\n",
       "1  1/20/2020    16    Busan          0         0         0\n",
       "2  1/20/2020    16    Daegu          0         0         0\n",
       "3  1/20/2020    16  Incheon          1         0         0\n",
       "4  1/20/2020    16  Gwangju          0         0         0"
      ]
     },
     "execution_count": 88,
     "metadata": {},
     "output_type": "execute_result"
    }
   ],
   "source": [
    "province.head()"
   ]
  },
  {
   "cell_type": "markdown",
   "id": "psychological-irish",
   "metadata": {},
   "source": [
    "### Data Types"
   ]
  },
  {
   "cell_type": "code",
   "execution_count": 89,
   "id": "fuzzy-bahrain",
   "metadata": {},
   "outputs": [
    {
     "data": {
      "text/plain": [
       "date         object\n",
       "time          int64\n",
       "province     object\n",
       "confirmed     int64\n",
       "released      int64\n",
       "deceased      int64\n",
       "dtype: object"
      ]
     },
     "execution_count": 89,
     "metadata": {},
     "output_type": "execute_result"
    }
   ],
   "source": [
    "province.dtypes"
   ]
  },
  {
   "cell_type": "markdown",
   "id": "unauthorized-forwarding",
   "metadata": {},
   "source": [
    "## Patient"
   ]
  },
  {
   "cell_type": "code",
   "execution_count": 90,
   "id": "passing-clause",
   "metadata": {},
   "outputs": [],
   "source": [
    "patient = pd.read_csv(\n",
    "    \"C:\\py\\Projects\\TuringCollege\\COVID19\\DataSets\\patient.csv\",\n",
    "    index_col=False,\n",
    "    skipinitialspace=True,\n",
    ")"
   ]
  },
  {
   "cell_type": "markdown",
   "id": "creative-adjustment",
   "metadata": {},
   "source": [
    "### Number of Rows and Columns"
   ]
  },
  {
   "cell_type": "code",
   "execution_count": 91,
   "id": "arctic-fields",
   "metadata": {},
   "outputs": [
    {
     "data": {
      "text/plain": [
       "(5165, 14)"
      ]
     },
     "execution_count": 91,
     "metadata": {},
     "output_type": "execute_result"
    }
   ],
   "source": [
    "patient.shape"
   ]
  },
  {
   "cell_type": "markdown",
   "id": "varied-integrity",
   "metadata": {},
   "source": [
    "### First Five Rows"
   ]
  },
  {
   "cell_type": "code",
   "execution_count": 92,
   "id": "sorted-adaptation",
   "metadata": {},
   "outputs": [
    {
     "data": {
      "text/html": [
       "<div>\n",
       "<style scoped>\n",
       "    .dataframe tbody tr th:only-of-type {\n",
       "        vertical-align: middle;\n",
       "    }\n",
       "\n",
       "    .dataframe tbody tr th {\n",
       "        vertical-align: top;\n",
       "    }\n",
       "\n",
       "    .dataframe thead th {\n",
       "        text-align: right;\n",
       "    }\n",
       "</style>\n",
       "<table border=\"1\" class=\"dataframe\">\n",
       "  <thead>\n",
       "    <tr style=\"text-align: right;\">\n",
       "      <th></th>\n",
       "      <th>ID</th>\n",
       "      <th>sex</th>\n",
       "      <th>age</th>\n",
       "      <th>country</th>\n",
       "      <th>province</th>\n",
       "      <th>city</th>\n",
       "      <th>infection_case</th>\n",
       "      <th>infected_by</th>\n",
       "      <th>contact_number</th>\n",
       "      <th>symptom_onset_date</th>\n",
       "      <th>confirmed_date</th>\n",
       "      <th>released_date</th>\n",
       "      <th>deceased_date</th>\n",
       "      <th>state</th>\n",
       "    </tr>\n",
       "  </thead>\n",
       "  <tbody>\n",
       "    <tr>\n",
       "      <th>0</th>\n",
       "      <td>1000000001</td>\n",
       "      <td>male</td>\n",
       "      <td>50s</td>\n",
       "      <td>Korea</td>\n",
       "      <td>Seoul</td>\n",
       "      <td>Gangseo-gu</td>\n",
       "      <td>overseas inflow</td>\n",
       "      <td>NaN</td>\n",
       "      <td>75</td>\n",
       "      <td>1/22/2020</td>\n",
       "      <td>1/23/2020</td>\n",
       "      <td>2/5/2020</td>\n",
       "      <td>NaN</td>\n",
       "      <td>released</td>\n",
       "    </tr>\n",
       "    <tr>\n",
       "      <th>1</th>\n",
       "      <td>1000000002</td>\n",
       "      <td>male</td>\n",
       "      <td>30s</td>\n",
       "      <td>Korea</td>\n",
       "      <td>Seoul</td>\n",
       "      <td>Jungnang-gu</td>\n",
       "      <td>overseas inflow</td>\n",
       "      <td>NaN</td>\n",
       "      <td>31</td>\n",
       "      <td>NaN</td>\n",
       "      <td>1/30/2020</td>\n",
       "      <td>3/2/2020</td>\n",
       "      <td>NaN</td>\n",
       "      <td>released</td>\n",
       "    </tr>\n",
       "    <tr>\n",
       "      <th>2</th>\n",
       "      <td>1000000003</td>\n",
       "      <td>male</td>\n",
       "      <td>50s</td>\n",
       "      <td>Korea</td>\n",
       "      <td>Seoul</td>\n",
       "      <td>Jongno-gu</td>\n",
       "      <td>contact with patient</td>\n",
       "      <td>2002000001</td>\n",
       "      <td>17</td>\n",
       "      <td>NaN</td>\n",
       "      <td>1/30/2020</td>\n",
       "      <td>2/19/2020</td>\n",
       "      <td>NaN</td>\n",
       "      <td>released</td>\n",
       "    </tr>\n",
       "    <tr>\n",
       "      <th>3</th>\n",
       "      <td>1000000004</td>\n",
       "      <td>male</td>\n",
       "      <td>20s</td>\n",
       "      <td>Korea</td>\n",
       "      <td>Seoul</td>\n",
       "      <td>Mapo-gu</td>\n",
       "      <td>overseas inflow</td>\n",
       "      <td>NaN</td>\n",
       "      <td>9</td>\n",
       "      <td>1/26/2020</td>\n",
       "      <td>1/30/2020</td>\n",
       "      <td>2/15/2020</td>\n",
       "      <td>NaN</td>\n",
       "      <td>released</td>\n",
       "    </tr>\n",
       "    <tr>\n",
       "      <th>4</th>\n",
       "      <td>1000000005</td>\n",
       "      <td>female</td>\n",
       "      <td>20s</td>\n",
       "      <td>Korea</td>\n",
       "      <td>Seoul</td>\n",
       "      <td>Seongbuk-gu</td>\n",
       "      <td>contact with patient</td>\n",
       "      <td>1000000002</td>\n",
       "      <td>2</td>\n",
       "      <td>NaN</td>\n",
       "      <td>1/31/2020</td>\n",
       "      <td>2/24/2020</td>\n",
       "      <td>NaN</td>\n",
       "      <td>released</td>\n",
       "    </tr>\n",
       "  </tbody>\n",
       "</table>\n",
       "</div>"
      ],
      "text/plain": [
       "           ID     sex  age country province         city  \\\n",
       "0  1000000001    male  50s   Korea    Seoul   Gangseo-gu   \n",
       "1  1000000002    male  30s   Korea    Seoul  Jungnang-gu   \n",
       "2  1000000003    male  50s   Korea    Seoul    Jongno-gu   \n",
       "3  1000000004    male  20s   Korea    Seoul      Mapo-gu   \n",
       "4  1000000005  female  20s   Korea    Seoul  Seongbuk-gu   \n",
       "\n",
       "         infection_case infected_by contact_number symptom_onset_date  \\\n",
       "0       overseas inflow         NaN             75          1/22/2020   \n",
       "1       overseas inflow         NaN             31                NaN   \n",
       "2  contact with patient  2002000001             17                NaN   \n",
       "3       overseas inflow         NaN              9          1/26/2020   \n",
       "4  contact with patient  1000000002              2                NaN   \n",
       "\n",
       "  confirmed_date released_date deceased_date     state  \n",
       "0      1/23/2020      2/5/2020           NaN  released  \n",
       "1      1/30/2020      3/2/2020           NaN  released  \n",
       "2      1/30/2020     2/19/2020           NaN  released  \n",
       "3      1/30/2020     2/15/2020           NaN  released  \n",
       "4      1/31/2020     2/24/2020           NaN  released  "
      ]
     },
     "execution_count": 92,
     "metadata": {},
     "output_type": "execute_result"
    }
   ],
   "source": [
    "patient.head()"
   ]
  },
  {
   "cell_type": "markdown",
   "id": "tender-twenty",
   "metadata": {},
   "source": [
    "### Data Types"
   ]
  },
  {
   "cell_type": "code",
   "execution_count": 93,
   "id": "american-stevens",
   "metadata": {},
   "outputs": [
    {
     "data": {
      "text/plain": [
       "ID                     int64\n",
       "sex                   object\n",
       "age                   object\n",
       "country               object\n",
       "province              object\n",
       "city                  object\n",
       "infection_case        object\n",
       "infected_by           object\n",
       "contact_number        object\n",
       "symptom_onset_date    object\n",
       "confirmed_date        object\n",
       "released_date         object\n",
       "deceased_date         object\n",
       "state                 object\n",
       "dtype: object"
      ]
     },
     "execution_count": 93,
     "metadata": {},
     "output_type": "execute_result"
    }
   ],
   "source": [
    "patient.dtypes"
   ]
  },
  {
   "cell_type": "markdown",
   "id": "arabic-multimedia",
   "metadata": {},
   "source": [
    "## Case"
   ]
  },
  {
   "cell_type": "code",
   "execution_count": 43,
   "id": "qualified-checkout",
   "metadata": {},
   "outputs": [],
   "source": [
    "case = pd.read_csv(\n",
    "    \"C:\\py\\Projects\\TuringCollege\\COVID19\\DataSets\\case.csv\",\n",
    "    index_col=False,\n",
    "    skipinitialspace=True,\n",
    ")"
   ]
  },
  {
   "cell_type": "markdown",
   "id": "sufficient-thinking",
   "metadata": {},
   "source": [
    "### Number of Rows and Columns"
   ]
  },
  {
   "cell_type": "code",
   "execution_count": 94,
   "id": "lucky-abraham",
   "metadata": {},
   "outputs": [
    {
     "data": {
      "text/plain": [
       "(174, 5)"
      ]
     },
     "execution_count": 94,
     "metadata": {},
     "output_type": "execute_result"
    }
   ],
   "source": [
    "case.shape"
   ]
  },
  {
   "cell_type": "markdown",
   "id": "apparent-miniature",
   "metadata": {},
   "source": [
    "### First Five Rows"
   ]
  },
  {
   "cell_type": "code",
   "execution_count": 92,
   "id": "lovely-kazakhstan",
   "metadata": {},
   "outputs": [
    {
     "data": {
      "text/html": [
       "<div>\n",
       "<style scoped>\n",
       "    .dataframe tbody tr th:only-of-type {\n",
       "        vertical-align: middle;\n",
       "    }\n",
       "\n",
       "    .dataframe tbody tr th {\n",
       "        vertical-align: top;\n",
       "    }\n",
       "\n",
       "    .dataframe thead th {\n",
       "        text-align: right;\n",
       "    }\n",
       "</style>\n",
       "<table border=\"1\" class=\"dataframe\">\n",
       "  <thead>\n",
       "    <tr style=\"text-align: right;\">\n",
       "      <th></th>\n",
       "      <th>ID</th>\n",
       "      <th>sex</th>\n",
       "      <th>age</th>\n",
       "      <th>country</th>\n",
       "      <th>province</th>\n",
       "      <th>city</th>\n",
       "      <th>infection_case</th>\n",
       "      <th>infected_by</th>\n",
       "      <th>contact_number</th>\n",
       "      <th>symptom_onset_date</th>\n",
       "      <th>confirmed_date</th>\n",
       "      <th>released_date</th>\n",
       "      <th>deceased_date</th>\n",
       "      <th>state</th>\n",
       "    </tr>\n",
       "  </thead>\n",
       "  <tbody>\n",
       "    <tr>\n",
       "      <th>0</th>\n",
       "      <td>1000000001</td>\n",
       "      <td>male</td>\n",
       "      <td>50s</td>\n",
       "      <td>Korea</td>\n",
       "      <td>Seoul</td>\n",
       "      <td>Gangseo-gu</td>\n",
       "      <td>overseas inflow</td>\n",
       "      <td>NaN</td>\n",
       "      <td>75</td>\n",
       "      <td>1/22/2020</td>\n",
       "      <td>1/23/2020</td>\n",
       "      <td>2/5/2020</td>\n",
       "      <td>NaN</td>\n",
       "      <td>released</td>\n",
       "    </tr>\n",
       "    <tr>\n",
       "      <th>1</th>\n",
       "      <td>1000000002</td>\n",
       "      <td>male</td>\n",
       "      <td>30s</td>\n",
       "      <td>Korea</td>\n",
       "      <td>Seoul</td>\n",
       "      <td>Jungnang-gu</td>\n",
       "      <td>overseas inflow</td>\n",
       "      <td>NaN</td>\n",
       "      <td>31</td>\n",
       "      <td>NaN</td>\n",
       "      <td>1/30/2020</td>\n",
       "      <td>3/2/2020</td>\n",
       "      <td>NaN</td>\n",
       "      <td>released</td>\n",
       "    </tr>\n",
       "    <tr>\n",
       "      <th>2</th>\n",
       "      <td>1000000003</td>\n",
       "      <td>male</td>\n",
       "      <td>50s</td>\n",
       "      <td>Korea</td>\n",
       "      <td>Seoul</td>\n",
       "      <td>Jongno-gu</td>\n",
       "      <td>contact with patient</td>\n",
       "      <td>2002000001</td>\n",
       "      <td>17</td>\n",
       "      <td>NaN</td>\n",
       "      <td>1/30/2020</td>\n",
       "      <td>2/19/2020</td>\n",
       "      <td>NaN</td>\n",
       "      <td>released</td>\n",
       "    </tr>\n",
       "    <tr>\n",
       "      <th>3</th>\n",
       "      <td>1000000004</td>\n",
       "      <td>male</td>\n",
       "      <td>20s</td>\n",
       "      <td>Korea</td>\n",
       "      <td>Seoul</td>\n",
       "      <td>Mapo-gu</td>\n",
       "      <td>overseas inflow</td>\n",
       "      <td>NaN</td>\n",
       "      <td>9</td>\n",
       "      <td>1/26/2020</td>\n",
       "      <td>1/30/2020</td>\n",
       "      <td>2/15/2020</td>\n",
       "      <td>NaN</td>\n",
       "      <td>released</td>\n",
       "    </tr>\n",
       "    <tr>\n",
       "      <th>4</th>\n",
       "      <td>1000000005</td>\n",
       "      <td>female</td>\n",
       "      <td>20s</td>\n",
       "      <td>Korea</td>\n",
       "      <td>Seoul</td>\n",
       "      <td>Seongbuk-gu</td>\n",
       "      <td>contact with patient</td>\n",
       "      <td>1000000002</td>\n",
       "      <td>2</td>\n",
       "      <td>NaN</td>\n",
       "      <td>1/31/2020</td>\n",
       "      <td>2/24/2020</td>\n",
       "      <td>NaN</td>\n",
       "      <td>released</td>\n",
       "    </tr>\n",
       "  </tbody>\n",
       "</table>\n",
       "</div>"
      ],
      "text/plain": [
       "           ID     sex  age country province         city  \\\n",
       "0  1000000001    male  50s   Korea    Seoul   Gangseo-gu   \n",
       "1  1000000002    male  30s   Korea    Seoul  Jungnang-gu   \n",
       "2  1000000003    male  50s   Korea    Seoul    Jongno-gu   \n",
       "3  1000000004    male  20s   Korea    Seoul      Mapo-gu   \n",
       "4  1000000005  female  20s   Korea    Seoul  Seongbuk-gu   \n",
       "\n",
       "         infection_case infected_by contact_number symptom_onset_date  \\\n",
       "0       overseas inflow         NaN             75          1/22/2020   \n",
       "1       overseas inflow         NaN             31                NaN   \n",
       "2  contact with patient  2002000001             17                NaN   \n",
       "3       overseas inflow         NaN              9          1/26/2020   \n",
       "4  contact with patient  1000000002              2                NaN   \n",
       "\n",
       "  confirmed_date released_date deceased_date     state  \n",
       "0      1/23/2020      2/5/2020           NaN  released  \n",
       "1      1/30/2020      3/2/2020           NaN  released  \n",
       "2      1/30/2020     2/19/2020           NaN  released  \n",
       "3      1/30/2020     2/15/2020           NaN  released  \n",
       "4      1/31/2020     2/24/2020           NaN  released  "
      ]
     },
     "execution_count": 92,
     "metadata": {},
     "output_type": "execute_result"
    }
   ],
   "source": [
    "case.head()"
   ]
  },
  {
   "cell_type": "markdown",
   "id": "matched-beach",
   "metadata": {},
   "source": [
    "### Data Types"
   ]
  },
  {
   "cell_type": "code",
   "execution_count": 95,
   "id": "becoming-turning",
   "metadata": {},
   "outputs": [
    {
     "data": {
      "text/plain": [
       "Province     object\n",
       "City         object\n",
       "Group          bool\n",
       "Location     object\n",
       "Confirmed     int64\n",
       "dtype: object"
      ]
     },
     "execution_count": 95,
     "metadata": {},
     "output_type": "execute_result"
    }
   ],
   "source": [
    "case.dtypes"
   ]
  },
  {
   "cell_type": "markdown",
   "id": "lucky-butter",
   "metadata": {},
   "source": [
    "## Population"
   ]
  },
  {
   "cell_type": "code",
   "execution_count": 96,
   "id": "regulated-community",
   "metadata": {},
   "outputs": [],
   "source": [
    "population = pd.read_csv(\n",
    "    \"C:\\py\\Projects\\TuringCollege\\COVID19\\DataSets\\population.csv\",\n",
    "    index_col=False,\n",
    "    skipinitialspace=True,\n",
    ")"
   ]
  },
  {
   "cell_type": "markdown",
   "id": "czech-method",
   "metadata": {},
   "source": [
    "### Number of Rows and Columns"
   ]
  },
  {
   "cell_type": "code",
   "execution_count": 97,
   "id": "hazardous-statement",
   "metadata": {},
   "outputs": [
    {
     "data": {
      "text/plain": [
       "(243, 12)"
      ]
     },
     "execution_count": 97,
     "metadata": {},
     "output_type": "execute_result"
    }
   ],
   "source": [
    "population.shape"
   ]
  },
  {
   "cell_type": "markdown",
   "id": "wooden-discipline",
   "metadata": {},
   "source": [
    "### First Five Rows"
   ]
  },
  {
   "cell_type": "code",
   "execution_count": 98,
   "id": "manufactured-hudson",
   "metadata": {},
   "outputs": [
    {
     "data": {
      "text/html": [
       "<div>\n",
       "<style scoped>\n",
       "    .dataframe tbody tr th:only-of-type {\n",
       "        vertical-align: middle;\n",
       "    }\n",
       "\n",
       "    .dataframe tbody tr th {\n",
       "        vertical-align: top;\n",
       "    }\n",
       "\n",
       "    .dataframe thead th {\n",
       "        text-align: right;\n",
       "    }\n",
       "</style>\n",
       "<table border=\"1\" class=\"dataframe\">\n",
       "  <thead>\n",
       "    <tr style=\"text-align: right;\">\n",
       "      <th></th>\n",
       "      <th>code</th>\n",
       "      <th>province</th>\n",
       "      <th>city</th>\n",
       "      <th>latitude</th>\n",
       "      <th>longitude</th>\n",
       "      <th>elementary_school_count</th>\n",
       "      <th>kindergarten_count</th>\n",
       "      <th>university_count</th>\n",
       "      <th>academy_ratio</th>\n",
       "      <th>elderly_population_ratio</th>\n",
       "      <th>elderly_alone_ratio</th>\n",
       "      <th>nursing_home_count</th>\n",
       "    </tr>\n",
       "  </thead>\n",
       "  <tbody>\n",
       "    <tr>\n",
       "      <th>0</th>\n",
       "      <td>10000</td>\n",
       "      <td>Seoul</td>\n",
       "      <td>Seoul</td>\n",
       "      <td>37.566953</td>\n",
       "      <td>126.977977</td>\n",
       "      <td>607</td>\n",
       "      <td>830</td>\n",
       "      <td>48</td>\n",
       "      <td>1.44</td>\n",
       "      <td>15.38</td>\n",
       "      <td>5.8</td>\n",
       "      <td>22739</td>\n",
       "    </tr>\n",
       "    <tr>\n",
       "      <th>1</th>\n",
       "      <td>10010</td>\n",
       "      <td>Seoul</td>\n",
       "      <td>Gangnam-gu</td>\n",
       "      <td>37.518421</td>\n",
       "      <td>127.047222</td>\n",
       "      <td>33</td>\n",
       "      <td>38</td>\n",
       "      <td>0</td>\n",
       "      <td>4.18</td>\n",
       "      <td>13.17</td>\n",
       "      <td>4.3</td>\n",
       "      <td>3088</td>\n",
       "    </tr>\n",
       "    <tr>\n",
       "      <th>2</th>\n",
       "      <td>10020</td>\n",
       "      <td>Seoul</td>\n",
       "      <td>Gangdong-gu</td>\n",
       "      <td>37.530492</td>\n",
       "      <td>127.123837</td>\n",
       "      <td>27</td>\n",
       "      <td>32</td>\n",
       "      <td>0</td>\n",
       "      <td>1.54</td>\n",
       "      <td>14.55</td>\n",
       "      <td>5.4</td>\n",
       "      <td>1023</td>\n",
       "    </tr>\n",
       "    <tr>\n",
       "      <th>3</th>\n",
       "      <td>10030</td>\n",
       "      <td>Seoul</td>\n",
       "      <td>Gangbuk-gu</td>\n",
       "      <td>37.639938</td>\n",
       "      <td>127.025508</td>\n",
       "      <td>14</td>\n",
       "      <td>21</td>\n",
       "      <td>0</td>\n",
       "      <td>0.67</td>\n",
       "      <td>19.49</td>\n",
       "      <td>8.5</td>\n",
       "      <td>628</td>\n",
       "    </tr>\n",
       "    <tr>\n",
       "      <th>4</th>\n",
       "      <td>10040</td>\n",
       "      <td>Seoul</td>\n",
       "      <td>Gangseo-gu</td>\n",
       "      <td>37.551166</td>\n",
       "      <td>126.849506</td>\n",
       "      <td>36</td>\n",
       "      <td>56</td>\n",
       "      <td>1</td>\n",
       "      <td>1.17</td>\n",
       "      <td>14.39</td>\n",
       "      <td>5.7</td>\n",
       "      <td>1080</td>\n",
       "    </tr>\n",
       "  </tbody>\n",
       "</table>\n",
       "</div>"
      ],
      "text/plain": [
       "    code province         city   latitude   longitude  \\\n",
       "0  10000    Seoul        Seoul  37.566953  126.977977   \n",
       "1  10010    Seoul   Gangnam-gu  37.518421  127.047222   \n",
       "2  10020    Seoul  Gangdong-gu  37.530492  127.123837   \n",
       "3  10030    Seoul   Gangbuk-gu  37.639938  127.025508   \n",
       "4  10040    Seoul   Gangseo-gu  37.551166  126.849506   \n",
       "\n",
       "   elementary_school_count  kindergarten_count  university_count  \\\n",
       "0                      607                 830                48   \n",
       "1                       33                  38                 0   \n",
       "2                       27                  32                 0   \n",
       "3                       14                  21                 0   \n",
       "4                       36                  56                 1   \n",
       "\n",
       "   academy_ratio  elderly_population_ratio  elderly_alone_ratio  \\\n",
       "0           1.44                     15.38                  5.8   \n",
       "1           4.18                     13.17                  4.3   \n",
       "2           1.54                     14.55                  5.4   \n",
       "3           0.67                     19.49                  8.5   \n",
       "4           1.17                     14.39                  5.7   \n",
       "\n",
       "   nursing_home_count  \n",
       "0               22739  \n",
       "1                3088  \n",
       "2                1023  \n",
       "3                 628  \n",
       "4                1080  "
      ]
     },
     "execution_count": 98,
     "metadata": {},
     "output_type": "execute_result"
    }
   ],
   "source": [
    "population.head()"
   ]
  },
  {
   "cell_type": "markdown",
   "id": "concrete-singer",
   "metadata": {},
   "source": [
    "### Data Types"
   ]
  },
  {
   "cell_type": "code",
   "execution_count": 99,
   "id": "democratic-employer",
   "metadata": {},
   "outputs": [
    {
     "data": {
      "text/plain": [
       "code                          int64\n",
       "province                     object\n",
       "city                         object\n",
       "latitude                    float64\n",
       "longitude                   float64\n",
       "elementary_school_count       int64\n",
       "kindergarten_count            int64\n",
       "university_count              int64\n",
       "academy_ratio               float64\n",
       "elderly_population_ratio    float64\n",
       "elderly_alone_ratio         float64\n",
       "nursing_home_count            int64\n",
       "dtype: object"
      ]
     },
     "execution_count": 99,
     "metadata": {},
     "output_type": "execute_result"
    }
   ],
   "source": [
    "population.dtypes"
   ]
  },
  {
   "cell_type": "markdown",
   "id": "killing-exercise",
   "metadata": {},
   "source": [
    "## Test"
   ]
  },
  {
   "cell_type": "code",
   "execution_count": 61,
   "id": "pursuant-roller",
   "metadata": {},
   "outputs": [],
   "source": [
    "test = pd.read_csv(\n",
    "    \"C:\\py\\Projects\\TuringCollege\\COVID19\\DataSets\\\\test.csv\",\n",
    "    index_col=False,\n",
    "    skipinitialspace=True,\n",
    ")"
   ]
  },
  {
   "cell_type": "markdown",
   "id": "varying-degree",
   "metadata": {},
   "source": [
    "### Number of Rows and Columns"
   ]
  },
  {
   "cell_type": "code",
   "execution_count": 94,
   "id": "together-tutorial",
   "metadata": {},
   "outputs": [
    {
     "data": {
      "text/plain": [
       "(174, 5)"
      ]
     },
     "execution_count": 94,
     "metadata": {},
     "output_type": "execute_result"
    }
   ],
   "source": [
    "test.shape"
   ]
  },
  {
   "cell_type": "markdown",
   "id": "personalized-patent",
   "metadata": {},
   "source": [
    "### First Five Rows"
   ]
  },
  {
   "cell_type": "code",
   "execution_count": 92,
   "id": "raising-recipient",
   "metadata": {},
   "outputs": [
    {
     "data": {
      "text/html": [
       "<div>\n",
       "<style scoped>\n",
       "    .dataframe tbody tr th:only-of-type {\n",
       "        vertical-align: middle;\n",
       "    }\n",
       "\n",
       "    .dataframe tbody tr th {\n",
       "        vertical-align: top;\n",
       "    }\n",
       "\n",
       "    .dataframe thead th {\n",
       "        text-align: right;\n",
       "    }\n",
       "</style>\n",
       "<table border=\"1\" class=\"dataframe\">\n",
       "  <thead>\n",
       "    <tr style=\"text-align: right;\">\n",
       "      <th></th>\n",
       "      <th>ID</th>\n",
       "      <th>sex</th>\n",
       "      <th>age</th>\n",
       "      <th>country</th>\n",
       "      <th>province</th>\n",
       "      <th>city</th>\n",
       "      <th>infection_case</th>\n",
       "      <th>infected_by</th>\n",
       "      <th>contact_number</th>\n",
       "      <th>symptom_onset_date</th>\n",
       "      <th>confirmed_date</th>\n",
       "      <th>released_date</th>\n",
       "      <th>deceased_date</th>\n",
       "      <th>state</th>\n",
       "    </tr>\n",
       "  </thead>\n",
       "  <tbody>\n",
       "    <tr>\n",
       "      <th>0</th>\n",
       "      <td>1000000001</td>\n",
       "      <td>male</td>\n",
       "      <td>50s</td>\n",
       "      <td>Korea</td>\n",
       "      <td>Seoul</td>\n",
       "      <td>Gangseo-gu</td>\n",
       "      <td>overseas inflow</td>\n",
       "      <td>NaN</td>\n",
       "      <td>75</td>\n",
       "      <td>1/22/2020</td>\n",
       "      <td>1/23/2020</td>\n",
       "      <td>2/5/2020</td>\n",
       "      <td>NaN</td>\n",
       "      <td>released</td>\n",
       "    </tr>\n",
       "    <tr>\n",
       "      <th>1</th>\n",
       "      <td>1000000002</td>\n",
       "      <td>male</td>\n",
       "      <td>30s</td>\n",
       "      <td>Korea</td>\n",
       "      <td>Seoul</td>\n",
       "      <td>Jungnang-gu</td>\n",
       "      <td>overseas inflow</td>\n",
       "      <td>NaN</td>\n",
       "      <td>31</td>\n",
       "      <td>NaN</td>\n",
       "      <td>1/30/2020</td>\n",
       "      <td>3/2/2020</td>\n",
       "      <td>NaN</td>\n",
       "      <td>released</td>\n",
       "    </tr>\n",
       "    <tr>\n",
       "      <th>2</th>\n",
       "      <td>1000000003</td>\n",
       "      <td>male</td>\n",
       "      <td>50s</td>\n",
       "      <td>Korea</td>\n",
       "      <td>Seoul</td>\n",
       "      <td>Jongno-gu</td>\n",
       "      <td>contact with patient</td>\n",
       "      <td>2002000001</td>\n",
       "      <td>17</td>\n",
       "      <td>NaN</td>\n",
       "      <td>1/30/2020</td>\n",
       "      <td>2/19/2020</td>\n",
       "      <td>NaN</td>\n",
       "      <td>released</td>\n",
       "    </tr>\n",
       "    <tr>\n",
       "      <th>3</th>\n",
       "      <td>1000000004</td>\n",
       "      <td>male</td>\n",
       "      <td>20s</td>\n",
       "      <td>Korea</td>\n",
       "      <td>Seoul</td>\n",
       "      <td>Mapo-gu</td>\n",
       "      <td>overseas inflow</td>\n",
       "      <td>NaN</td>\n",
       "      <td>9</td>\n",
       "      <td>1/26/2020</td>\n",
       "      <td>1/30/2020</td>\n",
       "      <td>2/15/2020</td>\n",
       "      <td>NaN</td>\n",
       "      <td>released</td>\n",
       "    </tr>\n",
       "    <tr>\n",
       "      <th>4</th>\n",
       "      <td>1000000005</td>\n",
       "      <td>female</td>\n",
       "      <td>20s</td>\n",
       "      <td>Korea</td>\n",
       "      <td>Seoul</td>\n",
       "      <td>Seongbuk-gu</td>\n",
       "      <td>contact with patient</td>\n",
       "      <td>1000000002</td>\n",
       "      <td>2</td>\n",
       "      <td>NaN</td>\n",
       "      <td>1/31/2020</td>\n",
       "      <td>2/24/2020</td>\n",
       "      <td>NaN</td>\n",
       "      <td>released</td>\n",
       "    </tr>\n",
       "  </tbody>\n",
       "</table>\n",
       "</div>"
      ],
      "text/plain": [
       "           ID     sex  age country province         city  \\\n",
       "0  1000000001    male  50s   Korea    Seoul   Gangseo-gu   \n",
       "1  1000000002    male  30s   Korea    Seoul  Jungnang-gu   \n",
       "2  1000000003    male  50s   Korea    Seoul    Jongno-gu   \n",
       "3  1000000004    male  20s   Korea    Seoul      Mapo-gu   \n",
       "4  1000000005  female  20s   Korea    Seoul  Seongbuk-gu   \n",
       "\n",
       "         infection_case infected_by contact_number symptom_onset_date  \\\n",
       "0       overseas inflow         NaN             75          1/22/2020   \n",
       "1       overseas inflow         NaN             31                NaN   \n",
       "2  contact with patient  2002000001             17                NaN   \n",
       "3       overseas inflow         NaN              9          1/26/2020   \n",
       "4  contact with patient  1000000002              2                NaN   \n",
       "\n",
       "  confirmed_date released_date deceased_date     state  \n",
       "0      1/23/2020      2/5/2020           NaN  released  \n",
       "1      1/30/2020      3/2/2020           NaN  released  \n",
       "2      1/30/2020     2/19/2020           NaN  released  \n",
       "3      1/30/2020     2/15/2020           NaN  released  \n",
       "4      1/31/2020     2/24/2020           NaN  released  "
      ]
     },
     "execution_count": 92,
     "metadata": {},
     "output_type": "execute_result"
    }
   ],
   "source": [
    "test.head()"
   ]
  },
  {
   "cell_type": "markdown",
   "id": "sixth-exemption",
   "metadata": {},
   "source": [
    "### Data Types"
   ]
  },
  {
   "cell_type": "code",
   "execution_count": 95,
   "id": "controversial-bicycle",
   "metadata": {},
   "outputs": [
    {
     "data": {
      "text/plain": [
       "Province     object\n",
       "City         object\n",
       "Group          bool\n",
       "Location     object\n",
       "Confirmed     int64\n",
       "dtype: object"
      ]
     },
     "execution_count": 95,
     "metadata": {},
     "output_type": "execute_result"
    }
   ],
   "source": [
    "test.dtypes"
   ]
  },
  {
   "cell_type": "markdown",
   "id": "numerical-dispute",
   "metadata": {},
   "source": [
    "## Weather"
   ]
  },
  {
   "cell_type": "code",
   "execution_count": 100,
   "id": "metallic-student",
   "metadata": {},
   "outputs": [],
   "source": [
    "weather = pd.read_csv(\n",
    "    \"C:\\py\\Projects\\TuringCollege\\COVID19\\DataSets\\\\weather.csv\",\n",
    "    index_col=False,\n",
    "    skipinitialspace=True,\n",
    ")"
   ]
  },
  {
   "cell_type": "markdown",
   "id": "demanding-replacement",
   "metadata": {},
   "source": [
    "### Number of Rows and Columns"
   ]
  },
  {
   "cell_type": "code",
   "execution_count": 101,
   "id": "fiscal-drain",
   "metadata": {},
   "outputs": [
    {
     "data": {
      "text/plain": [
       "(26271, 10)"
      ]
     },
     "execution_count": 101,
     "metadata": {},
     "output_type": "execute_result"
    }
   ],
   "source": [
    "weather.shape"
   ]
  },
  {
   "cell_type": "markdown",
   "id": "passive-objective",
   "metadata": {},
   "source": [
    "### First Five Rows"
   ]
  },
  {
   "cell_type": "code",
   "execution_count": 102,
   "id": "collective-democrat",
   "metadata": {},
   "outputs": [
    {
     "data": {
      "text/html": [
       "<div>\n",
       "<style scoped>\n",
       "    .dataframe tbody tr th:only-of-type {\n",
       "        vertical-align: middle;\n",
       "    }\n",
       "\n",
       "    .dataframe tbody tr th {\n",
       "        vertical-align: top;\n",
       "    }\n",
       "\n",
       "    .dataframe thead th {\n",
       "        text-align: right;\n",
       "    }\n",
       "</style>\n",
       "<table border=\"1\" class=\"dataframe\">\n",
       "  <thead>\n",
       "    <tr style=\"text-align: right;\">\n",
       "      <th></th>\n",
       "      <th>code</th>\n",
       "      <th>province</th>\n",
       "      <th>date</th>\n",
       "      <th>avg_temp</th>\n",
       "      <th>min_temp</th>\n",
       "      <th>max_temp</th>\n",
       "      <th>precipitation</th>\n",
       "      <th>max_wind_speed</th>\n",
       "      <th>most_wind_direction</th>\n",
       "      <th>avg_relative_humidity</th>\n",
       "    </tr>\n",
       "  </thead>\n",
       "  <tbody>\n",
       "    <tr>\n",
       "      <th>0</th>\n",
       "      <td>10000</td>\n",
       "      <td>Seoul</td>\n",
       "      <td>2016-01-01</td>\n",
       "      <td>1.2</td>\n",
       "      <td>-3.3</td>\n",
       "      <td>4.0</td>\n",
       "      <td>0.0</td>\n",
       "      <td>3.5</td>\n",
       "      <td>90.0</td>\n",
       "      <td>73.0</td>\n",
       "    </tr>\n",
       "    <tr>\n",
       "      <th>1</th>\n",
       "      <td>11000</td>\n",
       "      <td>Busan</td>\n",
       "      <td>2016-01-01</td>\n",
       "      <td>5.3</td>\n",
       "      <td>1.1</td>\n",
       "      <td>10.9</td>\n",
       "      <td>0.0</td>\n",
       "      <td>7.4</td>\n",
       "      <td>340.0</td>\n",
       "      <td>52.1</td>\n",
       "    </tr>\n",
       "    <tr>\n",
       "      <th>2</th>\n",
       "      <td>12000</td>\n",
       "      <td>Daegu</td>\n",
       "      <td>2016-01-01</td>\n",
       "      <td>1.7</td>\n",
       "      <td>-4.0</td>\n",
       "      <td>8.0</td>\n",
       "      <td>0.0</td>\n",
       "      <td>3.7</td>\n",
       "      <td>270.0</td>\n",
       "      <td>70.5</td>\n",
       "    </tr>\n",
       "    <tr>\n",
       "      <th>3</th>\n",
       "      <td>13000</td>\n",
       "      <td>Gwangju</td>\n",
       "      <td>2016-01-01</td>\n",
       "      <td>3.2</td>\n",
       "      <td>-1.5</td>\n",
       "      <td>8.1</td>\n",
       "      <td>0.0</td>\n",
       "      <td>2.7</td>\n",
       "      <td>230.0</td>\n",
       "      <td>73.1</td>\n",
       "    </tr>\n",
       "    <tr>\n",
       "      <th>4</th>\n",
       "      <td>14000</td>\n",
       "      <td>Incheon</td>\n",
       "      <td>2016-01-01</td>\n",
       "      <td>3.1</td>\n",
       "      <td>-0.4</td>\n",
       "      <td>5.7</td>\n",
       "      <td>0.0</td>\n",
       "      <td>5.3</td>\n",
       "      <td>180.0</td>\n",
       "      <td>83.9</td>\n",
       "    </tr>\n",
       "  </tbody>\n",
       "</table>\n",
       "</div>"
      ],
      "text/plain": [
       "    code province        date  avg_temp  min_temp  max_temp  precipitation  \\\n",
       "0  10000    Seoul  2016-01-01       1.2      -3.3       4.0            0.0   \n",
       "1  11000    Busan  2016-01-01       5.3       1.1      10.9            0.0   \n",
       "2  12000    Daegu  2016-01-01       1.7      -4.0       8.0            0.0   \n",
       "3  13000  Gwangju  2016-01-01       3.2      -1.5       8.1            0.0   \n",
       "4  14000  Incheon  2016-01-01       3.1      -0.4       5.7            0.0   \n",
       "\n",
       "   max_wind_speed  most_wind_direction  avg_relative_humidity  \n",
       "0             3.5                 90.0                   73.0  \n",
       "1             7.4                340.0                   52.1  \n",
       "2             3.7                270.0                   70.5  \n",
       "3             2.7                230.0                   73.1  \n",
       "4             5.3                180.0                   83.9  "
      ]
     },
     "execution_count": 102,
     "metadata": {},
     "output_type": "execute_result"
    }
   ],
   "source": [
    "weather.head()"
   ]
  },
  {
   "cell_type": "markdown",
   "id": "aquatic-vinyl",
   "metadata": {},
   "source": [
    "### Data Types"
   ]
  },
  {
   "cell_type": "code",
   "execution_count": 103,
   "id": "colored-color",
   "metadata": {},
   "outputs": [
    {
     "data": {
      "text/plain": [
       "code                       int64\n",
       "province                  object\n",
       "date                      object\n",
       "avg_temp                 float64\n",
       "min_temp                 float64\n",
       "max_temp                 float64\n",
       "precipitation            float64\n",
       "max_wind_speed           float64\n",
       "most_wind_direction      float64\n",
       "avg_relative_humidity    float64\n",
       "dtype: object"
      ]
     },
     "execution_count": 103,
     "metadata": {},
     "output_type": "execute_result"
    }
   ],
   "source": [
    "weather.dtypes"
   ]
  },
  {
   "cell_type": "markdown",
   "id": "adaptive-warning",
   "metadata": {},
   "source": [
    "# Data Cleaning"
   ]
  },
  {
   "cell_type": "markdown",
   "id": "assumed-sculpture",
   "metadata": {},
   "source": [
    "## Age Dataset"
   ]
  },
  {
   "cell_type": "markdown",
   "id": "large-potential",
   "metadata": {},
   "source": [
    "### Dropping Unneeded Columns"
   ]
  },
  {
   "cell_type": "code",
   "execution_count": 117,
   "id": "homeless-dragon",
   "metadata": {},
   "outputs": [],
   "source": [
    "age = age.drop([\"time\"], axis=1)"
   ]
  },
  {
   "cell_type": "markdown",
   "id": "defensive-express",
   "metadata": {},
   "source": [
    "### Renaming Columns"
   ]
  },
  {
   "cell_type": "code",
   "execution_count": 118,
   "id": "thorough-three",
   "metadata": {
    "scrolled": true
   },
   "outputs": [
    {
     "data": {
      "text/html": [
       "<div>\n",
       "<style scoped>\n",
       "    .dataframe tbody tr th:only-of-type {\n",
       "        vertical-align: middle;\n",
       "    }\n",
       "\n",
       "    .dataframe tbody tr th {\n",
       "        vertical-align: top;\n",
       "    }\n",
       "\n",
       "    .dataframe thead th {\n",
       "        text-align: right;\n",
       "    }\n",
       "</style>\n",
       "<table border=\"1\" class=\"dataframe\">\n",
       "  <thead>\n",
       "    <tr style=\"text-align: right;\">\n",
       "      <th></th>\n",
       "      <th>Date</th>\n",
       "      <th>Age</th>\n",
       "      <th>Confirmed</th>\n",
       "      <th>Deceased</th>\n",
       "    </tr>\n",
       "  </thead>\n",
       "  <tbody>\n",
       "    <tr>\n",
       "      <th>0</th>\n",
       "      <td>3/2/2020</td>\n",
       "      <td>0s</td>\n",
       "      <td>32</td>\n",
       "      <td>0</td>\n",
       "    </tr>\n",
       "    <tr>\n",
       "      <th>1</th>\n",
       "      <td>3/2/2020</td>\n",
       "      <td>10s</td>\n",
       "      <td>169</td>\n",
       "      <td>0</td>\n",
       "    </tr>\n",
       "    <tr>\n",
       "      <th>2</th>\n",
       "      <td>3/2/2020</td>\n",
       "      <td>20s</td>\n",
       "      <td>1235</td>\n",
       "      <td>0</td>\n",
       "    </tr>\n",
       "    <tr>\n",
       "      <th>3</th>\n",
       "      <td>3/2/2020</td>\n",
       "      <td>30s</td>\n",
       "      <td>506</td>\n",
       "      <td>1</td>\n",
       "    </tr>\n",
       "    <tr>\n",
       "      <th>4</th>\n",
       "      <td>3/2/2020</td>\n",
       "      <td>40s</td>\n",
       "      <td>633</td>\n",
       "      <td>1</td>\n",
       "    </tr>\n",
       "  </tbody>\n",
       "</table>\n",
       "</div>"
      ],
      "text/plain": [
       "       Date  Age  Confirmed  Deceased\n",
       "0  3/2/2020   0s         32         0\n",
       "1  3/2/2020  10s        169         0\n",
       "2  3/2/2020  20s       1235         0\n",
       "3  3/2/2020  30s        506         1\n",
       "4  3/2/2020  40s        633         1"
      ]
     },
     "execution_count": 118,
     "metadata": {},
     "output_type": "execute_result"
    }
   ],
   "source": [
    "age.rename(\n",
    "    columns={\n",
    "        \"date\": \"Date\",\n",
    "        \"age\": \"Age\",\n",
    "        \"confirmed\": \"Confirmed\",\n",
    "        \"deceased\": \"Deceased\",\n",
    "    },\n",
    "    inplace=True,\n",
    ")\n",
    "age.head()"
   ]
  },
  {
   "cell_type": "markdown",
   "id": "promotional-attempt",
   "metadata": {},
   "source": [
    "## Gender"
   ]
  },
  {
   "cell_type": "code",
   "execution_count": 30,
   "id": "diverse-porter",
   "metadata": {},
   "outputs": [],
   "source": [
    "gender = gender.drop([\"time\"], axis=1)"
   ]
  },
  {
   "cell_type": "code",
   "execution_count": 32,
   "id": "miniature-minimum",
   "metadata": {},
   "outputs": [
    {
     "data": {
      "text/html": [
       "<div>\n",
       "<style scoped>\n",
       "    .dataframe tbody tr th:only-of-type {\n",
       "        vertical-align: middle;\n",
       "    }\n",
       "\n",
       "    .dataframe tbody tr th {\n",
       "        vertical-align: top;\n",
       "    }\n",
       "\n",
       "    .dataframe thead th {\n",
       "        text-align: right;\n",
       "    }\n",
       "</style>\n",
       "<table border=\"1\" class=\"dataframe\">\n",
       "  <thead>\n",
       "    <tr style=\"text-align: right;\">\n",
       "      <th></th>\n",
       "      <th>Date</th>\n",
       "      <th>Sex</th>\n",
       "      <th>Confirmed</th>\n",
       "      <th>Deceased</th>\n",
       "    </tr>\n",
       "  </thead>\n",
       "  <tbody>\n",
       "    <tr>\n",
       "      <th>0</th>\n",
       "      <td>3/2/2020</td>\n",
       "      <td>male</td>\n",
       "      <td>1591</td>\n",
       "      <td>13</td>\n",
       "    </tr>\n",
       "    <tr>\n",
       "      <th>1</th>\n",
       "      <td>3/2/2020</td>\n",
       "      <td>female</td>\n",
       "      <td>2621</td>\n",
       "      <td>9</td>\n",
       "    </tr>\n",
       "    <tr>\n",
       "      <th>2</th>\n",
       "      <td>3/3/2020</td>\n",
       "      <td>male</td>\n",
       "      <td>1810</td>\n",
       "      <td>16</td>\n",
       "    </tr>\n",
       "    <tr>\n",
       "      <th>3</th>\n",
       "      <td>3/3/2020</td>\n",
       "      <td>female</td>\n",
       "      <td>3002</td>\n",
       "      <td>12</td>\n",
       "    </tr>\n",
       "    <tr>\n",
       "      <th>4</th>\n",
       "      <td>3/4/2020</td>\n",
       "      <td>male</td>\n",
       "      <td>1996</td>\n",
       "      <td>20</td>\n",
       "    </tr>\n",
       "  </tbody>\n",
       "</table>\n",
       "</div>"
      ],
      "text/plain": [
       "       Date     Sex  Confirmed  Deceased\n",
       "0  3/2/2020    male       1591        13\n",
       "1  3/2/2020  female       2621         9\n",
       "2  3/3/2020    male       1810        16\n",
       "3  3/3/2020  female       3002        12\n",
       "4  3/4/2020    male       1996        20"
      ]
     },
     "execution_count": 32,
     "metadata": {},
     "output_type": "execute_result"
    }
   ],
   "source": [
    "gender.rename(\n",
    "    columns={\n",
    "        \"date\": \"Date\",\n",
    "        \"sex\": \"Sex\",\n",
    "        \"confirmed\": \"Confirmed\",\n",
    "        \"deceased\": \"Deceased\",\n",
    "    },\n",
    "    inplace=True,\n",
    ")\n",
    "\n",
    "gender.head()"
   ]
  },
  {
   "cell_type": "markdown",
   "id": "exposed-microphone",
   "metadata": {},
   "source": [
    "## Province"
   ]
  },
  {
   "cell_type": "code",
   "execution_count": 38,
   "id": "northern-relation",
   "metadata": {},
   "outputs": [],
   "source": [
    "province = province.drop([\"time\", \"released\"], axis=1)"
   ]
  },
  {
   "cell_type": "code",
   "execution_count": 39,
   "id": "statutory-hawaii",
   "metadata": {},
   "outputs": [
    {
     "data": {
      "text/html": [
       "<div>\n",
       "<style scoped>\n",
       "    .dataframe tbody tr th:only-of-type {\n",
       "        vertical-align: middle;\n",
       "    }\n",
       "\n",
       "    .dataframe tbody tr th {\n",
       "        vertical-align: top;\n",
       "    }\n",
       "\n",
       "    .dataframe thead th {\n",
       "        text-align: right;\n",
       "    }\n",
       "</style>\n",
       "<table border=\"1\" class=\"dataframe\">\n",
       "  <thead>\n",
       "    <tr style=\"text-align: right;\">\n",
       "      <th></th>\n",
       "      <th>Date</th>\n",
       "      <th>Province</th>\n",
       "      <th>Confirmed</th>\n",
       "      <th>Deceased</th>\n",
       "    </tr>\n",
       "  </thead>\n",
       "  <tbody>\n",
       "    <tr>\n",
       "      <th>0</th>\n",
       "      <td>1/20/2020</td>\n",
       "      <td>Seoul</td>\n",
       "      <td>0</td>\n",
       "      <td>0</td>\n",
       "    </tr>\n",
       "    <tr>\n",
       "      <th>1</th>\n",
       "      <td>1/20/2020</td>\n",
       "      <td>Busan</td>\n",
       "      <td>0</td>\n",
       "      <td>0</td>\n",
       "    </tr>\n",
       "    <tr>\n",
       "      <th>2</th>\n",
       "      <td>1/20/2020</td>\n",
       "      <td>Daegu</td>\n",
       "      <td>0</td>\n",
       "      <td>0</td>\n",
       "    </tr>\n",
       "    <tr>\n",
       "      <th>3</th>\n",
       "      <td>1/20/2020</td>\n",
       "      <td>Incheon</td>\n",
       "      <td>1</td>\n",
       "      <td>0</td>\n",
       "    </tr>\n",
       "    <tr>\n",
       "      <th>4</th>\n",
       "      <td>1/20/2020</td>\n",
       "      <td>Gwangju</td>\n",
       "      <td>0</td>\n",
       "      <td>0</td>\n",
       "    </tr>\n",
       "  </tbody>\n",
       "</table>\n",
       "</div>"
      ],
      "text/plain": [
       "        Date Province  Confirmed  Deceased\n",
       "0  1/20/2020    Seoul          0         0\n",
       "1  1/20/2020    Busan          0         0\n",
       "2  1/20/2020    Daegu          0         0\n",
       "3  1/20/2020  Incheon          1         0\n",
       "4  1/20/2020  Gwangju          0         0"
      ]
     },
     "execution_count": 39,
     "metadata": {},
     "output_type": "execute_result"
    }
   ],
   "source": [
    "province.rename(\n",
    "    columns={\n",
    "        \"date\": \"Date\",\n",
    "        \"province\": \"Province\",\n",
    "        \"confirmed\": \"Confirmed\",\n",
    "        \"deceased\": \"Deceased\",\n",
    "    },\n",
    "    inplace=True,\n",
    ")\n",
    "province.head()"
   ]
  },
  {
   "cell_type": "markdown",
   "id": "significant-sunset",
   "metadata": {},
   "source": [
    "## Patient"
   ]
  },
  {
   "cell_type": "code",
   "execution_count": 41,
   "id": "declared-combine",
   "metadata": {},
   "outputs": [],
   "source": [
    "patient = patient.drop(\n",
    "    [\n",
    "        \"country\",\n",
    "        \"province\",\n",
    "        \"city\",\n",
    "        \"symptom_onset_date\",\n",
    "        \"confirmed_date\",\n",
    "        \"released_date\",\n",
    "        \"deceased_date\",\n",
    "        \"state\",\n",
    "        \"infected_by\",\n",
    "        \"contact_number\",\n",
    "        \"ID\"\n",
    "    ],\n",
    "    axis=1,\n",
    ")"
   ]
  },
  {
   "cell_type": "code",
   "execution_count": 42,
   "id": "fiscal-wings",
   "metadata": {},
   "outputs": [
    {
     "data": {
      "text/html": [
       "<div>\n",
       "<style scoped>\n",
       "    .dataframe tbody tr th:only-of-type {\n",
       "        vertical-align: middle;\n",
       "    }\n",
       "\n",
       "    .dataframe tbody tr th {\n",
       "        vertical-align: top;\n",
       "    }\n",
       "\n",
       "    .dataframe thead th {\n",
       "        text-align: right;\n",
       "    }\n",
       "</style>\n",
       "<table border=\"1\" class=\"dataframe\">\n",
       "  <thead>\n",
       "    <tr style=\"text-align: right;\">\n",
       "      <th></th>\n",
       "      <th>Sex</th>\n",
       "      <th>Age</th>\n",
       "      <th>Location</th>\n",
       "    </tr>\n",
       "  </thead>\n",
       "  <tbody>\n",
       "    <tr>\n",
       "      <th>0</th>\n",
       "      <td>male</td>\n",
       "      <td>50s</td>\n",
       "      <td>overseas inflow</td>\n",
       "    </tr>\n",
       "    <tr>\n",
       "      <th>1</th>\n",
       "      <td>male</td>\n",
       "      <td>30s</td>\n",
       "      <td>overseas inflow</td>\n",
       "    </tr>\n",
       "    <tr>\n",
       "      <th>2</th>\n",
       "      <td>male</td>\n",
       "      <td>50s</td>\n",
       "      <td>contact with patient</td>\n",
       "    </tr>\n",
       "    <tr>\n",
       "      <th>3</th>\n",
       "      <td>male</td>\n",
       "      <td>20s</td>\n",
       "      <td>overseas inflow</td>\n",
       "    </tr>\n",
       "    <tr>\n",
       "      <th>4</th>\n",
       "      <td>female</td>\n",
       "      <td>20s</td>\n",
       "      <td>contact with patient</td>\n",
       "    </tr>\n",
       "  </tbody>\n",
       "</table>\n",
       "</div>"
      ],
      "text/plain": [
       "      Sex  Age              Location\n",
       "0    male  50s       overseas inflow\n",
       "1    male  30s       overseas inflow\n",
       "2    male  50s  contact with patient\n",
       "3    male  20s       overseas inflow\n",
       "4  female  20s  contact with patient"
      ]
     },
     "execution_count": 42,
     "metadata": {},
     "output_type": "execute_result"
    }
   ],
   "source": [
    "patient.rename(\n",
    "    columns={\n",
    "        \"sex\": \"Sex\",\n",
    "        \"age\": \"Age\",\n",
    "        \"infection_case\": \"Location\",      \n",
    "    },\n",
    "    inplace=True,\n",
    ")\n",
    "patient.head()"
   ]
  },
  {
   "cell_type": "markdown",
   "id": "wooden-volume",
   "metadata": {},
   "source": [
    "## Case"
   ]
  },
  {
   "cell_type": "code",
   "execution_count": 44,
   "id": "fuzzy-channels",
   "metadata": {},
   "outputs": [],
   "source": [
    "case = case.drop([\"case_id\", \"latitude\", \"longitude\"], axis=1)"
   ]
  },
  {
   "cell_type": "code",
   "execution_count": 45,
   "id": "spanish-newark",
   "metadata": {
    "scrolled": true
   },
   "outputs": [
    {
     "data": {
      "text/html": [
       "<div>\n",
       "<style scoped>\n",
       "    .dataframe tbody tr th:only-of-type {\n",
       "        vertical-align: middle;\n",
       "    }\n",
       "\n",
       "    .dataframe tbody tr th {\n",
       "        vertical-align: top;\n",
       "    }\n",
       "\n",
       "    .dataframe thead th {\n",
       "        text-align: right;\n",
       "    }\n",
       "</style>\n",
       "<table border=\"1\" class=\"dataframe\">\n",
       "  <thead>\n",
       "    <tr style=\"text-align: right;\">\n",
       "      <th></th>\n",
       "      <th>Province</th>\n",
       "      <th>City</th>\n",
       "      <th>Group</th>\n",
       "      <th>Location</th>\n",
       "      <th>Confirmed</th>\n",
       "    </tr>\n",
       "  </thead>\n",
       "  <tbody>\n",
       "    <tr>\n",
       "      <th>0</th>\n",
       "      <td>Seoul</td>\n",
       "      <td>Yongsan-gu</td>\n",
       "      <td>True</td>\n",
       "      <td>Itaewon Clubs</td>\n",
       "      <td>139</td>\n",
       "    </tr>\n",
       "    <tr>\n",
       "      <th>1</th>\n",
       "      <td>Seoul</td>\n",
       "      <td>Gwanak-gu</td>\n",
       "      <td>True</td>\n",
       "      <td>Richway</td>\n",
       "      <td>119</td>\n",
       "    </tr>\n",
       "    <tr>\n",
       "      <th>2</th>\n",
       "      <td>Seoul</td>\n",
       "      <td>Guro-gu</td>\n",
       "      <td>True</td>\n",
       "      <td>Guro-gu Call Center</td>\n",
       "      <td>95</td>\n",
       "    </tr>\n",
       "    <tr>\n",
       "      <th>3</th>\n",
       "      <td>Seoul</td>\n",
       "      <td>Yangcheon-gu</td>\n",
       "      <td>True</td>\n",
       "      <td>Yangcheon Table Tennis Club</td>\n",
       "      <td>43</td>\n",
       "    </tr>\n",
       "    <tr>\n",
       "      <th>4</th>\n",
       "      <td>Seoul</td>\n",
       "      <td>Dobong-gu</td>\n",
       "      <td>True</td>\n",
       "      <td>Day Care Center</td>\n",
       "      <td>43</td>\n",
       "    </tr>\n",
       "  </tbody>\n",
       "</table>\n",
       "</div>"
      ],
      "text/plain": [
       "  Province          City  Group                     Location  Confirmed\n",
       "0    Seoul    Yongsan-gu   True                Itaewon Clubs        139\n",
       "1    Seoul     Gwanak-gu   True                      Richway        119\n",
       "2    Seoul       Guro-gu   True          Guro-gu Call Center         95\n",
       "3    Seoul  Yangcheon-gu   True  Yangcheon Table Tennis Club         43\n",
       "4    Seoul     Dobong-gu   True              Day Care Center         43"
      ]
     },
     "execution_count": 45,
     "metadata": {},
     "output_type": "execute_result"
    }
   ],
   "source": [
    "case.rename(\n",
    "    columns={\n",
    "        \"province\": \"Province\",\n",
    "        \"city\": \"City\",\n",
    "        \"group\": \"Group\",\n",
    "        \"infection_case\": \"Location\",\n",
    "        \"confirmed\": \"Confirmed\",\n",
    "        \n",
    "    },\n",
    "    inplace=True,\n",
    ")\n",
    "case.head()"
   ]
  },
  {
   "cell_type": "markdown",
   "id": "similar-aspect",
   "metadata": {},
   "source": [
    "## Population"
   ]
  },
  {
   "cell_type": "code",
   "execution_count": 59,
   "id": "intended-meeting",
   "metadata": {},
   "outputs": [],
   "source": [
    "population = population.drop([\"code\", \"latitude\", \"longitude\"], axis=1)"
   ]
  },
  {
   "cell_type": "code",
   "execution_count": 60,
   "id": "grave-juice",
   "metadata": {
    "scrolled": true
   },
   "outputs": [
    {
     "data": {
      "text/html": [
       "<div>\n",
       "<style scoped>\n",
       "    .dataframe tbody tr th:only-of-type {\n",
       "        vertical-align: middle;\n",
       "    }\n",
       "\n",
       "    .dataframe tbody tr th {\n",
       "        vertical-align: top;\n",
       "    }\n",
       "\n",
       "    .dataframe thead th {\n",
       "        text-align: right;\n",
       "    }\n",
       "</style>\n",
       "<table border=\"1\" class=\"dataframe\">\n",
       "  <thead>\n",
       "    <tr style=\"text-align: right;\">\n",
       "      <th></th>\n",
       "      <th>Province</th>\n",
       "      <th>City</th>\n",
       "      <th>Elementary</th>\n",
       "      <th>Kindergarten</th>\n",
       "      <th>University</th>\n",
       "      <th>Academy</th>\n",
       "      <th>Elderly</th>\n",
       "      <th>Elderly Alone</th>\n",
       "      <th>Nursing Home</th>\n",
       "    </tr>\n",
       "  </thead>\n",
       "  <tbody>\n",
       "    <tr>\n",
       "      <th>0</th>\n",
       "      <td>Seoul</td>\n",
       "      <td>Seoul</td>\n",
       "      <td>607</td>\n",
       "      <td>830</td>\n",
       "      <td>48</td>\n",
       "      <td>1.44</td>\n",
       "      <td>15.38</td>\n",
       "      <td>5.8</td>\n",
       "      <td>22739</td>\n",
       "    </tr>\n",
       "    <tr>\n",
       "      <th>1</th>\n",
       "      <td>Seoul</td>\n",
       "      <td>Gangnam-gu</td>\n",
       "      <td>33</td>\n",
       "      <td>38</td>\n",
       "      <td>0</td>\n",
       "      <td>4.18</td>\n",
       "      <td>13.17</td>\n",
       "      <td>4.3</td>\n",
       "      <td>3088</td>\n",
       "    </tr>\n",
       "    <tr>\n",
       "      <th>2</th>\n",
       "      <td>Seoul</td>\n",
       "      <td>Gangdong-gu</td>\n",
       "      <td>27</td>\n",
       "      <td>32</td>\n",
       "      <td>0</td>\n",
       "      <td>1.54</td>\n",
       "      <td>14.55</td>\n",
       "      <td>5.4</td>\n",
       "      <td>1023</td>\n",
       "    </tr>\n",
       "    <tr>\n",
       "      <th>3</th>\n",
       "      <td>Seoul</td>\n",
       "      <td>Gangbuk-gu</td>\n",
       "      <td>14</td>\n",
       "      <td>21</td>\n",
       "      <td>0</td>\n",
       "      <td>0.67</td>\n",
       "      <td>19.49</td>\n",
       "      <td>8.5</td>\n",
       "      <td>628</td>\n",
       "    </tr>\n",
       "    <tr>\n",
       "      <th>4</th>\n",
       "      <td>Seoul</td>\n",
       "      <td>Gangseo-gu</td>\n",
       "      <td>36</td>\n",
       "      <td>56</td>\n",
       "      <td>1</td>\n",
       "      <td>1.17</td>\n",
       "      <td>14.39</td>\n",
       "      <td>5.7</td>\n",
       "      <td>1080</td>\n",
       "    </tr>\n",
       "  </tbody>\n",
       "</table>\n",
       "</div>"
      ],
      "text/plain": [
       "  Province         City  Elementary  Kindergarten  University  Academy  \\\n",
       "0    Seoul        Seoul         607           830          48     1.44   \n",
       "1    Seoul   Gangnam-gu          33            38           0     4.18   \n",
       "2    Seoul  Gangdong-gu          27            32           0     1.54   \n",
       "3    Seoul   Gangbuk-gu          14            21           0     0.67   \n",
       "4    Seoul   Gangseo-gu          36            56           1     1.17   \n",
       "\n",
       "   Elderly  Elderly Alone  Nursing Home  \n",
       "0    15.38            5.8         22739  \n",
       "1    13.17            4.3          3088  \n",
       "2    14.55            5.4          1023  \n",
       "3    19.49            8.5           628  \n",
       "4    14.39            5.7          1080  "
      ]
     },
     "execution_count": 60,
     "metadata": {},
     "output_type": "execute_result"
    }
   ],
   "source": [
    "population.rename(\n",
    "    columns={\n",
    "        \"province\": \"Province\",\n",
    "        \"city\": \"City\",\n",
    "        \"elementary_school_count\": \"Elementary\",\n",
    "        \"kindergarten_count\": \"Kindergarten\",\n",
    "        \"university_count\": \"University\",\n",
    "        \"academy_ratio\": \"Academy\",\n",
    "        \"elderly_population_ratio\": \"Elderly\",\n",
    "        \"elderly_alone_ratio\": \"Elderly Alone\",\n",
    "        \"nursing_home_count\": \"Nursing Home\"    \n",
    "    },\n",
    "    inplace=True,\n",
    ")\n",
    "\n",
    "population.head()"
   ]
  },
  {
   "cell_type": "markdown",
   "id": "tribal-yukon",
   "metadata": {},
   "source": [
    "## Test"
   ]
  },
  {
   "cell_type": "code",
   "execution_count": 50,
   "id": "express-preliminary",
   "metadata": {},
   "outputs": [],
   "source": [
    "test = test.drop([\"time\"], axis=1)"
   ]
  },
  {
   "cell_type": "code",
   "execution_count": 51,
   "id": "severe-reader",
   "metadata": {
    "scrolled": true
   },
   "outputs": [
    {
     "data": {
      "text/html": [
       "<div>\n",
       "<style scoped>\n",
       "    .dataframe tbody tr th:only-of-type {\n",
       "        vertical-align: middle;\n",
       "    }\n",
       "\n",
       "    .dataframe tbody tr th {\n",
       "        vertical-align: top;\n",
       "    }\n",
       "\n",
       "    .dataframe thead th {\n",
       "        text-align: right;\n",
       "    }\n",
       "</style>\n",
       "<table border=\"1\" class=\"dataframe\">\n",
       "  <thead>\n",
       "    <tr style=\"text-align: right;\">\n",
       "      <th></th>\n",
       "      <th>Date</th>\n",
       "      <th>Test</th>\n",
       "      <th>Negative</th>\n",
       "      <th>Confirmed</th>\n",
       "      <th>Released</th>\n",
       "      <th>Deceased</th>\n",
       "    </tr>\n",
       "  </thead>\n",
       "  <tbody>\n",
       "    <tr>\n",
       "      <th>0</th>\n",
       "      <td>1/20/2020</td>\n",
       "      <td>1</td>\n",
       "      <td>0</td>\n",
       "      <td>1</td>\n",
       "      <td>0</td>\n",
       "      <td>0</td>\n",
       "    </tr>\n",
       "    <tr>\n",
       "      <th>1</th>\n",
       "      <td>1/21/2020</td>\n",
       "      <td>1</td>\n",
       "      <td>0</td>\n",
       "      <td>1</td>\n",
       "      <td>0</td>\n",
       "      <td>0</td>\n",
       "    </tr>\n",
       "    <tr>\n",
       "      <th>2</th>\n",
       "      <td>1/22/2020</td>\n",
       "      <td>4</td>\n",
       "      <td>3</td>\n",
       "      <td>1</td>\n",
       "      <td>0</td>\n",
       "      <td>0</td>\n",
       "    </tr>\n",
       "    <tr>\n",
       "      <th>3</th>\n",
       "      <td>1/23/2020</td>\n",
       "      <td>22</td>\n",
       "      <td>21</td>\n",
       "      <td>1</td>\n",
       "      <td>0</td>\n",
       "      <td>0</td>\n",
       "    </tr>\n",
       "    <tr>\n",
       "      <th>4</th>\n",
       "      <td>1/24/2020</td>\n",
       "      <td>27</td>\n",
       "      <td>25</td>\n",
       "      <td>2</td>\n",
       "      <td>0</td>\n",
       "      <td>0</td>\n",
       "    </tr>\n",
       "  </tbody>\n",
       "</table>\n",
       "</div>"
      ],
      "text/plain": [
       "        Date  Test  Negative  Confirmed  Released  Deceased\n",
       "0  1/20/2020     1         0          1         0         0\n",
       "1  1/21/2020     1         0          1         0         0\n",
       "2  1/22/2020     4         3          1         0         0\n",
       "3  1/23/2020    22        21          1         0         0\n",
       "4  1/24/2020    27        25          2         0         0"
      ]
     },
     "execution_count": 51,
     "metadata": {},
     "output_type": "execute_result"
    }
   ],
   "source": [
    "test.rename(\n",
    "    columns={\n",
    "        \"date\": \"Date\",\n",
    "        \"test\": \"Test\",\n",
    "        \"negative\": \"Negative\",\n",
    "        \"confirmed\": \"Confirmed\",\n",
    "        \"released\": \"Released\",\n",
    "        \"deceased\": \"Deceased\"   \n",
    "    },\n",
    "    inplace=True,\n",
    ")\n",
    "\n",
    "test.head()"
   ]
  },
  {
   "cell_type": "markdown",
   "id": "geological-parliament",
   "metadata": {},
   "source": [
    "## Weather"
   ]
  },
  {
   "cell_type": "code",
   "execution_count": 55,
   "id": "cheap-prize",
   "metadata": {},
   "outputs": [],
   "source": [
    "weather = weather.drop([\"code\", \"most_wind_direction\"], axis=1)"
   ]
  },
  {
   "cell_type": "code",
   "execution_count": 57,
   "id": "centered-garage",
   "metadata": {
    "scrolled": true
   },
   "outputs": [
    {
     "data": {
      "text/html": [
       "<div>\n",
       "<style scoped>\n",
       "    .dataframe tbody tr th:only-of-type {\n",
       "        vertical-align: middle;\n",
       "    }\n",
       "\n",
       "    .dataframe tbody tr th {\n",
       "        vertical-align: top;\n",
       "    }\n",
       "\n",
       "    .dataframe thead th {\n",
       "        text-align: right;\n",
       "    }\n",
       "</style>\n",
       "<table border=\"1\" class=\"dataframe\">\n",
       "  <thead>\n",
       "    <tr style=\"text-align: right;\">\n",
       "      <th></th>\n",
       "      <th>Province</th>\n",
       "      <th>Date</th>\n",
       "      <th>Avg Temp</th>\n",
       "      <th>Min Temp</th>\n",
       "      <th>Max Temp</th>\n",
       "      <th>Precipitation</th>\n",
       "      <th>Max Wind Speed</th>\n",
       "      <th>Avg Relative Humidity</th>\n",
       "    </tr>\n",
       "  </thead>\n",
       "  <tbody>\n",
       "    <tr>\n",
       "      <th>0</th>\n",
       "      <td>Seoul</td>\n",
       "      <td>2016-01-01</td>\n",
       "      <td>1.2</td>\n",
       "      <td>-3.3</td>\n",
       "      <td>4.0</td>\n",
       "      <td>0.0</td>\n",
       "      <td>3.5</td>\n",
       "      <td>73.0</td>\n",
       "    </tr>\n",
       "    <tr>\n",
       "      <th>1</th>\n",
       "      <td>Busan</td>\n",
       "      <td>2016-01-01</td>\n",
       "      <td>5.3</td>\n",
       "      <td>1.1</td>\n",
       "      <td>10.9</td>\n",
       "      <td>0.0</td>\n",
       "      <td>7.4</td>\n",
       "      <td>52.1</td>\n",
       "    </tr>\n",
       "    <tr>\n",
       "      <th>2</th>\n",
       "      <td>Daegu</td>\n",
       "      <td>2016-01-01</td>\n",
       "      <td>1.7</td>\n",
       "      <td>-4.0</td>\n",
       "      <td>8.0</td>\n",
       "      <td>0.0</td>\n",
       "      <td>3.7</td>\n",
       "      <td>70.5</td>\n",
       "    </tr>\n",
       "    <tr>\n",
       "      <th>3</th>\n",
       "      <td>Gwangju</td>\n",
       "      <td>2016-01-01</td>\n",
       "      <td>3.2</td>\n",
       "      <td>-1.5</td>\n",
       "      <td>8.1</td>\n",
       "      <td>0.0</td>\n",
       "      <td>2.7</td>\n",
       "      <td>73.1</td>\n",
       "    </tr>\n",
       "    <tr>\n",
       "      <th>4</th>\n",
       "      <td>Incheon</td>\n",
       "      <td>2016-01-01</td>\n",
       "      <td>3.1</td>\n",
       "      <td>-0.4</td>\n",
       "      <td>5.7</td>\n",
       "      <td>0.0</td>\n",
       "      <td>5.3</td>\n",
       "      <td>83.9</td>\n",
       "    </tr>\n",
       "  </tbody>\n",
       "</table>\n",
       "</div>"
      ],
      "text/plain": [
       "  Province        Date  Avg Temp  Min Temp  Max Temp  Precipitation  \\\n",
       "0    Seoul  2016-01-01       1.2      -3.3       4.0            0.0   \n",
       "1    Busan  2016-01-01       5.3       1.1      10.9            0.0   \n",
       "2    Daegu  2016-01-01       1.7      -4.0       8.0            0.0   \n",
       "3  Gwangju  2016-01-01       3.2      -1.5       8.1            0.0   \n",
       "4  Incheon  2016-01-01       3.1      -0.4       5.7            0.0   \n",
       "\n",
       "   Max Wind Speed  Avg Relative Humidity  \n",
       "0             3.5                   73.0  \n",
       "1             7.4                   52.1  \n",
       "2             3.7                   70.5  \n",
       "3             2.7                   73.1  \n",
       "4             5.3                   83.9  "
      ]
     },
     "execution_count": 57,
     "metadata": {},
     "output_type": "execute_result"
    }
   ],
   "source": [
    "weather.rename(\n",
    "    columns={\n",
    "        \"province\": \"Province\",\n",
    "        \"date\": \"Date\",\n",
    "        \"avg_temp\": \"Avg Temp\",\n",
    "        \"min_temp\": \"Min Temp\",\n",
    "        \"max_temp\": \"Max Temp\",\n",
    "        \"precipitation\": \"Precipitation\",\n",
    "        \"max_wind_speed\": \"Max Wind Speed\",\n",
    "        \"avg_relative_humidity\": \"Avg Relative Humidity\"  \n",
    "    },\n",
    "    inplace=True,\n",
    ")\n",
    "\n",
    "weather.head()"
   ]
  },
  {
   "cell_type": "markdown",
   "id": "geological-technology",
   "metadata": {},
   "source": [
    "# Descriptive Statistics"
   ]
  },
  {
   "cell_type": "markdown",
   "id": "laden-indie",
   "metadata": {},
   "source": [
    "# Exploratory Data Analysis (EDA)"
   ]
  },
  {
   "cell_type": "markdown",
   "id": "external-hollow",
   "metadata": {},
   "source": [
    "## Age"
   ]
  },
  {
   "cell_type": "code",
   "execution_count": null,
   "id": "toxic-community",
   "metadata": {},
   "outputs": [],
   "source": [
    "groupby_age = age[['Age', 'Confirmed', 'Deceased']].groupby(['Age']).sum()"
   ]
  },
  {
   "cell_type": "code",
   "execution_count": null,
   "id": "rough-identity",
   "metadata": {},
   "outputs": [],
   "source": [
    "groupby_age[\"Percentage\"] = (\n",
    "    groupby_age[\"Deceased\"] / groupby_age[\"Confirmed\"]\n",
    ") * 100\n",
    "groupby_age['Percentage'] = groupby_age['Percentage'].apply('{:,.2f}'.format).astype('float64')\n",
    "\n",
    "groupby_age.sort_values('Percentage', ascending = False)"
   ]
  },
  {
   "cell_type": "markdown",
   "id": "vietnamese-celtic",
   "metadata": {},
   "source": [
    "## Gender"
   ]
  },
  {
   "cell_type": "code",
   "execution_count": null,
   "id": "freelance-volleyball",
   "metadata": {},
   "outputs": [],
   "source": [
    "groupby_gender = gender[['Sex', 'Confirmed', 'Deceased']].groupby(['Sex']).sum()"
   ]
  },
  {
   "cell_type": "code",
   "execution_count": null,
   "id": "touched-equivalent",
   "metadata": {},
   "outputs": [],
   "source": [
    "groupby_gender[\"Percentage\"] = (\n",
    "    groupby_gender[\"Deceased\"] / groupby_gender[\"Confirmed\"]\n",
    ") * 100\n",
    "groupby_gender['Percentage'] = groupby_gender['Percentage'].apply('{:,.2f}'.format).astype('float64')\n",
    "groupby_gender.sort_values('Percentage', ascending = False)"
   ]
  },
  {
   "cell_type": "markdown",
   "id": "available-logan",
   "metadata": {},
   "source": [
    "## Province"
   ]
  },
  {
   "cell_type": "code",
   "execution_count": null,
   "id": "appropriate-collaboration",
   "metadata": {},
   "outputs": [],
   "source": [
    "groupby_province = province[['Province', 'Confirmed', 'Deceased']].groupby(['Province']).sum()"
   ]
  },
  {
   "cell_type": "code",
   "execution_count": null,
   "id": "alike-maximum",
   "metadata": {},
   "outputs": [],
   "source": [
    "groupby_province[\"Percentage\"] = (\n",
    "    groupby_province[\"Deceased\"] / groupby_province[\"Confirmed\"]\n",
    ") * 100\n",
    "groupby_province['Percentage'] = groupby_province['Percentage'].apply('{:,.2f}'.format).astype('float64')\n",
    "groupby_province.sort_values('Percentage', ascending = False)"
   ]
  },
  {
   "cell_type": "markdown",
   "id": "sacred-track",
   "metadata": {},
   "source": [
    "## Patient"
   ]
  },
  {
   "cell_type": "code",
   "execution_count": null,
   "id": "interim-dodge",
   "metadata": {
    "scrolled": false
   },
   "outputs": [],
   "source": [
    "pd.reset_option('display.max_rows')\n",
    "Total = patient['Location'].value_counts()\n",
    "Total"
   ]
  },
  {
   "cell_type": "markdown",
   "id": "adolescent-relations",
   "metadata": {},
   "source": [
    "## Case"
   ]
  },
  {
   "cell_type": "code",
   "execution_count": null,
   "id": "attached-chemistry",
   "metadata": {},
   "outputs": [],
   "source": [
    "case = case[\n",
    "    [\"Province\", \"City\", \"Location\", \"Confirmed\", \"Group\"]\n",
    "]\n",
    "pd.set_option(\"max_rows\", None)\n",
    "case.sort_values(['Confirmed', 'Location'], ascending=[False, False])\n"
   ]
  },
  {
   "cell_type": "markdown",
   "id": "found-router",
   "metadata": {},
   "source": [
    "## Population"
   ]
  },
  {
   "cell_type": "code",
   "execution_count": null,
   "id": "illegal-solomon",
   "metadata": {
    "scrolled": false
   },
   "outputs": [],
   "source": [
    "population = population[\n",
    "    [\"Province\", \"City\", \"Kindergarten\", \"Elementary\", \"University\", \"Nursing Home\", \"Academy\", \"Elderly\", \"Elderly Alone\"]\n",
    "]\n",
    "pd.set_option(\"max_rows\", None)\n",
    "# case.sort_values(['Confirmed', 'Location'], ascending=[False, False])\n",
    "population\n"
   ]
  },
  {
   "cell_type": "markdown",
   "id": "proper-battlefield",
   "metadata": {},
   "source": [
    "## Test"
   ]
  },
  {
   "cell_type": "markdown",
   "id": "resident-trout",
   "metadata": {},
   "source": [
    "## Weather"
   ]
  },
  {
   "cell_type": "markdown",
   "id": "technical-supervisor",
   "metadata": {},
   "source": [
    "# Conclusions"
   ]
  },
  {
   "cell_type": "markdown",
   "id": "ethical-authority",
   "metadata": {},
   "source": [
    "# Recommendations"
   ]
  },
  {
   "cell_type": "markdown",
   "id": "beginning-paintball",
   "metadata": {},
   "source": [
    "# Suggestions for Improvement"
   ]
  }
 ],
 "metadata": {
  "kernelspec": {
   "display_name": "Python 3",
   "language": "python",
   "name": "python3"
  },
  "language_info": {
   "codemirror_mode": {
    "name": "ipython",
    "version": 3
   },
   "file_extension": ".py",
   "mimetype": "text/x-python",
   "name": "python",
   "nbconvert_exporter": "python",
   "pygments_lexer": "ipython3",
   "version": "3.9.6"
  },
  "toc": {
   "base_numbering": 1,
   "nav_menu": {},
   "number_sections": true,
   "sideBar": true,
   "skip_h1_title": false,
   "title_cell": "Table of Contents",
   "title_sidebar": "Contents",
   "toc_cell": false,
   "toc_position": {},
   "toc_section_display": true,
   "toc_window_display": false
  }
 },
 "nbformat": 4,
 "nbformat_minor": 5
}
