{
 "cells": [
  {
   "cell_type": "markdown",
   "id": "basic-folder",
   "metadata": {},
   "source": [
    "# 04GenderCOVID19"
   ]
  },
  {
   "cell_type": "markdown",
   "id": "every-inspiration",
   "metadata": {},
   "source": [
    "# Libraries"
   ]
  },
  {
   "cell_type": "code",
   "execution_count": null,
   "id": "developing-fiction",
   "metadata": {},
   "outputs": [],
   "source": [
    "%matplotlib inline\n",
    "\n",
    "import pandas as pd\n",
    "import numpy as np\n",
    "import seaborn as sns\n",
    "import matplotlib.pyplot as plt\n",
    "import plotly.express as px\n",
    "import warnings\n",
    "from IPython.display import display\n",
    "\n",
    "sns.set_palette(\"pastel\")"
   ]
  },
  {
   "cell_type": "markdown",
   "id": "specified-working",
   "metadata": {},
   "source": [
    "# Loading Data"
   ]
  },
  {
   "cell_type": "code",
   "execution_count": null,
   "id": "suspended-violence",
   "metadata": {},
   "outputs": [],
   "source": [
    "gender = pd.read_csv(\n",
    "    \"C:\\py\\Projects\\TuringCollege\\COVID19\\DataSets\\gender.csv\",\n",
    "    index_col=False,\n",
    "    skipinitialspace=True,\n",
    ")"
   ]
  },
  {
   "cell_type": "markdown",
   "id": "regulated-relief",
   "metadata": {},
   "source": [
    "# Size"
   ]
  },
  {
   "cell_type": "code",
   "execution_count": null,
   "id": "secondary-affiliate",
   "metadata": {
    "scrolled": true
   },
   "outputs": [],
   "source": [
    "gender.shape"
   ]
  },
  {
   "cell_type": "markdown",
   "id": "blank-phoenix",
   "metadata": {},
   "source": [
    "# Missing Data"
   ]
  },
  {
   "cell_type": "code",
   "execution_count": null,
   "id": "everyday-economy",
   "metadata": {
    "scrolled": true
   },
   "outputs": [],
   "source": [
    "gender.isna().sum()"
   ]
  },
  {
   "cell_type": "markdown",
   "id": "assumed-sculpture",
   "metadata": {},
   "source": [
    "# Delete Unneeded Columns"
   ]
  },
  {
   "cell_type": "code",
   "execution_count": null,
   "id": "dangerous-rating",
   "metadata": {},
   "outputs": [],
   "source": [
    "gender = gender.drop([\"time\"], axis=1)"
   ]
  },
  {
   "cell_type": "markdown",
   "id": "defensive-express",
   "metadata": {},
   "source": [
    "## Rename Columns"
   ]
  },
  {
   "cell_type": "code",
   "execution_count": null,
   "id": "miniature-minimum",
   "metadata": {},
   "outputs": [],
   "source": [
    "gender.rename(\n",
    "    columns={\n",
    "        \"date\": \"Date\",\n",
    "        \"sex\": \"Gender\",\n",
    "        \"confirmed\": \"Confirmed\",\n",
    "        \"deceased\": \"Deceased\",\n",
    "    },\n",
    "    inplace=True,\n",
    ")"
   ]
  },
  {
   "cell_type": "markdown",
   "id": "described-contemporary",
   "metadata": {},
   "source": [
    "## Rename Column Values"
   ]
  },
  {
   "cell_type": "code",
   "execution_count": null,
   "id": "magnetic-legislature",
   "metadata": {},
   "outputs": [],
   "source": [
    "gender.replace('male', 'Male', inplace = True)\n",
    "gender.replace('female', 'Female', inplace = True)"
   ]
  },
  {
   "cell_type": "markdown",
   "id": "rough-specific",
   "metadata": {},
   "source": [
    "# Dataset"
   ]
  },
  {
   "cell_type": "code",
   "execution_count": null,
   "id": "sweet-cambridge",
   "metadata": {},
   "outputs": [],
   "source": [
    "gender.head()"
   ]
  },
  {
   "cell_type": "markdown",
   "id": "ideal-quality",
   "metadata": {},
   "source": [
    "# Percentage of Confirmed for each Gender"
   ]
  },
  {
   "cell_type": "code",
   "execution_count": null,
   "id": "afraid-penny",
   "metadata": {},
   "outputs": [],
   "source": [
    "confirmed = gender[['Gender', 'Confirmed']].groupby(['Gender']).max().sort_values('Confirmed', ascending=False)\n",
    "confirmed = confirmed.reset_index()"
   ]
  },
  {
   "cell_type": "code",
   "execution_count": null,
   "id": "severe-bedroom",
   "metadata": {},
   "outputs": [],
   "source": [
    "plt.figure(figsize=(8, 8))\n",
    "\n",
    "plt.title(\"Confirmed According to Gender\", fontsize=18, y=1)\n",
    "\n",
    "sns.set_context(\"paper\", font_scale=2.0)\n",
    "\n",
    "ord_color = \"bisque\"\n",
    "spec_lev1 = \"red\"\n",
    "\n",
    "data = [confirmed.loc[0, 'Confirmed'], confirmed.loc[1, 'Confirmed']]\n",
    "labels = ['Female', 'Male']\n",
    "colors = [spec_lev1, ord_color]\n",
    "\n",
    "plt.pie(data, labels=labels,colors = colors, autopct = '%0.0f%%');"
   ]
  },
  {
   "cell_type": "markdown",
   "id": "taken-malawi",
   "metadata": {},
   "source": [
    "# Percentage of Deceased for each Gender"
   ]
  },
  {
   "cell_type": "code",
   "execution_count": null,
   "id": "neural-piece",
   "metadata": {},
   "outputs": [],
   "source": [
    "deceased = gender[['Gender', 'Deceased']].groupby(['Gender']).max().sort_values('Deceased', ascending=True)\n",
    "deceased = deceased.reset_index()"
   ]
  },
  {
   "cell_type": "code",
   "execution_count": null,
   "id": "finnish-architect",
   "metadata": {},
   "outputs": [],
   "source": [
    "plt.figure(figsize=(8, 8))\n",
    "\n",
    "plt.title(\"Deceased According to Gender\", fontsize=18, y=1)\n",
    "\n",
    "sns.set_context(\"paper\", font_scale=2.0)\n",
    "\n",
    "ord_color = \"bisque\"\n",
    "spec_lev1 = \"red\"\n",
    "\n",
    "data = [deceased.loc[0, 'Deceased'], deceased.loc[1, 'Deceased']]\n",
    "labels = ['Female', 'Male']\n",
    "colors = [ord_color, spec_lev1]\n",
    "\n",
    "plt.pie(data, labels=labels,colors = colors, autopct = '%0.0f%%');"
   ]
  },
  {
   "cell_type": "markdown",
   "id": "starting-wednesday",
   "metadata": {},
   "source": [
    "# Pie Charts"
   ]
  },
  {
   "cell_type": "code",
   "execution_count": null,
   "id": "plastic-mambo",
   "metadata": {},
   "outputs": [],
   "source": [
    "fig, (ax3, ax1, ax2) = plt.subplots(nrows=1, ncols=2, figsize=(7,20))"
   ]
  }
 ],
 "metadata": {
  "kernelspec": {
   "display_name": "Python 3",
   "language": "python",
   "name": "python3"
  },
  "language_info": {
   "codemirror_mode": {
    "name": "ipython",
    "version": 3
   },
   "file_extension": ".py",
   "mimetype": "text/x-python",
   "name": "python",
   "nbconvert_exporter": "python",
   "pygments_lexer": "ipython3",
   "version": "3.9.6"
  },
  "toc": {
   "base_numbering": 1,
   "nav_menu": {},
   "number_sections": true,
   "sideBar": true,
   "skip_h1_title": false,
   "title_cell": "Table of Contents",
   "title_sidebar": "Contents",
   "toc_cell": false,
   "toc_position": {},
   "toc_section_display": true,
   "toc_window_display": false
  }
 },
 "nbformat": 4,
 "nbformat_minor": 5
}
