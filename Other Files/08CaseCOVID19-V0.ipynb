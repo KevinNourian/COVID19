{
 "cells": [
  {
   "cell_type": "markdown",
   "id": "boring-mathematics",
   "metadata": {},
   "source": [
    "# 08CaseCOVID19"
   ]
  },
  {
   "cell_type": "markdown",
   "id": "every-inspiration",
   "metadata": {},
   "source": [
    "# Libraries"
   ]
  },
  {
   "cell_type": "code",
   "execution_count": 1,
   "id": "developing-fiction",
   "metadata": {},
   "outputs": [],
   "source": [
    "%matplotlib inline\n",
    "\n",
    "import pandas as pd\n",
    "import numpy as np\n",
    "import seaborn as sns\n",
    "import matplotlib.pyplot as plt\n",
    "import warnings\n",
    "from IPython.display import display"
   ]
  },
  {
   "cell_type": "markdown",
   "id": "specified-working",
   "metadata": {},
   "source": [
    "# Loading Data"
   ]
  },
  {
   "cell_type": "code",
   "execution_count": 2,
   "id": "incident-austin",
   "metadata": {},
   "outputs": [],
   "source": [
    "case = pd.read_csv(\n",
    "    \"C:\\py\\Projects\\TuringCollege\\COVID19\\DataSets\\\\case.csv\",\n",
    "    index_col=False,\n",
    "    skipinitialspace=True,\n",
    ")"
   ]
  },
  {
   "cell_type": "markdown",
   "id": "ceramic-opening",
   "metadata": {},
   "source": [
    "# Display Data"
   ]
  },
  {
   "cell_type": "code",
   "execution_count": 3,
   "id": "loving-athletics",
   "metadata": {},
   "outputs": [],
   "source": [
    "pd.set_option(\"max_rows\", None)"
   ]
  },
  {
   "cell_type": "markdown",
   "id": "visible-motel",
   "metadata": {},
   "source": [
    "# Size"
   ]
  },
  {
   "cell_type": "code",
   "execution_count": 4,
   "id": "ongoing-courtesy",
   "metadata": {
    "scrolled": true
   },
   "outputs": [
    {
     "data": {
      "text/plain": [
       "(174, 8)"
      ]
     },
     "execution_count": 4,
     "metadata": {},
     "output_type": "execute_result"
    }
   ],
   "source": [
    "case.shape"
   ]
  },
  {
   "cell_type": "markdown",
   "id": "behind-wagon",
   "metadata": {},
   "source": [
    "# Missing Data"
   ]
  },
  {
   "cell_type": "code",
   "execution_count": 5,
   "id": "cosmetic-updating",
   "metadata": {
    "scrolled": true
   },
   "outputs": [
    {
     "data": {
      "text/plain": [
       "case_id           0\n",
       "province          0\n",
       "city              0\n",
       "group             0\n",
       "infection_case    0\n",
       "confirmed         0\n",
       "latitude          0\n",
       "longitude         0\n",
       "dtype: int64"
      ]
     },
     "execution_count": 5,
     "metadata": {},
     "output_type": "execute_result"
    }
   ],
   "source": [
    "case.isna().sum()"
   ]
  },
  {
   "cell_type": "markdown",
   "id": "forced-ministry",
   "metadata": {},
   "source": [
    "# Delete Unneeded Columns"
   ]
  },
  {
   "cell_type": "code",
   "execution_count": 6,
   "id": "selective-mirror",
   "metadata": {},
   "outputs": [],
   "source": [
    "case = case.drop([\"case_id\", \"city\", \"group\", \"latitude\", \"longitude\"], axis=1)"
   ]
  },
  {
   "cell_type": "markdown",
   "id": "eastern-nigeria",
   "metadata": {},
   "source": [
    "# Delete Unneeded Row"
   ]
  },
  {
   "cell_type": "code",
   "execution_count": 7,
   "id": "prescription-attraction",
   "metadata": {},
   "outputs": [],
   "source": [
    "case = case[case.infection_case != 'etc']"
   ]
  },
  {
   "cell_type": "markdown",
   "id": "green-arrangement",
   "metadata": {},
   "source": [
    "# Rename Columns"
   ]
  },
  {
   "cell_type": "code",
   "execution_count": 8,
   "id": "turkish-rental",
   "metadata": {},
   "outputs": [],
   "source": [
    "case.rename(\n",
    "    columns={\n",
    "        \"province\": \"Province\",\n",
    "        \"infection_case\": \"Infection Reason\",\n",
    "        \"confirmed\": \"Confirmed\",\n",
    "    },\n",
    "    inplace=True,\n",
    ")"
   ]
  },
  {
   "cell_type": "markdown",
   "id": "noted-auction",
   "metadata": {},
   "source": [
    "# Rename Column Values"
   ]
  },
  {
   "cell_type": "code",
   "execution_count": 9,
   "id": "irish-focus",
   "metadata": {},
   "outputs": [],
   "source": [
    "case.replace('contact with patient', 'Contact with Patient', inplace=True)\n",
    "case.replace('overseas inflow', 'Overseas Inflow', inplace=True)\n",
    "case.replace('gym facility in Cheonan', 'Gym Facility in Cheonan', inplace=True)\n",
    "case.replace('Door-to-door sales in Daejeon', 'Door-to-Door Sales in Daejeon', inplace=True)\n",
    "case.replace('gym facility in Cheonan', 'Gym Facility in Cheonan', inplace=True)\n",
    "case.replace('Geumcheon-gu rice milling machine manufacture', 'Geumcheon-gu Rice Milling Machine Manufacture', inplace=True)\n",
    "case.replace('Lotte Confectionery logistics center', 'Lotte Confectionery Logistics Center', inplace=True)\n",
    "case.replace('gym facility in Sejong', 'Gym Facility in Sejong', inplace=True)\n",
    "case.replace('Seoul City Hall Station safety worker', 'Seoul City Hall Station Safety Worker', inplace=True)\n",
    "case.replace('Gangnam Yeoksam-dong gathering', 'Gangnam Yeoksam-dong Gathering', inplace=True)\n",
    "case.replace('Seongnam neighbors gathering', 'Seongnam neighbors Gathering', inplace=True)\n",
    "case.replace('Eunpyeong-Boksagol culture center', 'Eunpyeong-Boksagol Culture Center', inplace=True)\n",
    "case.replace('Biblical Language study meeting', 'Biblical Language Study Meeting', inplace=True)\n",
    "case.replace('Daejeon door-to-door sales', 'Daejeon Door-to-Door Sales', inplace=True)"
   ]
  },
  {
   "cell_type": "markdown",
   "id": "first-metadata",
   "metadata": {},
   "source": [
    "# Dataset"
   ]
  },
  {
   "cell_type": "code",
   "execution_count": 10,
   "id": "communist-tongue",
   "metadata": {},
   "outputs": [],
   "source": [
    "pd.set_option(\"max_rows\", None)"
   ]
  },
  {
   "cell_type": "code",
   "execution_count": 11,
   "id": "pacific-formula",
   "metadata": {},
   "outputs": [
    {
     "data": {
      "text/html": [
       "<div>\n",
       "<style scoped>\n",
       "    .dataframe tbody tr th:only-of-type {\n",
       "        vertical-align: middle;\n",
       "    }\n",
       "\n",
       "    .dataframe tbody tr th {\n",
       "        vertical-align: top;\n",
       "    }\n",
       "\n",
       "    .dataframe thead th {\n",
       "        text-align: right;\n",
       "    }\n",
       "</style>\n",
       "<table border=\"1\" class=\"dataframe\">\n",
       "  <thead>\n",
       "    <tr style=\"text-align: right;\">\n",
       "      <th></th>\n",
       "      <th>Province</th>\n",
       "      <th>Infection Reason</th>\n",
       "      <th>Confirmed</th>\n",
       "    </tr>\n",
       "  </thead>\n",
       "  <tbody>\n",
       "    <tr>\n",
       "      <th>0</th>\n",
       "      <td>Seoul</td>\n",
       "      <td>Itaewon Clubs</td>\n",
       "      <td>139</td>\n",
       "    </tr>\n",
       "    <tr>\n",
       "      <th>1</th>\n",
       "      <td>Seoul</td>\n",
       "      <td>Richway</td>\n",
       "      <td>119</td>\n",
       "    </tr>\n",
       "    <tr>\n",
       "      <th>2</th>\n",
       "      <td>Seoul</td>\n",
       "      <td>Guro-gu Call Center</td>\n",
       "      <td>95</td>\n",
       "    </tr>\n",
       "    <tr>\n",
       "      <th>3</th>\n",
       "      <td>Seoul</td>\n",
       "      <td>Yangcheon Table Tennis Club</td>\n",
       "      <td>43</td>\n",
       "    </tr>\n",
       "    <tr>\n",
       "      <th>4</th>\n",
       "      <td>Seoul</td>\n",
       "      <td>Day Care Center</td>\n",
       "      <td>43</td>\n",
       "    </tr>\n",
       "  </tbody>\n",
       "</table>\n",
       "</div>"
      ],
      "text/plain": [
       "  Province             Infection Reason  Confirmed\n",
       "0    Seoul                Itaewon Clubs        139\n",
       "1    Seoul                      Richway        119\n",
       "2    Seoul          Guro-gu Call Center         95\n",
       "3    Seoul  Yangcheon Table Tennis Club         43\n",
       "4    Seoul              Day Care Center         43"
      ]
     },
     "execution_count": 11,
     "metadata": {},
     "output_type": "execute_result"
    }
   ],
   "source": [
    "case.head()"
   ]
  },
  {
   "cell_type": "markdown",
   "id": "heard-contract",
   "metadata": {},
   "source": [
    "# Total Cases"
   ]
  },
  {
   "cell_type": "code",
   "execution_count": 12,
   "id": "professional-colors",
   "metadata": {},
   "outputs": [],
   "source": [
    "pivot_infection = pd.pivot_table(\n",
    "    data=case, index=[\"Infection Reason\"], values=\"Confirmed\", aggfunc = 'sum').sort_values('Confirmed', ascending = False)"
   ]
  },
  {
   "cell_type": "code",
   "execution_count": 13,
   "id": "arctic-blues",
   "metadata": {},
   "outputs": [],
   "source": [
    "total = pivot_infection['Confirmed'].sum()"
   ]
  },
  {
   "cell_type": "markdown",
   "id": "substantial-stone",
   "metadata": {},
   "source": [
    "# Shincheonji Church"
   ]
  },
  {
   "cell_type": "code",
   "execution_count": 14,
   "id": "excited-flower",
   "metadata": {},
   "outputs": [],
   "source": [
    "shincheonji_church = pivot_infection.loc['Shincheonji Church']\n",
    "shincheonji_church = shincheonji_church['Confirmed']"
   ]
  },
  {
   "cell_type": "code",
   "execution_count": 15,
   "id": "psychological-projector",
   "metadata": {},
   "outputs": [],
   "source": [
    "other_overall = total - shincheonji_church "
   ]
  },
  {
   "cell_type": "code",
   "execution_count": 45,
   "id": "iraqi-console",
   "metadata": {},
   "outputs": [],
   "source": [
    "# plt.figure(figsize=(8, 8))\n",
    "sns.set_context(\"paper\", font_scale=2.0)\n",
    "ord_color = \"bisque\"\n",
    "spec_lev1 = \"red\"\n",
    "\n",
    "# plt.title(\"Confirmed Cases in South Korea\", fontsize=18, y=1)\n",
    "\n",
    "data = [shincheonji_church, other_overall]\n",
    "labels = ['Shincheonji Church', 'Other Infection Reasons']\n",
    "colors = [spec_lev1, ord_color]"
   ]
  },
  {
   "cell_type": "markdown",
   "id": "caring-import",
   "metadata": {},
   "source": [
    "# Shincheonji Church Confirmed Cases in Daegu Province"
   ]
  },
  {
   "cell_type": "code",
   "execution_count": 46,
   "id": "individual-communications",
   "metadata": {},
   "outputs": [],
   "source": [
    "pivot_province = pd.pivot_table(\n",
    "    data=case, index=[\"Province\"], values=\"Confirmed\", aggfunc = 'sum').sort_values('Confirmed', ascending = False)"
   ]
  },
  {
   "cell_type": "code",
   "execution_count": 47,
   "id": "fabulous-indonesia",
   "metadata": {},
   "outputs": [],
   "source": [
    "daegu = pivot_province.loc['Daegu']\n",
    "daegu = daegu ['Confirmed']"
   ]
  },
  {
   "cell_type": "code",
   "execution_count": 48,
   "id": "dressed-given",
   "metadata": {},
   "outputs": [],
   "source": [
    "shincheonji_church_daegu = case.loc[\n",
    "    (case[\"Province\"] == \"Daegu\") & (case[\"Infection Reason\"] == \"Shincheonji Church\")\n",
    "]\n",
    "\n",
    "shincheonji_church_daegu = shincheonji_church_daegu.set_index('Infection Reason')\n",
    "shincheonji_church_daegu = shincheonji_church_daegu.loc['Shincheonji Church']\n",
    "shincheonji_church_daegu = shincheonji_church_daegu['Confirmed']"
   ]
  },
  {
   "cell_type": "code",
   "execution_count": 49,
   "id": "asian-radiation",
   "metadata": {},
   "outputs": [],
   "source": [
    "other_daegu = daegu - shincheonji_church_daegu"
   ]
  },
  {
   "cell_type": "code",
   "execution_count": 50,
   "id": "fuzzy-orange",
   "metadata": {},
   "outputs": [
    {
     "data": {
      "image/png": "[encoded data removed]",
      "text/plain": [
       "<Figure size 576x576 with 1 Axes>"
      ]
     },
     "metadata": {},
     "output_type": "display_data"
    }
   ],
   "source": [
    "plt.figure(figsize=(8, 8))\n",
    "\n",
    "plt.title(\"Confirmed Cases in Daegu Province\", fontsize=18, y=1)\n",
    "\n",
    "sns.set_context(\"paper\", font_scale=2.0)\n",
    "\n",
    "ord_color = \"bisque\"\n",
    "spec_lev1 = \"red\"\n",
    "\n",
    "data = [shincheonji_church_daegu, other_daegu]\n",
    "labels = ['Shincheonji Church', 'Other Infection Reasons']\n",
    "colors = [spec_lev1, ord_color]\n",
    "\n",
    "plt.pie(data, labels=labels,colors = colors, autopct = '%0.0f%%');"
   ]
  },
  {
   "cell_type": "markdown",
   "id": "lonely-chocolate",
   "metadata": {},
   "source": [
    "# Daegu Confirmed Cases"
   ]
  },
  {
   "cell_type": "code",
   "execution_count": 51,
   "id": "radical-prague",
   "metadata": {},
   "outputs": [],
   "source": [
    "pivot_province = pd.pivot_table(\n",
    "    data=case, index=[\"Province\"], values=\"Confirmed\", aggfunc = 'sum').sort_values('Confirmed', ascending = False)"
   ]
  },
  {
   "cell_type": "code",
   "execution_count": 52,
   "id": "overall-boundary",
   "metadata": {},
   "outputs": [
    {
     "data": {
      "text/plain": [
       "5933"
      ]
     },
     "execution_count": 52,
     "metadata": {},
     "output_type": "execute_result"
    }
   ],
   "source": [
    "daegu = pivot_province.loc['Daegu']\n",
    "daegu = daegu ['Confirmed']\n",
    "daegu"
   ]
  },
  {
   "cell_type": "code",
   "execution_count": 53,
   "id": "cultural-trader",
   "metadata": {},
   "outputs": [
    {
     "data": {
      "text/plain": [
       "4270"
      ]
     },
     "execution_count": 53,
     "metadata": {},
     "output_type": "execute_result"
    }
   ],
   "source": [
    "other_provinces = total - daegu\n",
    "other_provinces"
   ]
  },
  {
   "cell_type": "code",
   "execution_count": 54,
   "id": "educational-possible",
   "metadata": {},
   "outputs": [
    {
     "data": {
      "image/png": "[encoded data removed]",
      "text/plain": [
       "<Figure size 576x576 with 1 Axes>"
      ]
     },
     "metadata": {},
     "output_type": "display_data"
    }
   ],
   "source": [
    "plt.figure(figsize=(8, 8))\n",
    "\n",
    "plt.title(\"Confirmed Cases in Daegu and Other Provinces\", fontsize=18, y=1)\n",
    "\n",
    "sns.set_context(\"paper\", font_scale=2.0)\n",
    "\n",
    "ord_color = \"bisque\"\n",
    "spec_lev1 = \"red\"\n",
    "\n",
    "data = [daegu, other_provinces]\n",
    "labels = ['Daegu', 'Other Provinces']\n",
    "colors = [spec_lev1, ord_color]\n",
    "\n",
    "plt.pie(data, labels=labels,colors = colors, autopct = '%0.0f%%');"
   ]
  },
  {
   "cell_type": "code",
   "execution_count": 55,
   "id": "ethical-vision",
   "metadata": {},
   "outputs": [
    {
     "data": {
      "image/png": "[encoded data removed]",
      "text/plain": [
       "<Figure size 576x576 with 1 Axes>"
      ]
     },
     "metadata": {},
     "output_type": "display_data"
    }
   ],
   "source": [
    "plt.figure(figsize=(8, 8))\n",
    "plt.title(\"Confirmed Cases in South Korea\", fontsize=18, y=1)\n",
    "\n",
    "fig_1 = plt.pie(data, labels=labels,colors = colors, autopct = '%0.0f%%');"
   ]
  },
  {
   "cell_type": "code",
   "execution_count": null,
   "id": "floating-robinson",
   "metadata": {},
   "outputs": [],
   "source": []
  },
  {
   "cell_type": "code",
   "execution_count": null,
   "id": "italic-management",
   "metadata": {},
   "outputs": [],
   "source": []
  }
 ],
 "metadata": {
  "kernelspec": {
   "display_name": "Python 3",
   "language": "python",
   "name": "python3"
  },
  "language_info": {
   "codemirror_mode": {
    "name": "ipython",
    "version": 3
   },
   "file_extension": ".py",
   "mimetype": "text/x-python",
   "name": "python",
   "nbconvert_exporter": "python",
   "pygments_lexer": "ipython3",
   "version": "3.9.6"
  },
  "toc": {
   "base_numbering": 1,
   "nav_menu": {},
   "number_sections": true,
   "sideBar": true,
   "skip_h1_title": false,
   "title_cell": "Table of Contents",
   "title_sidebar": "Contents",
   "toc_cell": false,
   "toc_position": {},
   "toc_section_display": true,
   "toc_window_display": false
  }
 },
 "nbformat": 4,
 "nbformat_minor": 5
}
