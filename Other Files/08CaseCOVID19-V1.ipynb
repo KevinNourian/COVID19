{
 "cells": [
  {
   "cell_type": "markdown",
   "id": "boring-mathematics",
   "metadata": {},
   "source": [
    "# 08CaseCOVID19"
   ]
  },
  {
   "cell_type": "markdown",
   "id": "every-inspiration",
   "metadata": {},
   "source": [
    "# Libraries"
   ]
  },
  {
   "cell_type": "code",
   "execution_count": 1,
   "id": "developing-fiction",
   "metadata": {},
   "outputs": [],
   "source": [
    "%matplotlib inline\n",
    "%reload_ext autoreload\n",
    "%autoreload 2\n",
    "\n",
    "import pandas as pd\n",
    "import numpy as np\n",
    "import seaborn as sns\n",
    "import matplotlib.pyplot as plt\n",
    "import warnings\n",
    "from IPython.display import display\n",
    "\n",
    "\n",
    "\n",
    "sns.set_palette(\"pastel\")"
   ]
  },
  {
   "cell_type": "markdown",
   "id": "specified-working",
   "metadata": {},
   "source": [
    "# Loading Data"
   ]
  },
  {
   "cell_type": "code",
   "execution_count": 2,
   "id": "incident-austin",
   "metadata": {},
   "outputs": [],
   "source": [
    "case = pd.read_csv(\n",
    "    \"C:\\py\\Projects\\TuringCollege\\COVID19\\DataSets\\\\case.csv\",\n",
    "    index_col=False,\n",
    "    skipinitialspace=True,\n",
    ")"
   ]
  },
  {
   "cell_type": "markdown",
   "id": "ceramic-opening",
   "metadata": {},
   "source": [
    "# Display Data"
   ]
  },
  {
   "cell_type": "code",
   "execution_count": 3,
   "id": "loving-athletics",
   "metadata": {},
   "outputs": [],
   "source": [
    "pd.set_option(\"max_rows\", None)"
   ]
  },
  {
   "cell_type": "markdown",
   "id": "visible-motel",
   "metadata": {},
   "source": [
    "# Size"
   ]
  },
  {
   "cell_type": "code",
   "execution_count": 4,
   "id": "ongoing-courtesy",
   "metadata": {
    "scrolled": true
   },
   "outputs": [
    {
     "data": {
      "text/plain": [
       "(174, 8)"
      ]
     },
     "execution_count": 4,
     "metadata": {},
     "output_type": "execute_result"
    }
   ],
   "source": [
    "case.shape"
   ]
  },
  {
   "cell_type": "markdown",
   "id": "behind-wagon",
   "metadata": {},
   "source": [
    "# Missing Data"
   ]
  },
  {
   "cell_type": "code",
   "execution_count": 5,
   "id": "cosmetic-updating",
   "metadata": {
    "scrolled": true
   },
   "outputs": [
    {
     "data": {
      "text/plain": [
       "case_id           0\n",
       "province          0\n",
       "city              0\n",
       "group             0\n",
       "infection_case    0\n",
       "confirmed         0\n",
       "latitude          0\n",
       "longitude         0\n",
       "dtype: int64"
      ]
     },
     "execution_count": 5,
     "metadata": {},
     "output_type": "execute_result"
    }
   ],
   "source": [
    "case.isna().sum()"
   ]
  },
  {
   "cell_type": "markdown",
   "id": "forced-ministry",
   "metadata": {},
   "source": [
    "# Delete Unneeded Columns"
   ]
  },
  {
   "cell_type": "code",
   "execution_count": 6,
   "id": "selective-mirror",
   "metadata": {},
   "outputs": [],
   "source": [
    "case = case.drop([\"case_id\", \"city\", \"group\", \"latitude\", \"longitude\"], axis=1)"
   ]
  },
  {
   "cell_type": "markdown",
   "id": "eastern-nigeria",
   "metadata": {},
   "source": [
    "# Delete Unneeded Row"
   ]
  },
  {
   "cell_type": "code",
   "execution_count": 7,
   "id": "prescription-attraction",
   "metadata": {},
   "outputs": [],
   "source": [
    "case = case[case.infection_case != 'etc']"
   ]
  },
  {
   "cell_type": "markdown",
   "id": "green-arrangement",
   "metadata": {},
   "source": [
    "# Rename Columns"
   ]
  },
  {
   "cell_type": "code",
   "execution_count": 8,
   "id": "turkish-rental",
   "metadata": {},
   "outputs": [],
   "source": [
    "case.rename(\n",
    "    columns={\n",
    "        \"province\": \"Province\",\n",
    "        \"infection_case\": \"Infection Reason\",\n",
    "        \"confirmed\": \"Confirmed\",\n",
    "    },\n",
    "    inplace=True,\n",
    ")"
   ]
  },
  {
   "cell_type": "markdown",
   "id": "noted-auction",
   "metadata": {},
   "source": [
    "# Rename Column Values"
   ]
  },
  {
   "cell_type": "code",
   "execution_count": 9,
   "id": "irish-focus",
   "metadata": {},
   "outputs": [],
   "source": [
    "case.replace('contact with patient', 'Contact with Patient', inplace=True)\n",
    "case.replace('overseas inflow', 'Overseas Inflow', inplace=True)\n",
    "case.replace('gym facility in Cheonan', 'Gym Facility in Cheonan', inplace=True)\n",
    "case.replace('Door-to-door sales in Daejeon', 'Door-to-Door Sales in Daejeon', inplace=True)\n",
    "case.replace('gym facility in Cheonan', 'Gym Facility in Cheonan', inplace=True)\n",
    "case.replace('Geumcheon-gu rice milling machine manufacture', 'Geumcheon-gu Rice Milling Machine Manufacture', inplace=True)\n",
    "case.replace('Lotte Confectionery logistics center', 'Lotte Confectionery Logistics Center', inplace=True)\n",
    "case.replace('gym facility in Sejong', 'Gym Facility in Sejong', inplace=True)\n",
    "case.replace('Seoul City Hall Station safety worker', 'Seoul City Hall Station Safety Worker', inplace=True)\n",
    "case.replace('Gangnam Yeoksam-dong gathering', 'Gangnam Yeoksam-dong Gathering', inplace=True)\n",
    "case.replace('Seongnam neighbors gathering', 'Seongnam neighbors Gathering', inplace=True)\n",
    "case.replace('Eunpyeong-Boksagol culture center', 'Eunpyeong-Boksagol Culture Center', inplace=True)\n",
    "case.replace('Biblical Language study meeting', 'Biblical Language Study Meeting', inplace=True)\n",
    "case.replace('Daejeon door-to-door sales', 'Daejeon Door-to-Door Sales', inplace=True)"
   ]
  },
  {
   "cell_type": "markdown",
   "id": "first-metadata",
   "metadata": {},
   "source": [
    "# Dataset"
   ]
  },
  {
   "cell_type": "code",
   "execution_count": 10,
   "id": "communist-tongue",
   "metadata": {},
   "outputs": [],
   "source": [
    "pd.set_option(\"max_rows\", None)"
   ]
  },
  {
   "cell_type": "code",
   "execution_count": 11,
   "id": "pacific-formula",
   "metadata": {},
   "outputs": [
    {
     "data": {
      "text/html": [
       "<div>\n",
       "<style scoped>\n",
       "    .dataframe tbody tr th:only-of-type {\n",
       "        vertical-align: middle;\n",
       "    }\n",
       "\n",
       "    .dataframe tbody tr th {\n",
       "        vertical-align: top;\n",
       "    }\n",
       "\n",
       "    .dataframe thead th {\n",
       "        text-align: right;\n",
       "    }\n",
       "</style>\n",
       "<table border=\"1\" class=\"dataframe\">\n",
       "  <thead>\n",
       "    <tr style=\"text-align: right;\">\n",
       "      <th></th>\n",
       "      <th>Province</th>\n",
       "      <th>Infection Reason</th>\n",
       "      <th>Confirmed</th>\n",
       "    </tr>\n",
       "  </thead>\n",
       "  <tbody>\n",
       "    <tr>\n",
       "      <th>0</th>\n",
       "      <td>Seoul</td>\n",
       "      <td>Itaewon Clubs</td>\n",
       "      <td>139</td>\n",
       "    </tr>\n",
       "    <tr>\n",
       "      <th>1</th>\n",
       "      <td>Seoul</td>\n",
       "      <td>Richway</td>\n",
       "      <td>119</td>\n",
       "    </tr>\n",
       "    <tr>\n",
       "      <th>2</th>\n",
       "      <td>Seoul</td>\n",
       "      <td>Guro-gu Call Center</td>\n",
       "      <td>95</td>\n",
       "    </tr>\n",
       "    <tr>\n",
       "      <th>3</th>\n",
       "      <td>Seoul</td>\n",
       "      <td>Yangcheon Table Tennis Club</td>\n",
       "      <td>43</td>\n",
       "    </tr>\n",
       "    <tr>\n",
       "      <th>4</th>\n",
       "      <td>Seoul</td>\n",
       "      <td>Day Care Center</td>\n",
       "      <td>43</td>\n",
       "    </tr>\n",
       "  </tbody>\n",
       "</table>\n",
       "</div>"
      ],
      "text/plain": [
       "  Province             Infection Reason  Confirmed\n",
       "0    Seoul                Itaewon Clubs        139\n",
       "1    Seoul                      Richway        119\n",
       "2    Seoul          Guro-gu Call Center         95\n",
       "3    Seoul  Yangcheon Table Tennis Club         43\n",
       "4    Seoul              Day Care Center         43"
      ]
     },
     "execution_count": 11,
     "metadata": {},
     "output_type": "execute_result"
    }
   ],
   "source": [
    "case.head()"
   ]
  },
  {
   "cell_type": "markdown",
   "id": "heard-contract",
   "metadata": {},
   "source": [
    "# Total Cases"
   ]
  },
  {
   "cell_type": "code",
   "execution_count": 19,
   "id": "professional-colors",
   "metadata": {},
   "outputs": [
    {
     "data": {
      "text/html": [
       "<div>\n",
       "<style scoped>\n",
       "    .dataframe tbody tr th:only-of-type {\n",
       "        vertical-align: middle;\n",
       "    }\n",
       "\n",
       "    .dataframe tbody tr th {\n",
       "        vertical-align: top;\n",
       "    }\n",
       "\n",
       "    .dataframe thead th {\n",
       "        text-align: right;\n",
       "    }\n",
       "</style>\n",
       "<table border=\"1\" class=\"dataframe\">\n",
       "  <thead>\n",
       "    <tr style=\"text-align: right;\">\n",
       "      <th></th>\n",
       "      <th>Confirmed</th>\n",
       "    </tr>\n",
       "    <tr>\n",
       "      <th>Infection Reason</th>\n",
       "      <th></th>\n",
       "    </tr>\n",
       "  </thead>\n",
       "  <tbody>\n",
       "    <tr>\n",
       "      <th>Shincheonji Church</th>\n",
       "      <td>5213</td>\n",
       "    </tr>\n",
       "    <tr>\n",
       "      <th>Contact with Patient</th>\n",
       "      <td>1403</td>\n",
       "    </tr>\n",
       "    <tr>\n",
       "      <th>Overseas Inflow</th>\n",
       "      <td>949</td>\n",
       "    </tr>\n",
       "    <tr>\n",
       "      <th>Itaewon Clubs</th>\n",
       "      <td>271</td>\n",
       "    </tr>\n",
       "    <tr>\n",
       "      <th>Second Mi-Ju Hospital</th>\n",
       "      <td>196</td>\n",
       "    </tr>\n",
       "    <tr>\n",
       "      <th>Richway</th>\n",
       "      <td>184</td>\n",
       "    </tr>\n",
       "    <tr>\n",
       "      <th>Guro-gu Call Center</th>\n",
       "      <td>167</td>\n",
       "    </tr>\n",
       "    <tr>\n",
       "      <th>Coupang Logistics Center</th>\n",
       "      <td>134</td>\n",
       "    </tr>\n",
       "    <tr>\n",
       "      <th>Hansarang Convalescent Hospital</th>\n",
       "      <td>124</td>\n",
       "    </tr>\n",
       "    <tr>\n",
       "      <th>Cheongdo Daenam Hospital</th>\n",
       "      <td>122</td>\n",
       "    </tr>\n",
       "    <tr>\n",
       "      <th>Gym Facility in Cheonan</th>\n",
       "      <td>103</td>\n",
       "    </tr>\n",
       "    <tr>\n",
       "      <th>Daesil Convalescent Hospital</th>\n",
       "      <td>101</td>\n",
       "    </tr>\n",
       "    <tr>\n",
       "      <th>Yangcheon Table Tennis Club</th>\n",
       "      <td>71</td>\n",
       "    </tr>\n",
       "    <tr>\n",
       "      <th>Door-to-Door Sales in Daejeon</th>\n",
       "      <td>68</td>\n",
       "    </tr>\n",
       "    <tr>\n",
       "      <th>Bonghwa Pureun Nursing Home</th>\n",
       "      <td>68</td>\n",
       "    </tr>\n",
       "    <tr>\n",
       "      <th>River of Grace Community Church</th>\n",
       "      <td>67</td>\n",
       "    </tr>\n",
       "    <tr>\n",
       "      <th>Gyeongsan Seorin Nursing Home</th>\n",
       "      <td>66</td>\n",
       "    </tr>\n",
       "    <tr>\n",
       "      <th>SMR Newly Planted Churches Group</th>\n",
       "      <td>61</td>\n",
       "    </tr>\n",
       "    <tr>\n",
       "      <th>Uijeongbu St. Mary’s Hospital</th>\n",
       "      <td>60</td>\n",
       "    </tr>\n",
       "    <tr>\n",
       "      <th>Day Care Center</th>\n",
       "      <td>43</td>\n",
       "    </tr>\n",
       "    <tr>\n",
       "      <th>Manmin Central Church</th>\n",
       "      <td>43</td>\n",
       "    </tr>\n",
       "    <tr>\n",
       "      <th>Pilgrimage to Israel</th>\n",
       "      <td>41</td>\n",
       "    </tr>\n",
       "    <tr>\n",
       "      <th>Onchun Church</th>\n",
       "      <td>41</td>\n",
       "    </tr>\n",
       "    <tr>\n",
       "      <th>Yechun-gun</th>\n",
       "      <td>40</td>\n",
       "    </tr>\n",
       "    <tr>\n",
       "      <th>Fatima Hospital</th>\n",
       "      <td>39</td>\n",
       "    </tr>\n",
       "    <tr>\n",
       "      <th>Milal Shelter</th>\n",
       "      <td>36</td>\n",
       "    </tr>\n",
       "    <tr>\n",
       "      <th>Wangsung Church</th>\n",
       "      <td>36</td>\n",
       "    </tr>\n",
       "    <tr>\n",
       "      <th>Ministry of Oceans and Fisheries</th>\n",
       "      <td>31</td>\n",
       "    </tr>\n",
       "    <tr>\n",
       "      <th>Anyang Gunpo Pastors Group</th>\n",
       "      <td>23</td>\n",
       "    </tr>\n",
       "    <tr>\n",
       "      <th>Bundang Jesaeng Hospital</th>\n",
       "      <td>22</td>\n",
       "    </tr>\n",
       "    <tr>\n",
       "      <th>Lord Glory Church</th>\n",
       "      <td>17</td>\n",
       "    </tr>\n",
       "    <tr>\n",
       "      <th>Dongan Church</th>\n",
       "      <td>17</td>\n",
       "    </tr>\n",
       "    <tr>\n",
       "      <th>Gyeongsan Jeil Silver Town</th>\n",
       "      <td>17</td>\n",
       "    </tr>\n",
       "    <tr>\n",
       "      <th>Gyeongsan Cham Joeun Community Center</th>\n",
       "      <td>16</td>\n",
       "    </tr>\n",
       "    <tr>\n",
       "      <th>Geumcheon-gu Rice Milling Machine Manufacture</th>\n",
       "      <td>16</td>\n",
       "    </tr>\n",
       "    <tr>\n",
       "      <th>Lotte Confectionery Logistics Center</th>\n",
       "      <td>15</td>\n",
       "    </tr>\n",
       "    <tr>\n",
       "      <th>Eunpyeong St. Mary's Hospital</th>\n",
       "      <td>14</td>\n",
       "    </tr>\n",
       "    <tr>\n",
       "      <th>Korea Campus Crusade of Christ</th>\n",
       "      <td>14</td>\n",
       "    </tr>\n",
       "    <tr>\n",
       "      <th>Seongdong-gu APT</th>\n",
       "      <td>13</td>\n",
       "    </tr>\n",
       "    <tr>\n",
       "      <th>Dunsan Electronics Town</th>\n",
       "      <td>13</td>\n",
       "    </tr>\n",
       "    <tr>\n",
       "      <th>KB Life Insurance</th>\n",
       "      <td>13</td>\n",
       "    </tr>\n",
       "    <tr>\n",
       "      <th>Seosan-si Laboratory</th>\n",
       "      <td>11</td>\n",
       "    </tr>\n",
       "    <tr>\n",
       "      <th>Goesan-gun Jangyeon-myeon</th>\n",
       "      <td>11</td>\n",
       "    </tr>\n",
       "    <tr>\n",
       "      <th>Geochang Church</th>\n",
       "      <td>10</td>\n",
       "    </tr>\n",
       "    <tr>\n",
       "      <th>Suwon Saeng Myeong Saem Church</th>\n",
       "      <td>10</td>\n",
       "    </tr>\n",
       "    <tr>\n",
       "      <th>Jongno Community Center</th>\n",
       "      <td>10</td>\n",
       "    </tr>\n",
       "    <tr>\n",
       "      <th>Gumi Elim Church</th>\n",
       "      <td>10</td>\n",
       "    </tr>\n",
       "    <tr>\n",
       "      <th>Wings Tower</th>\n",
       "      <td>9</td>\n",
       "    </tr>\n",
       "    <tr>\n",
       "      <th>Geochang-gun Woongyang-myeon</th>\n",
       "      <td>8</td>\n",
       "    </tr>\n",
       "    <tr>\n",
       "      <th>Gym Facility in Sejong</th>\n",
       "      <td>8</td>\n",
       "    </tr>\n",
       "    <tr>\n",
       "      <th>Seoul City Hall Station Safety Worker</th>\n",
       "      <td>8</td>\n",
       "    </tr>\n",
       "    <tr>\n",
       "      <th>Samsung Medical Center</th>\n",
       "      <td>7</td>\n",
       "    </tr>\n",
       "    <tr>\n",
       "      <th>Jung-gu Fashion Company</th>\n",
       "      <td>7</td>\n",
       "    </tr>\n",
       "    <tr>\n",
       "      <th>Orange Town</th>\n",
       "      <td>7</td>\n",
       "    </tr>\n",
       "    <tr>\n",
       "      <th>Hanmaeum Changwon Hospital</th>\n",
       "      <td>7</td>\n",
       "    </tr>\n",
       "    <tr>\n",
       "      <th>Changnyeong Coin Karaoke</th>\n",
       "      <td>7</td>\n",
       "    </tr>\n",
       "    <tr>\n",
       "      <th>Haeundae-gu Catholic Church</th>\n",
       "      <td>6</td>\n",
       "    </tr>\n",
       "    <tr>\n",
       "      <th>Gangnam Yeoksam-dong Gathering</th>\n",
       "      <td>6</td>\n",
       "    </tr>\n",
       "    <tr>\n",
       "      <th>Suyeong-gu Kindergarten</th>\n",
       "      <td>5</td>\n",
       "    </tr>\n",
       "    <tr>\n",
       "      <th>Yeonana News Class</th>\n",
       "      <td>5</td>\n",
       "    </tr>\n",
       "    <tr>\n",
       "      <th>Seocho Family</th>\n",
       "      <td>5</td>\n",
       "    </tr>\n",
       "    <tr>\n",
       "      <th>Seongnam neighbors Gathering</th>\n",
       "      <td>5</td>\n",
       "    </tr>\n",
       "    <tr>\n",
       "      <th>Gwangneuksa Temple</th>\n",
       "      <td>5</td>\n",
       "    </tr>\n",
       "    <tr>\n",
       "      <th>Guri Collective Infection</th>\n",
       "      <td>5</td>\n",
       "    </tr>\n",
       "    <tr>\n",
       "      <th>Jin-gu Academy</th>\n",
       "      <td>4</td>\n",
       "    </tr>\n",
       "    <tr>\n",
       "      <th>Wonju-si Apartments</th>\n",
       "      <td>4</td>\n",
       "    </tr>\n",
       "    <tr>\n",
       "      <th>Dreaming Church</th>\n",
       "      <td>4</td>\n",
       "    </tr>\n",
       "    <tr>\n",
       "      <th>Samsung Fire &amp; Marine Insurance</th>\n",
       "      <td>4</td>\n",
       "    </tr>\n",
       "    <tr>\n",
       "      <th>Yongin Brothers</th>\n",
       "      <td>4</td>\n",
       "    </tr>\n",
       "    <tr>\n",
       "      <th>Soso Seowon</th>\n",
       "      <td>3</td>\n",
       "    </tr>\n",
       "    <tr>\n",
       "      <th>Eunpyeong-Boksagol Culture Center</th>\n",
       "      <td>3</td>\n",
       "    </tr>\n",
       "    <tr>\n",
       "      <th>Daezayeon Korea</th>\n",
       "      <td>3</td>\n",
       "    </tr>\n",
       "    <tr>\n",
       "      <th>Korea Forest Engineer Institute</th>\n",
       "      <td>3</td>\n",
       "    </tr>\n",
       "    <tr>\n",
       "      <th>Biblical Language Study Meeting</th>\n",
       "      <td>3</td>\n",
       "    </tr>\n",
       "    <tr>\n",
       "      <th>Yeongdeungpo Learning Institute</th>\n",
       "      <td>3</td>\n",
       "    </tr>\n",
       "    <tr>\n",
       "      <th>Uiwang Logistics Center</th>\n",
       "      <td>2</td>\n",
       "    </tr>\n",
       "    <tr>\n",
       "      <th>Gangnam Dongin Church</th>\n",
       "      <td>1</td>\n",
       "    </tr>\n",
       "    <tr>\n",
       "      <th>Orange Life</th>\n",
       "      <td>1</td>\n",
       "    </tr>\n",
       "    <tr>\n",
       "      <th>Daejeon Door-to-Door Sales</th>\n",
       "      <td>1</td>\n",
       "    </tr>\n",
       "    <tr>\n",
       "      <th>SJ Investment Call Center</th>\n",
       "      <td>0</td>\n",
       "    </tr>\n",
       "  </tbody>\n",
       "</table>\n",
       "</div>"
      ],
      "text/plain": [
       "                                               Confirmed\n",
       "Infection Reason                                        \n",
       "Shincheonji Church                                  5213\n",
       "Contact with Patient                                1403\n",
       "Overseas Inflow                                      949\n",
       "Itaewon Clubs                                        271\n",
       "Second Mi-Ju Hospital                                196\n",
       "Richway                                              184\n",
       "Guro-gu Call Center                                  167\n",
       "Coupang Logistics Center                             134\n",
       "Hansarang Convalescent Hospital                      124\n",
       "Cheongdo Daenam Hospital                             122\n",
       "Gym Facility in Cheonan                              103\n",
       "Daesil Convalescent Hospital                         101\n",
       "Yangcheon Table Tennis Club                           71\n",
       "Door-to-Door Sales in Daejeon                         68\n",
       "Bonghwa Pureun Nursing Home                           68\n",
       "River of Grace Community Church                       67\n",
       "Gyeongsan Seorin Nursing Home                         66\n",
       "SMR Newly Planted Churches Group                      61\n",
       "Uijeongbu St. Mary’s Hospital                         60\n",
       "Day Care Center                                       43\n",
       "Manmin Central Church                                 43\n",
       "Pilgrimage to Israel                                  41\n",
       "Onchun Church                                         41\n",
       "Yechun-gun                                            40\n",
       "Fatima Hospital                                       39\n",
       "Milal Shelter                                         36\n",
       "Wangsung Church                                       36\n",
       "Ministry of Oceans and Fisheries                      31\n",
       "Anyang Gunpo Pastors Group                            23\n",
       "Bundang Jesaeng Hospital                              22\n",
       "Lord Glory Church                                     17\n",
       "Dongan Church                                         17\n",
       "Gyeongsan Jeil Silver Town                            17\n",
       "Gyeongsan Cham Joeun Community Center                 16\n",
       "Geumcheon-gu Rice Milling Machine Manufacture         16\n",
       "Lotte Confectionery Logistics Center                  15\n",
       "Eunpyeong St. Mary's Hospital                         14\n",
       "Korea Campus Crusade of Christ                        14\n",
       "Seongdong-gu APT                                      13\n",
       "Dunsan Electronics Town                               13\n",
       "KB Life Insurance                                     13\n",
       "Seosan-si Laboratory                                  11\n",
       "Goesan-gun Jangyeon-myeon                             11\n",
       "Geochang Church                                       10\n",
       "Suwon Saeng Myeong Saem Church                        10\n",
       "Jongno Community Center                               10\n",
       "Gumi Elim Church                                      10\n",
       "Wings Tower                                            9\n",
       "Geochang-gun Woongyang-myeon                           8\n",
       "Gym Facility in Sejong                                 8\n",
       "Seoul City Hall Station Safety Worker                  8\n",
       "Samsung Medical Center                                 7\n",
       "Jung-gu Fashion Company                                7\n",
       "Orange Town                                            7\n",
       "Hanmaeum Changwon Hospital                             7\n",
       "Changnyeong Coin Karaoke                               7\n",
       "Haeundae-gu Catholic Church                            6\n",
       "Gangnam Yeoksam-dong Gathering                         6\n",
       "Suyeong-gu Kindergarten                                5\n",
       "Yeonana News Class                                     5\n",
       "Seocho Family                                          5\n",
       "Seongnam neighbors Gathering                           5\n",
       "Gwangneuksa Temple                                     5\n",
       "Guri Collective Infection                              5\n",
       "Jin-gu Academy                                         4\n",
       "Wonju-si Apartments                                    4\n",
       "Dreaming Church                                        4\n",
       "Samsung Fire & Marine Insurance                        4\n",
       "Yongin Brothers                                        4\n",
       "Soso Seowon                                            3\n",
       "Eunpyeong-Boksagol Culture Center                      3\n",
       "Daezayeon Korea                                        3\n",
       "Korea Forest Engineer Institute                        3\n",
       "Biblical Language Study Meeting                        3\n",
       "Yeongdeungpo Learning Institute                        3\n",
       "Uiwang Logistics Center                                2\n",
       "Gangnam Dongin Church                                  1\n",
       "Orange Life                                            1\n",
       "Daejeon Door-to-Door Sales                             1\n",
       "SJ Investment Call Center                              0"
      ]
     },
     "execution_count": 19,
     "metadata": {},
     "output_type": "execute_result"
    }
   ],
   "source": [
    "pivot_infection = pd.pivot_table(\n",
    "    data=case, index=[\"Infection Reason\"], values=\"Confirmed\", aggfunc = 'sum').sort_values('Confirmed', ascending = False)\n",
    "\n",
    "pivot_infection"
   ]
  },
  {
   "cell_type": "code",
   "execution_count": 13,
   "id": "arctic-blues",
   "metadata": {},
   "outputs": [
    {
     "data": {
      "text/plain": [
       "10203"
      ]
     },
     "execution_count": 13,
     "metadata": {},
     "output_type": "execute_result"
    }
   ],
   "source": [
    "total = pivot_infection['Confirmed'].sum()\n",
    "total"
   ]
  },
  {
   "cell_type": "markdown",
   "id": "talented-radius",
   "metadata": {},
   "source": [
    "# Daegu"
   ]
  },
  {
   "cell_type": "code",
   "execution_count": 20,
   "id": "individual-communications",
   "metadata": {},
   "outputs": [
    {
     "data": {
      "text/html": [
       "<div>\n",
       "<style scoped>\n",
       "    .dataframe tbody tr th:only-of-type {\n",
       "        vertical-align: middle;\n",
       "    }\n",
       "\n",
       "    .dataframe tbody tr th {\n",
       "        vertical-align: top;\n",
       "    }\n",
       "\n",
       "    .dataframe thead th {\n",
       "        text-align: right;\n",
       "    }\n",
       "</style>\n",
       "<table border=\"1\" class=\"dataframe\">\n",
       "  <thead>\n",
       "    <tr style=\"text-align: right;\">\n",
       "      <th></th>\n",
       "      <th>Confirmed</th>\n",
       "    </tr>\n",
       "    <tr>\n",
       "      <th>Province</th>\n",
       "      <th></th>\n",
       "    </tr>\n",
       "  </thead>\n",
       "  <tbody>\n",
       "    <tr>\n",
       "      <th>Daegu</th>\n",
       "      <td>5933</td>\n",
       "    </tr>\n",
       "    <tr>\n",
       "      <th>Gyeongsangbuk-do</th>\n",
       "      <td>1191</td>\n",
       "    </tr>\n",
       "    <tr>\n",
       "      <th>Seoul</th>\n",
       "      <td>1180</td>\n",
       "    </tr>\n",
       "    <tr>\n",
       "      <th>Gyeonggi-do</th>\n",
       "      <td>916</td>\n",
       "    </tr>\n",
       "    <tr>\n",
       "      <th>Incheon</th>\n",
       "      <td>191</td>\n",
       "    </tr>\n",
       "    <tr>\n",
       "      <th>Chungcheongnam-do</th>\n",
       "      <td>146</td>\n",
       "    </tr>\n",
       "    <tr>\n",
       "      <th>Busan</th>\n",
       "      <td>126</td>\n",
       "    </tr>\n",
       "    <tr>\n",
       "      <th>Daejeon</th>\n",
       "      <td>116</td>\n",
       "    </tr>\n",
       "    <tr>\n",
       "      <th>Gyeongsangnam-do</th>\n",
       "      <td>112</td>\n",
       "    </tr>\n",
       "    <tr>\n",
       "      <th>Gangwon-do</th>\n",
       "      <td>55</td>\n",
       "    </tr>\n",
       "    <tr>\n",
       "      <th>Chungcheongbuk-do</th>\n",
       "      <td>49</td>\n",
       "    </tr>\n",
       "    <tr>\n",
       "      <th>Sejong</th>\n",
       "      <td>48</td>\n",
       "    </tr>\n",
       "    <tr>\n",
       "      <th>Ulsan</th>\n",
       "      <td>44</td>\n",
       "    </tr>\n",
       "    <tr>\n",
       "      <th>Gwangju</th>\n",
       "      <td>42</td>\n",
       "    </tr>\n",
       "    <tr>\n",
       "      <th>Jeollanam-do</th>\n",
       "      <td>21</td>\n",
       "    </tr>\n",
       "    <tr>\n",
       "      <th>Jeollabuk-do</th>\n",
       "      <td>18</td>\n",
       "    </tr>\n",
       "    <tr>\n",
       "      <th>Jeju-do</th>\n",
       "      <td>15</td>\n",
       "    </tr>\n",
       "  </tbody>\n",
       "</table>\n",
       "</div>"
      ],
      "text/plain": [
       "                   Confirmed\n",
       "Province                    \n",
       "Daegu                   5933\n",
       "Gyeongsangbuk-do        1191\n",
       "Seoul                   1180\n",
       "Gyeonggi-do              916\n",
       "Incheon                  191\n",
       "Chungcheongnam-do        146\n",
       "Busan                    126\n",
       "Daejeon                  116\n",
       "Gyeongsangnam-do         112\n",
       "Gangwon-do                55\n",
       "Chungcheongbuk-do         49\n",
       "Sejong                    48\n",
       "Ulsan                     44\n",
       "Gwangju                   42\n",
       "Jeollanam-do              21\n",
       "Jeollabuk-do              18\n",
       "Jeju-do                   15"
      ]
     },
     "execution_count": 20,
     "metadata": {},
     "output_type": "execute_result"
    }
   ],
   "source": [
    "pivot_province = pd.pivot_table(\n",
    "    data=case, index=[\"Province\"], values=\"Confirmed\", aggfunc = 'sum').sort_values('Confirmed', ascending = False)\n",
    "\n",
    "pivot_province"
   ]
  },
  {
   "cell_type": "markdown",
   "id": "adaptive-subscriber",
   "metadata": {},
   "source": [
    "# Daegu"
   ]
  },
  {
   "cell_type": "code",
   "execution_count": 21,
   "id": "accurate-knife",
   "metadata": {},
   "outputs": [
    {
     "data": {
      "text/plain": [
       "5933"
      ]
     },
     "execution_count": 21,
     "metadata": {},
     "output_type": "execute_result"
    }
   ],
   "source": [
    "daegu = pivot_province.loc['Daegu']\n",
    "daegu = daegu ['Confirmed']\n",
    "daegu"
   ]
  },
  {
   "cell_type": "markdown",
   "id": "substantial-stone",
   "metadata": {},
   "source": [
    "# Shincheonji Church"
   ]
  },
  {
   "cell_type": "code",
   "execution_count": null,
   "id": "excited-flower",
   "metadata": {},
   "outputs": [],
   "source": [
    "shincheonji_church = pivot_infection.loc['Shincheonji Church']\n",
    "shincheonji_church = shincheonji_church['Confirmed']\n",
    "shincheonji_church "
   ]
  },
  {
   "cell_type": "markdown",
   "id": "caring-import",
   "metadata": {},
   "source": [
    "# Shincheonji Church in Daegu"
   ]
  },
  {
   "cell_type": "code",
   "execution_count": 15,
   "id": "dressed-given",
   "metadata": {},
   "outputs": [
    {
     "data": {
      "text/plain": [
       "4511"
      ]
     },
     "execution_count": 15,
     "metadata": {},
     "output_type": "execute_result"
    }
   ],
   "source": [
    "shincheonji_church_daegu = case.loc[\n",
    "    (case[\"Province\"] == \"Daegu\") & (case[\"Infection Reason\"] == \"Shincheonji Church\")\n",
    "]\n",
    "\n",
    "shincheonji_church_daegu = shincheonji_church_daegu.set_index('Infection Reason')\n",
    "shincheonji_church_daegu = shincheonji_church_daegu.loc['Shincheonji Church']\n",
    "shincheonji_church_daegu = shincheonji_church_daegu['Confirmed']\n",
    "shincheonji_church_daegu"
   ]
  },
  {
   "cell_type": "markdown",
   "id": "loved-active",
   "metadata": {},
   "source": [
    "# Case Numbers"
   ]
  },
  {
   "cell_type": "code",
   "execution_count": 16,
   "id": "excellent-jurisdiction",
   "metadata": {},
   "outputs": [
    {
     "ename": "NameError",
     "evalue": "name 'daegu' is not defined",
     "output_type": "error",
     "traceback": [
      "\u001b[1;31m---------------------------------------------------------------------------\u001b[0m",
      "\u001b[1;31mNameError\u001b[0m                                 Traceback (most recent call last)",
      "\u001b[1;32m<ipython-input-16-99fe882060f6>\u001b[0m in \u001b[0;36m<module>\u001b[1;34m\u001b[0m\n\u001b[0;32m      2\u001b[0m     {\n\u001b[0;32m      3\u001b[0m         \u001b[1;34m\"Total\"\u001b[0m\u001b[1;33m:\u001b[0m \u001b[0mtotal\u001b[0m\u001b[1;33m,\u001b[0m\u001b[1;33m\u001b[0m\u001b[1;33m\u001b[0m\u001b[0m\n\u001b[1;32m----> 4\u001b[1;33m         \u001b[1;34m\"Daegu\"\u001b[0m\u001b[1;33m:\u001b[0m \u001b[0mdaegu\u001b[0m\u001b[1;33m,\u001b[0m\u001b[1;33m\u001b[0m\u001b[1;33m\u001b[0m\u001b[0m\n\u001b[0m\u001b[0;32m      5\u001b[0m         \u001b[1;34m\"Shincheonji Church\"\u001b[0m\u001b[1;33m:\u001b[0m \u001b[0mshincheonji_church\u001b[0m\u001b[1;33m,\u001b[0m\u001b[1;33m\u001b[0m\u001b[1;33m\u001b[0m\u001b[0m\n\u001b[0;32m      6\u001b[0m         \u001b[1;34m\"Shincheonji Church Daegu\"\u001b[0m\u001b[1;33m:\u001b[0m \u001b[0mshincheonji_church_daegu\u001b[0m\u001b[1;33m\u001b[0m\u001b[1;33m\u001b[0m\u001b[0m\n",
      "\u001b[1;31mNameError\u001b[0m: name 'daegu' is not defined"
     ]
    }
   ],
   "source": [
    "cases = pd.DataFrame(\n",
    "    {\n",
    "        \"Total\": total,\n",
    "        \"Daegu\": daegu,\n",
    "        \"Shincheonji Church\": shincheonji_church,\n",
    "        \"Shincheonji Church Daegu\": shincheonji_church_daegu\n",
    "    }, index = ['Confirmed']\n",
    ")\n",
    "\n",
    "cases = cases.T\n",
    "cases = cases.reset_index()"
   ]
  },
  {
   "cell_type": "code",
   "execution_count": 17,
   "id": "spatial-converter",
   "metadata": {},
   "outputs": [
    {
     "ename": "NameError",
     "evalue": "name 'cases' is not defined",
     "output_type": "error",
     "traceback": [
      "\u001b[1;31m---------------------------------------------------------------------------\u001b[0m",
      "\u001b[1;31mNameError\u001b[0m                                 Traceback (most recent call last)",
      "\u001b[1;32m<ipython-input-17-3c3bcb4bec46>\u001b[0m in \u001b[0;36m<module>\u001b[1;34m\u001b[0m\n\u001b[0;32m      6\u001b[0m     \u001b[0my\u001b[0m \u001b[1;33m=\u001b[0m\u001b[1;33m[\u001b[0m\u001b[1;34m\"Total\"\u001b[0m\u001b[1;33m,\u001b[0m \u001b[1;34m\"Daegu Province\"\u001b[0m\u001b[1;33m,\u001b[0m \u001b[1;34m\"Shincheonji Church\"\u001b[0m\u001b[1;33m,\u001b[0m \u001b[1;34m\"Shincheonji Church Daegu\"\u001b[0m\u001b[1;33m]\u001b[0m\u001b[1;33m,\u001b[0m\u001b[1;33m\u001b[0m\u001b[1;33m\u001b[0m\u001b[0m\n\u001b[0;32m      7\u001b[0m     \u001b[0mx\u001b[0m \u001b[1;33m=\u001b[0m\u001b[1;34m\"Confirmed\"\u001b[0m\u001b[1;33m,\u001b[0m\u001b[1;33m\u001b[0m\u001b[1;33m\u001b[0m\u001b[0m\n\u001b[1;32m----> 8\u001b[1;33m     \u001b[0mdata\u001b[0m\u001b[1;33m=\u001b[0m\u001b[0mcases\u001b[0m\u001b[1;33m,\u001b[0m\u001b[1;33m\u001b[0m\u001b[1;33m\u001b[0m\u001b[0m\n\u001b[0m\u001b[0;32m      9\u001b[0m     \u001b[0mci\u001b[0m\u001b[1;33m=\u001b[0m\u001b[1;32mNone\u001b[0m\u001b[1;33m\u001b[0m\u001b[1;33m\u001b[0m\u001b[0m\n\u001b[0;32m     10\u001b[0m )\n",
      "\u001b[1;31mNameError\u001b[0m: name 'cases' is not defined"
     ]
    },
    {
     "data": {
      "image/png": "[encoded data removed]",
      "text/plain": [
       "<Figure size 720x720 with 1 Axes>"
      ]
     },
     "metadata": {
      "needs_background": "light"
     },
     "output_type": "display_data"
    }
   ],
   "source": [
    "plt.figure(figsize=(10, 10))\n",
    "\n",
    "plt.title(\"Number of Cases\", fontsize=18, y=1.1)\n",
    "\n",
    "chart = sns.barplot(\n",
    "    y =[\"Total\", \"Daegu Province\", \"Shincheonji Church\", \"Shincheonji Church Daegu\"],\n",
    "    x =\"Confirmed\",\n",
    "    data=cases,\n",
    "    ci=None\n",
    ")\n",
    "\n",
    "plt.xticks(fontsize=16)\n",
    "plt.yticks(fontsize=16)\n",
    "plt.xlabel(\"Case Numbers\", fontsize=16, labelpad=25)\n",
    "plt.ylabel(\"Province\", fontsize=16, labelpad=25)\n",
    "\n",
    "chart.bar_label(chart.containers[0], size=25)\n",
    "\n",
    "sns.despine(left=True, bottom=True);"
   ]
  },
  {
   "cell_type": "code",
   "execution_count": 18,
   "id": "iraqi-console",
   "metadata": {},
   "outputs": [
    {
     "ename": "NameError",
     "evalue": "name 'shincheonji_church' is not defined",
     "output_type": "error",
     "traceback": [
      "\u001b[1;31m---------------------------------------------------------------------------\u001b[0m",
      "\u001b[1;31mNameError\u001b[0m                                 Traceback (most recent call last)",
      "\u001b[1;32m<ipython-input-18-c18293fd5d5a>\u001b[0m in \u001b[0;36m<module>\u001b[1;34m\u001b[0m\n\u001b[0;32m      8\u001b[0m \u001b[0mspec_lev1\u001b[0m \u001b[1;33m=\u001b[0m \u001b[1;34m\"red\"\u001b[0m\u001b[1;33m\u001b[0m\u001b[1;33m\u001b[0m\u001b[0m\n\u001b[0;32m      9\u001b[0m \u001b[1;33m\u001b[0m\u001b[0m\n\u001b[1;32m---> 10\u001b[1;33m \u001b[0mdata\u001b[0m \u001b[1;33m=\u001b[0m \u001b[1;33m[\u001b[0m\u001b[0mshincheonji_church\u001b[0m\u001b[1;33m,\u001b[0m \u001b[0mtotal\u001b[0m\u001b[1;33m]\u001b[0m\u001b[1;33m\u001b[0m\u001b[1;33m\u001b[0m\u001b[0m\n\u001b[0m\u001b[0;32m     11\u001b[0m \u001b[0mlabels\u001b[0m \u001b[1;33m=\u001b[0m \u001b[1;33m[\u001b[0m\u001b[1;34m'Shincheonji Church'\u001b[0m\u001b[1;33m,\u001b[0m \u001b[1;34m'Total'\u001b[0m\u001b[1;33m]\u001b[0m\u001b[1;33m\u001b[0m\u001b[1;33m\u001b[0m\u001b[0m\n\u001b[0;32m     12\u001b[0m \u001b[0mcolors\u001b[0m \u001b[1;33m=\u001b[0m \u001b[1;33m[\u001b[0m\u001b[0mspec_lev1\u001b[0m\u001b[1;33m,\u001b[0m \u001b[0mord_color\u001b[0m\u001b[1;33m]\u001b[0m\u001b[1;33m\u001b[0m\u001b[1;33m\u001b[0m\u001b[0m\n",
      "\u001b[1;31mNameError\u001b[0m: name 'shincheonji_church' is not defined"
     ]
    },
    {
     "data": {
      "image/png": "[encoded data removed]",
      "text/plain": [
       "<Figure size 576x576 with 1 Axes>"
      ]
     },
     "metadata": {
      "needs_background": "light"
     },
     "output_type": "display_data"
    }
   ],
   "source": [
    "plt.figure(figsize=(8, 8))\n",
    "\n",
    "plt.title(\"Confirmed Related to Shincheonji Church\", fontsize=18, y=1)\n",
    "\n",
    "sns.set_context(\"paper\", font_scale=2.0)\n",
    "\n",
    "ord_color = \"bisque\"\n",
    "spec_lev1 = \"red\"\n",
    "\n",
    "data = [shincheonji_church, total]\n",
    "labels = ['Shincheonji Church', 'Total']\n",
    "colors = [spec_lev1, ord_color]\n",
    "\n",
    "plt.pie(data, labels=labels,colors = colors, autopct = '%0.0f%%')\n",
    "plt.show()"
   ]
  },
  {
   "cell_type": "code",
   "execution_count": null,
   "id": "worth-effort",
   "metadata": {},
   "outputs": [],
   "source": []
  }
 ],
 "metadata": {
  "kernelspec": {
   "display_name": "Python 3",
   "language": "python",
   "name": "python3"
  },
  "language_info": {
   "codemirror_mode": {
    "name": "ipython",
    "version": 3
   },
   "file_extension": ".py",
   "mimetype": "text/x-python",
   "name": "python",
   "nbconvert_exporter": "python",
   "pygments_lexer": "ipython3",
   "version": "3.9.6"
  },
  "toc": {
   "base_numbering": 1,
   "nav_menu": {},
   "number_sections": true,
   "sideBar": true,
   "skip_h1_title": false,
   "title_cell": "Table of Contents",
   "title_sidebar": "Contents",
   "toc_cell": false,
   "toc_position": {},
   "toc_section_display": true,
   "toc_window_display": false
  }
 },
 "nbformat": 4,
 "nbformat_minor": 5
}
