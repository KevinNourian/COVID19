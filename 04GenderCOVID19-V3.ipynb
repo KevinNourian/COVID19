{
 "cells": [
  {
   "cell_type": "markdown",
   "id": "basic-folder",
   "metadata": {},
   "source": [
    "# 04GenderCOVID19-V3\n"
   ]
  },
  {
   "cell_type": "markdown",
   "id": "every-inspiration",
   "metadata": {},
   "source": [
    "# Libraries"
   ]
  },
  {
   "cell_type": "code",
   "execution_count": 1,
   "id": "developing-fiction",
   "metadata": {},
   "outputs": [],
   "source": [
    "%matplotlib inline\n",
    "\n",
    "import pandas as pd\n",
    "import numpy as np\n",
    "import seaborn as sns\n",
    "import matplotlib.pyplot as plt\n",
    "import plotly.express as px\n",
    "import warnings\n",
    "from IPython.display import display"
   ]
  },
  {
   "cell_type": "markdown",
   "id": "serious-wholesale",
   "metadata": {},
   "source": [
    "# Colors"
   ]
  },
  {
   "cell_type": "code",
   "execution_count": 13,
   "id": "improving-escape",
   "metadata": {},
   "outputs": [],
   "source": [
    "ord_color = \"bisque\"\n",
    "spec_lev1 = \"crimson\""
   ]
  },
  {
   "cell_type": "markdown",
   "id": "residential-thing",
   "metadata": {},
   "source": [
    "# Functions"
   ]
  },
  {
   "cell_type": "code",
   "execution_count": null,
   "id": "contemporary-medication",
   "metadata": {},
   "outputs": [],
   "source": []
  },
  {
   "cell_type": "markdown",
   "id": "specified-working",
   "metadata": {},
   "source": [
    "# Loading Data"
   ]
  },
  {
   "cell_type": "code",
   "execution_count": 14,
   "id": "suspended-violence",
   "metadata": {},
   "outputs": [],
   "source": [
    "gender = pd.read_csv(\n",
    "    \"C:\\py\\Projects\\TuringCollege\\COVID19\\DataSets\\gender.csv\",\n",
    "    index_col=False,\n",
    "    skipinitialspace=True,\n",
    ")"
   ]
  },
  {
   "cell_type": "markdown",
   "id": "regulated-relief",
   "metadata": {},
   "source": [
    "# Size"
   ]
  },
  {
   "cell_type": "code",
   "execution_count": 15,
   "id": "secondary-affiliate",
   "metadata": {
    "scrolled": true
   },
   "outputs": [
    {
     "data": {
      "text/plain": [
       "(242, 5)"
      ]
     },
     "execution_count": 15,
     "metadata": {},
     "output_type": "execute_result"
    }
   ],
   "source": [
    "gender.shape"
   ]
  },
  {
   "cell_type": "markdown",
   "id": "blank-phoenix",
   "metadata": {},
   "source": [
    "# Missing Data"
   ]
  },
  {
   "cell_type": "code",
   "execution_count": 16,
   "id": "everyday-economy",
   "metadata": {
    "scrolled": true
   },
   "outputs": [
    {
     "data": {
      "text/plain": [
       "date         0\n",
       "time         0\n",
       "sex          0\n",
       "confirmed    0\n",
       "deceased     0\n",
       "dtype: int64"
      ]
     },
     "execution_count": 16,
     "metadata": {},
     "output_type": "execute_result"
    }
   ],
   "source": [
    "gender.isna().sum()"
   ]
  },
  {
   "cell_type": "markdown",
   "id": "assumed-sculpture",
   "metadata": {},
   "source": [
    "# Delete Unneeded Columns"
   ]
  },
  {
   "cell_type": "code",
   "execution_count": 17,
   "id": "dangerous-rating",
   "metadata": {},
   "outputs": [],
   "source": [
    "gender = gender.drop([\"time\"], axis=1)"
   ]
  },
  {
   "cell_type": "markdown",
   "id": "defensive-express",
   "metadata": {},
   "source": [
    "## Rename Columns"
   ]
  },
  {
   "cell_type": "code",
   "execution_count": 18,
   "id": "miniature-minimum",
   "metadata": {},
   "outputs": [],
   "source": [
    "gender.rename(\n",
    "    columns={\n",
    "        \"date\": \"Date\",\n",
    "        \"sex\": \"Gender\",\n",
    "        \"confirmed\": \"Confirmed\",\n",
    "        \"deceased\": \"Deceased\",\n",
    "    },\n",
    "    inplace=True,\n",
    ")"
   ]
  },
  {
   "cell_type": "markdown",
   "id": "described-contemporary",
   "metadata": {},
   "source": [
    "## Rename Column Values"
   ]
  },
  {
   "cell_type": "code",
   "execution_count": 19,
   "id": "magnetic-legislature",
   "metadata": {},
   "outputs": [],
   "source": [
    "gender.replace('male', 'Male', inplace = True)\n",
    "gender.replace('female', 'Female', inplace = True)"
   ]
  },
  {
   "cell_type": "markdown",
   "id": "rough-specific",
   "metadata": {},
   "source": [
    "# Dataset"
   ]
  },
  {
   "cell_type": "code",
   "execution_count": 20,
   "id": "sweet-cambridge",
   "metadata": {},
   "outputs": [
    {
     "data": {
      "text/html": [
       "<div>\n",
       "<style scoped>\n",
       "    .dataframe tbody tr th:only-of-type {\n",
       "        vertical-align: middle;\n",
       "    }\n",
       "\n",
       "    .dataframe tbody tr th {\n",
       "        vertical-align: top;\n",
       "    }\n",
       "\n",
       "    .dataframe thead th {\n",
       "        text-align: right;\n",
       "    }\n",
       "</style>\n",
       "<table border=\"1\" class=\"dataframe\">\n",
       "  <thead>\n",
       "    <tr style=\"text-align: right;\">\n",
       "      <th></th>\n",
       "      <th>Date</th>\n",
       "      <th>Gender</th>\n",
       "      <th>Confirmed</th>\n",
       "      <th>Deceased</th>\n",
       "    </tr>\n",
       "  </thead>\n",
       "  <tbody>\n",
       "    <tr>\n",
       "      <th>0</th>\n",
       "      <td>3/2/2020</td>\n",
       "      <td>Male</td>\n",
       "      <td>1591</td>\n",
       "      <td>13</td>\n",
       "    </tr>\n",
       "    <tr>\n",
       "      <th>1</th>\n",
       "      <td>3/2/2020</td>\n",
       "      <td>Female</td>\n",
       "      <td>2621</td>\n",
       "      <td>9</td>\n",
       "    </tr>\n",
       "    <tr>\n",
       "      <th>2</th>\n",
       "      <td>3/3/2020</td>\n",
       "      <td>Male</td>\n",
       "      <td>1810</td>\n",
       "      <td>16</td>\n",
       "    </tr>\n",
       "    <tr>\n",
       "      <th>3</th>\n",
       "      <td>3/3/2020</td>\n",
       "      <td>Female</td>\n",
       "      <td>3002</td>\n",
       "      <td>12</td>\n",
       "    </tr>\n",
       "    <tr>\n",
       "      <th>4</th>\n",
       "      <td>3/4/2020</td>\n",
       "      <td>Male</td>\n",
       "      <td>1996</td>\n",
       "      <td>20</td>\n",
       "    </tr>\n",
       "  </tbody>\n",
       "</table>\n",
       "</div>"
      ],
      "text/plain": [
       "       Date  Gender  Confirmed  Deceased\n",
       "0  3/2/2020    Male       1591        13\n",
       "1  3/2/2020  Female       2621         9\n",
       "2  3/3/2020    Male       1810        16\n",
       "3  3/3/2020  Female       3002        12\n",
       "4  3/4/2020    Male       1996        20"
      ]
     },
     "execution_count": 20,
     "metadata": {},
     "output_type": "execute_result"
    }
   ],
   "source": [
    "gender.head()"
   ]
  },
  {
   "cell_type": "markdown",
   "id": "ideal-quality",
   "metadata": {},
   "source": [
    "# Percentage of Confirmed for each Gender"
   ]
  },
  {
   "cell_type": "code",
   "execution_count": 21,
   "id": "afraid-penny",
   "metadata": {},
   "outputs": [],
   "source": [
    "confirmed = gender[['Gender', 'Confirmed']].groupby(['Gender']).max().sort_values('Confirmed', ascending=False)\n",
    "confirmed = confirmed.reset_index()"
   ]
  },
  {
   "cell_type": "markdown",
   "id": "taken-malawi",
   "metadata": {},
   "source": [
    "# Percentage of Deceased for each Gender"
   ]
  },
  {
   "cell_type": "code",
   "execution_count": 22,
   "id": "neural-piece",
   "metadata": {},
   "outputs": [],
   "source": [
    "deceased = gender[['Gender', 'Deceased']].groupby(['Gender']).max().sort_values('Deceased', ascending=True)\n",
    "deceased = deceased.reset_index()"
   ]
  },
  {
   "cell_type": "markdown",
   "id": "transparent-health",
   "metadata": {},
   "source": [
    "# Pie Charts"
   ]
  },
  {
   "cell_type": "code",
   "execution_count": 33,
   "id": "affiliated-broadway",
   "metadata": {},
   "outputs": [
    {
     "data": {
      "image/png": "[encoded data removed]",
      "text/plain": [
       "<Figure size 1080x1080 with 2 Axes>"
      ]
     },
     "metadata": {},
     "output_type": "display_data"
    }
   ],
   "source": [
    "sns.set_context(\"paper\", font_scale=2.0)\n",
    "\n",
    "data_confirmed = [confirmed.loc[0, \"Confirmed\"], confirmed.loc[1, \"Confirmed\"]]\n",
    "labels_confirmed = [\"Female\", \"Male\"]\n",
    "colors_confirmed = [spec_lev1, ord_color]\n",
    "\n",
    "data_deceased = [deceased.loc[1, \"Deceased\"], deceased.loc[0, \"Deceased\"]]\n",
    "labels_deceased = [\"Male\", \"Female\"]\n",
    "colors_deceased = [spec_lev1, ord_color]\n",
    "\n",
    "\n",
    "fig, (ax1, ax2) = plt.subplots(nrows=1, ncols=2, figsize=(15, 15))\n",
    "\n",
    "ax1.set_title(\"Confirmed According to Gender\")\n",
    "ax1.pie(\n",
    "    data_confirmed,\n",
    "    labels=labels_confirmed,\n",
    "    colors=colors_confirmed,\n",
    "    autopct=\"%0.0f%%\",\n",
    "    startangle=90,\n",
    "    wedgeprops={\"edgecolor\": \"black\", \"linewidth\": 1},\n",
    ")\n",
    "\n",
    "\n",
    "ax2.set_title(\"Deceased According to Gender\")\n",
    "ax2.pie(\n",
    "    data_deceased,\n",
    "    labels=labels_deceased,\n",
    "    colors=colors_deceased,\n",
    "    autopct=\"%0.0f%%\",\n",
    "    startangle=90,\n",
    "    wedgeprops={\"edgecolor\": \"black\", \"linewidth\": 1},\n",
    ");"
   ]
  },
  {
   "cell_type": "code",
   "execution_count": null,
   "id": "multiple-premises",
   "metadata": {},
   "outputs": [],
   "source": []
  },
  {
   "cell_type": "code",
   "execution_count": null,
   "id": "amazing-signature",
   "metadata": {},
   "outputs": [],
   "source": []
  }
 ],
 "metadata": {
  "kernelspec": {
   "display_name": "Python 3",
   "language": "python",
   "name": "python3"
  },
  "language_info": {
   "codemirror_mode": {
    "name": "ipython",
    "version": 3
   },
   "file_extension": ".py",
   "mimetype": "text/x-python",
   "name": "python",
   "nbconvert_exporter": "python",
   "pygments_lexer": "ipython3",
   "version": "3.9.6"
  },
  "toc": {
   "base_numbering": 1,
   "nav_menu": {},
   "number_sections": true,
   "sideBar": true,
   "skip_h1_title": false,
   "title_cell": "Table of Contents",
   "title_sidebar": "Contents",
   "toc_cell": false,
   "toc_position": {},
   "toc_section_display": true,
   "toc_window_display": false
  }
 },
 "nbformat": 4,
 "nbformat_minor": 5
}
