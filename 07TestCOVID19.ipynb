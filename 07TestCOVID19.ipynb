{
 "cells": [
  {
   "cell_type": "markdown",
   "id": "controlled-heritage",
   "metadata": {},
   "source": [
    "# 07TestCOVID19"
   ]
  },
  {
   "cell_type": "markdown",
   "id": "every-inspiration",
   "metadata": {},
   "source": [
    "# Libraries"
   ]
  },
  {
   "cell_type": "code",
   "execution_count": 2,
   "id": "developing-fiction",
   "metadata": {},
   "outputs": [],
   "source": [
    "%matplotlib inline\n",
    "\n",
    "import pandas as pd\n",
    "import numpy as np\n",
    "import seaborn as sns\n",
    "import matplotlib.pyplot as plt\n",
    "import warnings\n",
    "import datetime\n",
    "\n",
    "from IPython.display import display"
   ]
  },
  {
   "cell_type": "markdown",
   "id": "specified-working",
   "metadata": {},
   "source": [
    "# Load Data"
   ]
  },
  {
   "cell_type": "code",
   "execution_count": 3,
   "id": "incident-austin",
   "metadata": {},
   "outputs": [],
   "source": [
    "test = pd.read_csv(\"C:\\py\\Projects\\TuringCollege\\COVID19\\DataSets\\\\test.csv\", parse_dates =[\"date\"], index_col =\"date\")"
   ]
  },
  {
   "cell_type": "markdown",
   "id": "killing-trouble",
   "metadata": {},
   "source": [
    "# Size"
   ]
  },
  {
   "cell_type": "code",
   "execution_count": 4,
   "id": "dedicated-surname",
   "metadata": {
    "scrolled": true
   },
   "outputs": [
    {
     "data": {
      "text/plain": [
       "(163, 6)"
      ]
     },
     "execution_count": 4,
     "metadata": {},
     "output_type": "execute_result"
    }
   ],
   "source": [
    "test.shape"
   ]
  },
  {
   "cell_type": "markdown",
   "id": "popular-research",
   "metadata": {},
   "source": [
    "# Missing Data"
   ]
  },
  {
   "cell_type": "code",
   "execution_count": 5,
   "id": "immune-tactics",
   "metadata": {
    "scrolled": false
   },
   "outputs": [
    {
     "data": {
      "text/plain": [
       "time         0\n",
       "test         0\n",
       "negative     0\n",
       "confirmed    0\n",
       "released     0\n",
       "deceased     0\n",
       "dtype: int64"
      ]
     },
     "execution_count": 5,
     "metadata": {},
     "output_type": "execute_result"
    }
   ],
   "source": [
    "test.isna().sum()"
   ]
  },
  {
   "cell_type": "markdown",
   "id": "hidden-alliance",
   "metadata": {},
   "source": [
    "# Data Types"
   ]
  },
  {
   "cell_type": "code",
   "execution_count": 6,
   "id": "coated-indonesia",
   "metadata": {
    "scrolled": false
   },
   "outputs": [
    {
     "data": {
      "text/plain": [
       "time         int64\n",
       "test         int64\n",
       "negative     int64\n",
       "confirmed    int64\n",
       "released     int64\n",
       "deceased     int64\n",
       "dtype: object"
      ]
     },
     "execution_count": 6,
     "metadata": {},
     "output_type": "execute_result"
    }
   ],
   "source": [
    "test.dtypes"
   ]
  },
  {
   "cell_type": "markdown",
   "id": "forced-ministry",
   "metadata": {},
   "source": [
    "# Delete Unneeded Columns"
   ]
  },
  {
   "cell_type": "code",
   "execution_count": 7,
   "id": "selective-mirror",
   "metadata": {},
   "outputs": [],
   "source": [
    "test = test.drop([\"time\", \"released\", \"test\", \"negative\", \"deceased\"], axis=1)"
   ]
  },
  {
   "cell_type": "markdown",
   "id": "green-arrangement",
   "metadata": {},
   "source": [
    "# Rename Columns"
   ]
  },
  {
   "cell_type": "code",
   "execution_count": 8,
   "id": "turkish-rental",
   "metadata": {},
   "outputs": [],
   "source": [
    "test.rename(\n",
    "    columns={\n",
    "        \"confirmed\": \"Confirmed\"  \n",
    "    },\n",
    "    inplace=True,\n",
    ")\n",
    "test.index.names = ['Date']"
   ]
  },
  {
   "cell_type": "markdown",
   "id": "minus-keeping",
   "metadata": {},
   "source": [
    "# The First Five Rows"
   ]
  },
  {
   "cell_type": "code",
   "execution_count": 9,
   "id": "sunset-windsor",
   "metadata": {},
   "outputs": [
    {
     "data": {
      "text/html": [
       "<div>\n",
       "<style scoped>\n",
       "    .dataframe tbody tr th:only-of-type {\n",
       "        vertical-align: middle;\n",
       "    }\n",
       "\n",
       "    .dataframe tbody tr th {\n",
       "        vertical-align: top;\n",
       "    }\n",
       "\n",
       "    .dataframe thead th {\n",
       "        text-align: right;\n",
       "    }\n",
       "</style>\n",
       "<table border=\"1\" class=\"dataframe\">\n",
       "  <thead>\n",
       "    <tr style=\"text-align: right;\">\n",
       "      <th></th>\n",
       "      <th>Confirmed</th>\n",
       "    </tr>\n",
       "    <tr>\n",
       "      <th>Date</th>\n",
       "      <th></th>\n",
       "    </tr>\n",
       "  </thead>\n",
       "  <tbody>\n",
       "    <tr>\n",
       "      <th>2020-01-20</th>\n",
       "      <td>1</td>\n",
       "    </tr>\n",
       "    <tr>\n",
       "      <th>2020-01-21</th>\n",
       "      <td>1</td>\n",
       "    </tr>\n",
       "    <tr>\n",
       "      <th>2020-01-22</th>\n",
       "      <td>1</td>\n",
       "    </tr>\n",
       "    <tr>\n",
       "      <th>2020-01-23</th>\n",
       "      <td>1</td>\n",
       "    </tr>\n",
       "    <tr>\n",
       "      <th>2020-01-24</th>\n",
       "      <td>2</td>\n",
       "    </tr>\n",
       "  </tbody>\n",
       "</table>\n",
       "</div>"
      ],
      "text/plain": [
       "            Confirmed\n",
       "Date                 \n",
       "2020-01-20          1\n",
       "2020-01-21          1\n",
       "2020-01-22          1\n",
       "2020-01-23          1\n",
       "2020-01-24          2"
      ]
     },
     "execution_count": 9,
     "metadata": {},
     "output_type": "execute_result"
    }
   ],
   "source": [
    "test.head()"
   ]
  },
  {
   "cell_type": "code",
   "execution_count": 10,
   "id": "simple-barrel",
   "metadata": {},
   "outputs": [
    {
     "data": {
      "text/html": [
       "<div>\n",
       "<style scoped>\n",
       "    .dataframe tbody tr th:only-of-type {\n",
       "        vertical-align: middle;\n",
       "    }\n",
       "\n",
       "    .dataframe tbody tr th {\n",
       "        vertical-align: top;\n",
       "    }\n",
       "\n",
       "    .dataframe thead th {\n",
       "        text-align: right;\n",
       "    }\n",
       "</style>\n",
       "<table border=\"1\" class=\"dataframe\">\n",
       "  <thead>\n",
       "    <tr style=\"text-align: right;\">\n",
       "      <th></th>\n",
       "      <th>Date</th>\n",
       "      <th>Confirmed</th>\n",
       "      <th>Month</th>\n",
       "    </tr>\n",
       "  </thead>\n",
       "  <tbody>\n",
       "    <tr>\n",
       "      <th>0</th>\n",
       "      <td>2020-01-31</td>\n",
       "      <td>11</td>\n",
       "      <td>January</td>\n",
       "    </tr>\n",
       "    <tr>\n",
       "      <th>1</th>\n",
       "      <td>2020-02-29</td>\n",
       "      <td>3150</td>\n",
       "      <td>February</td>\n",
       "    </tr>\n",
       "    <tr>\n",
       "      <th>2</th>\n",
       "      <td>2020-03-31</td>\n",
       "      <td>9786</td>\n",
       "      <td>March</td>\n",
       "    </tr>\n",
       "    <tr>\n",
       "      <th>3</th>\n",
       "      <td>2020-04-30</td>\n",
       "      <td>10765</td>\n",
       "      <td>April</td>\n",
       "    </tr>\n",
       "    <tr>\n",
       "      <th>4</th>\n",
       "      <td>2020-05-31</td>\n",
       "      <td>11468</td>\n",
       "      <td>May</td>\n",
       "    </tr>\n",
       "    <tr>\n",
       "      <th>5</th>\n",
       "      <td>2020-06-30</td>\n",
       "      <td>12800</td>\n",
       "      <td>June</td>\n",
       "    </tr>\n",
       "  </tbody>\n",
       "</table>\n",
       "</div>"
      ],
      "text/plain": [
       "        Date  Confirmed     Month\n",
       "0 2020-01-31         11   January\n",
       "1 2020-02-29       3150  February\n",
       "2 2020-03-31       9786     March\n",
       "3 2020-04-30      10765     April\n",
       "4 2020-05-31      11468       May\n",
       "5 2020-06-30      12800      June"
      ]
     },
     "execution_count": 10,
     "metadata": {},
     "output_type": "execute_result"
    }
   ],
   "source": [
    "test = test.asfreq(freq='M')\n",
    "test = test.reset_index()\n",
    "test['Month'] = test['Date'].dt.strftime('%B')\n",
    "test"
   ]
  },
  {
   "cell_type": "markdown",
   "id": "juvenile-interview",
   "metadata": {},
   "source": [
    "# Visualizations"
   ]
  },
  {
   "cell_type": "code",
   "execution_count": 18,
   "id": "registered-africa",
   "metadata": {},
   "outputs": [
    {
     "data": {
      "image/png": "[encoded data removed]",
      "text/plain": [
       "<Figure size 720x720 with 1 Axes>"
      ]
     },
     "metadata": {},
     "output_type": "display_data"
    }
   ],
   "source": [
    "plt.figure(figsize=(10, 10))\n",
    "sns.set(style=\"whitegrid\")\n",
    "# sns.set_context(\"paper\", font_scale=2.0)\n",
    "\n",
    "sns.lineplot(x=\"Month\", y=\"Confirmed\", data=test, marker='o', markeredgecolor='b', color=\"bisque\", linewidth=2.5)\n",
    "\n",
    "plt.xlabel(\"Month\", fontsize=25, labelpad=15)\n",
    "plt.ylabel(\"Confirmed Cases\", fontsize=25, labelpad=15)\n",
    "\n",
    "plt.title(\"Confirmed Cases January to June 2020\", fontsize=30, y=1.05)\n",
    "sns.despine(left=True, bottom=True)"
   ]
  },
  {
   "cell_type": "code",
   "execution_count": null,
   "id": "continued-wiring",
   "metadata": {},
   "outputs": [],
   "source": []
  },
  {
   "cell_type": "code",
   "execution_count": null,
   "id": "surrounded-presence",
   "metadata": {},
   "outputs": [],
   "source": []
  }
 ],
 "metadata": {
  "kernelspec": {
   "display_name": "Python 3",
   "language": "python",
   "name": "python3"
  },
  "language_info": {
   "codemirror_mode": {
    "name": "ipython",
    "version": 3
   },
   "file_extension": ".py",
   "mimetype": "text/x-python",
   "name": "python",
   "nbconvert_exporter": "python",
   "pygments_lexer": "ipython3",
   "version": "3.9.6"
  },
  "toc": {
   "base_numbering": 1,
   "nav_menu": {},
   "number_sections": true,
   "sideBar": true,
   "skip_h1_title": false,
   "title_cell": "Table of Contents",
   "title_sidebar": "Contents",
   "toc_cell": false,
   "toc_position": {},
   "toc_section_display": true,
   "toc_window_display": false
  }
 },
 "nbformat": 4,
 "nbformat_minor": 5
}
