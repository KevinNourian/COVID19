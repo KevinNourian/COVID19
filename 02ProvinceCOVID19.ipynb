{
 "cells": [
  {
   "cell_type": "markdown",
   "id": "corresponding-arrival",
   "metadata": {},
   "source": [
    "# 02ProvinceCOVID19"
   ]
  },
  {
   "cell_type": "markdown",
   "id": "every-inspiration",
   "metadata": {},
   "source": [
    "# Libraries"
   ]
  },
  {
   "cell_type": "code",
   "execution_count": 1,
   "id": "developing-fiction",
   "metadata": {},
   "outputs": [],
   "source": [
    "%matplotlib inline\n",
    "\n",
    "import pandas as pd\n",
    "import numpy as np\n",
    "import seaborn as sns\n",
    "import matplotlib.pyplot as plt\n",
    "import warnings\n",
    "from IPython.display import display\n",
    "\n",
    "sns.set_palette(\"pastel\")"
   ]
  },
  {
   "cell_type": "markdown",
   "id": "specified-working",
   "metadata": {},
   "source": [
    "# Load Data"
   ]
  },
  {
   "cell_type": "code",
   "execution_count": 2,
   "id": "incident-austin",
   "metadata": {},
   "outputs": [],
   "source": [
    "province = pd.read_csv(\n",
    "    \"C:\\py\\Projects\\TuringCollege\\COVID19\\DataSets\\province.csv\",\n",
    "    index_col=False,\n",
    "    skipinitialspace=True,\n",
    ")"
   ]
  },
  {
   "cell_type": "markdown",
   "id": "systematic-stroke",
   "metadata": {},
   "source": [
    "# Size"
   ]
  },
  {
   "cell_type": "code",
   "execution_count": 3,
   "id": "narrow-millennium",
   "metadata": {
    "scrolled": true
   },
   "outputs": [
    {
     "data": {
      "text/plain": [
       "(2771, 6)"
      ]
     },
     "execution_count": 3,
     "metadata": {},
     "output_type": "execute_result"
    }
   ],
   "source": [
    "province.shape"
   ]
  },
  {
   "cell_type": "markdown",
   "id": "hidden-alliance",
   "metadata": {},
   "source": [
    "# Data Types"
   ]
  },
  {
   "cell_type": "code",
   "execution_count": 4,
   "id": "coated-indonesia",
   "metadata": {
    "scrolled": false
   },
   "outputs": [
    {
     "data": {
      "text/plain": [
       "date         object\n",
       "time          int64\n",
       "province     object\n",
       "confirmed     int64\n",
       "released      int64\n",
       "deceased      int64\n",
       "dtype: object"
      ]
     },
     "execution_count": 4,
     "metadata": {},
     "output_type": "execute_result"
    }
   ],
   "source": [
    "province.dtypes"
   ]
  },
  {
   "cell_type": "markdown",
   "id": "informed-draft",
   "metadata": {},
   "source": [
    "# Modify the Date Column"
   ]
  },
  {
   "cell_type": "code",
   "execution_count": 5,
   "id": "integral-encounter",
   "metadata": {},
   "outputs": [],
   "source": [
    "province[\"date\"] = province[\"date\"].astype(\"datetime64[ns]\")"
   ]
  },
  {
   "cell_type": "markdown",
   "id": "favorite-alberta",
   "metadata": {},
   "source": [
    "# Missing Data"
   ]
  },
  {
   "cell_type": "code",
   "execution_count": 6,
   "id": "concerned-throw",
   "metadata": {
    "scrolled": true
   },
   "outputs": [
    {
     "data": {
      "text/plain": [
       "date         0\n",
       "time         0\n",
       "province     0\n",
       "confirmed    0\n",
       "released     0\n",
       "deceased     0\n",
       "dtype: int64"
      ]
     },
     "execution_count": 6,
     "metadata": {},
     "output_type": "execute_result"
    }
   ],
   "source": [
    "province.isna().sum()"
   ]
  },
  {
   "cell_type": "markdown",
   "id": "forced-ministry",
   "metadata": {},
   "source": [
    "# Delete Unneeded Columns"
   ]
  },
  {
   "cell_type": "code",
   "execution_count": 7,
   "id": "selective-mirror",
   "metadata": {},
   "outputs": [],
   "source": [
    "province = province.drop([\"time\", \"released\"], axis=1)"
   ]
  },
  {
   "cell_type": "markdown",
   "id": "green-arrangement",
   "metadata": {},
   "source": [
    "# Rename Columns"
   ]
  },
  {
   "cell_type": "code",
   "execution_count": 8,
   "id": "turkish-rental",
   "metadata": {
    "scrolled": true
   },
   "outputs": [],
   "source": [
    "province.rename(\n",
    "    columns={\n",
    "       \"date\": \"Date\",\n",
    "        \"province\": \"Province\",\n",
    "        \"confirmed\": \"Confirmed\",\n",
    "        \"deceased\": \"Deceased\"\n",
    "    },\n",
    "    inplace=True,\n",
    ")"
   ]
  },
  {
   "cell_type": "markdown",
   "id": "urban-reducing",
   "metadata": {},
   "source": [
    "# The First Five Rows"
   ]
  },
  {
   "cell_type": "code",
   "execution_count": 9,
   "id": "closing-malpractice",
   "metadata": {
    "scrolled": true
   },
   "outputs": [
    {
     "data": {
      "text/html": [
       "<div>\n",
       "<style scoped>\n",
       "    .dataframe tbody tr th:only-of-type {\n",
       "        vertical-align: middle;\n",
       "    }\n",
       "\n",
       "    .dataframe tbody tr th {\n",
       "        vertical-align: top;\n",
       "    }\n",
       "\n",
       "    .dataframe thead th {\n",
       "        text-align: right;\n",
       "    }\n",
       "</style>\n",
       "<table border=\"1\" class=\"dataframe\">\n",
       "  <thead>\n",
       "    <tr style=\"text-align: right;\">\n",
       "      <th></th>\n",
       "      <th>Date</th>\n",
       "      <th>Province</th>\n",
       "      <th>Confirmed</th>\n",
       "      <th>Deceased</th>\n",
       "    </tr>\n",
       "  </thead>\n",
       "  <tbody>\n",
       "    <tr>\n",
       "      <th>0</th>\n",
       "      <td>2020-01-20</td>\n",
       "      <td>Seoul</td>\n",
       "      <td>0</td>\n",
       "      <td>0</td>\n",
       "    </tr>\n",
       "    <tr>\n",
       "      <th>1</th>\n",
       "      <td>2020-01-20</td>\n",
       "      <td>Busan</td>\n",
       "      <td>0</td>\n",
       "      <td>0</td>\n",
       "    </tr>\n",
       "    <tr>\n",
       "      <th>2</th>\n",
       "      <td>2020-01-20</td>\n",
       "      <td>Daegu</td>\n",
       "      <td>0</td>\n",
       "      <td>0</td>\n",
       "    </tr>\n",
       "    <tr>\n",
       "      <th>3</th>\n",
       "      <td>2020-01-20</td>\n",
       "      <td>Incheon</td>\n",
       "      <td>1</td>\n",
       "      <td>0</td>\n",
       "    </tr>\n",
       "    <tr>\n",
       "      <th>4</th>\n",
       "      <td>2020-01-20</td>\n",
       "      <td>Gwangju</td>\n",
       "      <td>0</td>\n",
       "      <td>0</td>\n",
       "    </tr>\n",
       "  </tbody>\n",
       "</table>\n",
       "</div>"
      ],
      "text/plain": [
       "        Date Province  Confirmed  Deceased\n",
       "0 2020-01-20    Seoul          0         0\n",
       "1 2020-01-20    Busan          0         0\n",
       "2 2020-01-20    Daegu          0         0\n",
       "3 2020-01-20  Incheon          1         0\n",
       "4 2020-01-20  Gwangju          0         0"
      ]
     },
     "execution_count": 9,
     "metadata": {},
     "output_type": "execute_result"
    }
   ],
   "source": [
    "province.head()"
   ]
  },
  {
   "cell_type": "markdown",
   "id": "received-estimate",
   "metadata": {},
   "source": [
    "# Confirmed Cases by Province"
   ]
  },
  {
   "cell_type": "code",
   "execution_count": 10,
   "id": "descending-building",
   "metadata": {},
   "outputs": [],
   "source": [
    "groupby_province = (\n",
    "    province[[\"Province\", \"Confirmed\"]]\n",
    "    .groupby([\"Province\"])\n",
    "    .max()\n",
    "    .sort_values(\"Confirmed\", ascending=False)\n",
    ")\n",
    "\n",
    "groupby_province = groupby_province.reset_index()"
   ]
  },
  {
   "cell_type": "code",
   "execution_count": 11,
   "id": "infinite-hacker",
   "metadata": {},
   "outputs": [],
   "source": [
    "groupby_province.query('Confirmed>1000', inplace=True)"
   ]
  },
  {
   "cell_type": "code",
   "execution_count": 13,
   "id": "noted-twenty",
   "metadata": {},
   "outputs": [
    {
     "data": {
      "image/png": "[encoded data removed]",
      "text/plain": [
       "<Figure size 720x720 with 1 Axes>"
      ]
     },
     "metadata": {
      "needs_background": "light"
     },
     "output_type": "display_data"
    }
   ],
   "source": [
    "plt.figure(figsize=(10, 10))\n",
    "\n",
    "plt.title(\"Highest Number of Confirmed Cases\", fontsize=30, y=1);\n",
    "\n",
    "ord_color = \"bisque\"\n",
    "spec_lev1 = \"red\"\n",
    "\n",
    "palette = {\n",
    "    \"Daegu\": spec_lev1,\n",
    "    \"Gyeongsangbuk-do\": ord_color,\n",
    "    \"Seoul\": ord_color,\n",
    "    \"Gyeonggi-do\": ord_color,\n",
    "}\n",
    "\n",
    "chart = sns.barplot(\n",
    "    x=\"Confirmed\",\n",
    "    y=\"Province\",\n",
    "    ci=None,\n",
    "    dodge=False,\n",
    "    data=groupby_province,\n",
    "    order=groupby_province.sort_values(\"Confirmed\", ascending=False).Province,\n",
    "    palette=palette\n",
    ")\n",
    "\n",
    "plt.xticks(fontsize=25)\n",
    "plt.yticks(fontsize=25)\n",
    "plt.xlabel(\"Confirmed\", fontsize=25, labelpad=25)\n",
    "plt.ylabel(\"Province\", fontsize=25, labelpad=25)\n",
    "\n",
    "sns.despine(left=True, bottom=True)\n",
    "chart.bar_label(chart.containers[0], size=25);"
   ]
  },
  {
   "cell_type": "code",
   "execution_count": null,
   "id": "radio-connecticut",
   "metadata": {},
   "outputs": [],
   "source": []
  },
  {
   "cell_type": "code",
   "execution_count": null,
   "id": "super-honor",
   "metadata": {},
   "outputs": [],
   "source": []
  },
  {
   "cell_type": "code",
   "execution_count": null,
   "id": "requested-friendship",
   "metadata": {},
   "outputs": [],
   "source": []
  },
  {
   "cell_type": "code",
   "execution_count": null,
   "id": "seventh-hayes",
   "metadata": {},
   "outputs": [],
   "source": []
  }
 ],
 "metadata": {
  "kernelspec": {
   "display_name": "Python 3",
   "language": "python",
   "name": "python3"
  },
  "language_info": {
   "codemirror_mode": {
    "name": "ipython",
    "version": 3
   },
   "file_extension": ".py",
   "mimetype": "text/x-python",
   "name": "python",
   "nbconvert_exporter": "python",
   "pygments_lexer": "ipython3",
   "version": "3.9.6"
  },
  "toc": {
   "base_numbering": 1,
   "nav_menu": {},
   "number_sections": true,
   "sideBar": true,
   "skip_h1_title": false,
   "title_cell": "Table of Contents",
   "title_sidebar": "Contents",
   "toc_cell": false,
   "toc_position": {},
   "toc_section_display": true,
   "toc_window_display": false
  }
 },
 "nbformat": 4,
 "nbformat_minor": 5
}
